{
 "cells": [
  {
   "cell_type": "code",
   "execution_count": null,
   "outputs": [],
   "source": [
    "!jupyter notebook --allow-root"
   ],
   "metadata": {
    "collapsed": false,
    "is_executing": true
   }
  },
  {
   "cell_type": "code",
   "execution_count": null,
   "outputs": [],
   "source": [],
   "metadata": {
    "collapsed": false,
    "is_executing": true
   }
  },
  {
   "cell_type": "code",
   "execution_count": null,
   "metadata": {
    "collapsed": true,
    "is_executing": true
   },
   "outputs": [],
   "source": [
    "import sympy as smp\n",
    "import numpy as np\n",
    "import matplotlib.pyplot as plt"
   ]
  },
  {
   "cell_type": "code",
   "execution_count": null,
   "outputs": [],
   "source": [
    "x=smp.symbols('x')"
   ],
   "metadata": {
    "collapsed": false,
    "is_executing": true
   }
  },
  {
   "cell_type": "code",
   "execution_count": 3,
   "outputs": [
    {
     "data": {
      "text/plain": "x**2",
      "text/latex": "$\\displaystyle x^{2}$"
     },
     "execution_count": 3,
     "metadata": {},
     "output_type": "execute_result"
    }
   ],
   "source": [
    "x**2"
   ],
   "metadata": {
    "collapsed": false,
    "ExecuteTime": {
     "end_time": "2023-07-20T05:01:49.499581Z",
     "start_time": "2023-07-20T05:01:49.478706Z"
    }
   }
  },
  {
   "cell_type": "code",
   "execution_count": 109,
   "outputs": [],
   "source": [
    "y=smp.sin(x)"
   ],
   "metadata": {
    "collapsed": false,
    "ExecuteTime": {
     "end_time": "2023-07-10T01:51:13.072611Z",
     "start_time": "2023-07-10T01:51:13.069016Z"
    }
   }
  },
  {
   "cell_type": "code",
   "execution_count": 110,
   "outputs": [],
   "source": [
    "z=y-x**2"
   ],
   "metadata": {
    "collapsed": false,
    "ExecuteTime": {
     "end_time": "2023-07-10T01:51:13.246341Z",
     "start_time": "2023-07-10T01:51:13.243542Z"
    }
   }
  },
  {
   "cell_type": "code",
   "execution_count": null,
   "outputs": [],
   "source": [
    "z"
   ],
   "metadata": {
    "collapsed": false
   }
  },
  {
   "cell_type": "code",
   "execution_count": null,
   "outputs": [],
   "source": [
    "print(z)"
   ],
   "metadata": {
    "collapsed": false
   }
  },
  {
   "cell_type": "code",
   "execution_count": null,
   "outputs": [],
   "source": [
    " z.factor()"
   ],
   "metadata": {
    "collapsed": false
   }
  },
  {
   "cell_type": "code",
   "execution_count": 202,
   "outputs": [
    {
     "data": {
      "text/plain": "z",
      "text/latex": "$\\displaystyle z$"
     },
     "execution_count": 202,
     "metadata": {},
     "output_type": "execute_result"
    }
   ],
   "source": [
    "z.expand()"
   ],
   "metadata": {
    "collapsed": false,
    "ExecuteTime": {
     "end_time": "2023-07-10T08:00:08.332616Z",
     "start_time": "2023-07-10T08:00:08.330853Z"
    }
   }
  },
  {
   "cell_type": "code",
   "execution_count": null,
   "outputs": [],
   "source": [
    "z.diff(x)"
   ],
   "metadata": {
    "collapsed": false
   }
  },
  {
   "cell_type": "code",
   "execution_count": null,
   "outputs": [],
   "source": [
    "z.diff(x,2)"
   ],
   "metadata": {
    "collapsed": false
   }
  },
  {
   "cell_type": "code",
   "execution_count": null,
   "outputs": [],
   "source": [
    "x,y,z=smp.symbols('x,y,z')\n",
    "F=x**2+smp.sin(z)*y\n",
    "F"
   ],
   "metadata": {
    "collapsed": false
   }
  },
  {
   "cell_type": "code",
   "execution_count": null,
   "outputs": [],
   "source": [
    "x_sols=smp.solve(F,x)\n",
    "x_sols"
   ],
   "metadata": {
    "collapsed": false
   }
  },
  {
   "cell_type": "code",
   "execution_count": null,
   "outputs": [],
   "source": [
    "z_sols=smp.solve(F,z)\n",
    "z_sols"
   ],
   "metadata": {
    "collapsed": false
   }
  },
  {
   "cell_type": "code",
   "execution_count": null,
   "outputs": [],
   "source": [
    "构造方程"
   ],
   "metadata": {
    "collapsed": false
   }
  },
  {
   "cell_type": "code",
   "execution_count": 138,
   "outputs": [
    {
     "data": {
      "text/plain": "asin(x**2/y) + pi",
      "text/latex": "$\\displaystyle \\operatorname{asin}{\\left(\\frac{x^{2}}{y} \\right)} + \\pi$"
     },
     "execution_count": 138,
     "metadata": {},
     "output_type": "execute_result"
    }
   ],
   "source": [
    "expr=z_sols[0]\n",
    "expr"
   ],
   "metadata": {
    "collapsed": false,
    "ExecuteTime": {
     "end_time": "2023-07-10T06:12:10.427849Z",
     "start_time": "2023-07-10T06:12:10.425894Z"
    }
   }
  },
  {
   "cell_type": "code",
   "execution_count": 140,
   "outputs": [
    {
     "ename": "TypeError",
     "evalue": "loop of ufunc does not support argument 0 of type Pow which has no callable arcsin method",
     "output_type": "error",
     "traceback": [
      "\u001B[0;31m---------------------------------------------------------------------------\u001B[0m",
      "\u001B[0;31mAttributeError\u001B[0m                            Traceback (most recent call last)",
      "\u001B[0;31mAttributeError\u001B[0m: 'Pow' object has no attribute 'arcsin'",
      "\nThe above exception was the direct cause of the following exception:\n",
      "\u001B[0;31mTypeError\u001B[0m                                 Traceback (most recent call last)",
      "Cell \u001B[0;32mIn[140], line 2\u001B[0m\n\u001B[1;32m      1\u001B[0m expr_f\u001B[38;5;241m=\u001B[39msmp\u001B[38;5;241m.\u001B[39mlambdify([x,y],expr)\n\u001B[0;32m----> 2\u001B[0m \u001B[43mexpr_f\u001B[49m\u001B[43m(\u001B[49m\u001B[38;5;241;43m1\u001B[39;49m\u001B[43m,\u001B[49m\u001B[38;5;241;43m2\u001B[39;49m\u001B[43m)\u001B[49m\n",
      "File \u001B[0;32m<lambdifygenerated-5>:2\u001B[0m, in \u001B[0;36m_lambdifygenerated\u001B[0;34m(x, _Dummy_836)\u001B[0m\n\u001B[1;32m      1\u001B[0m \u001B[38;5;28;01mdef\u001B[39;00m \u001B[38;5;21m_lambdifygenerated\u001B[39m(x, _Dummy_836):\n\u001B[0;32m----> 2\u001B[0m     \u001B[38;5;28;01mreturn\u001B[39;00m \u001B[43marcsin\u001B[49m\u001B[43m(\u001B[49m\u001B[43mx\u001B[49m\u001B[38;5;241;43m*\u001B[39;49m\u001B[38;5;241;43m*\u001B[39;49m\u001B[38;5;241;43m2\u001B[39;49m\u001B[38;5;241;43m/\u001B[39;49m\u001B[43my\u001B[49m\u001B[43m)\u001B[49m \u001B[38;5;241m+\u001B[39m pi\n",
      "\u001B[0;31mTypeError\u001B[0m: loop of ufunc does not support argument 0 of type Pow which has no callable arcsin method"
     ]
    }
   ],
   "source": [
    "expr_f=smp.lambdify([x,y],expr)\n",
    "expr_f(1,2)"
   ],
   "metadata": {
    "collapsed": false,
    "ExecuteTime": {
     "end_time": "2023-07-10T06:12:25.345481Z",
     "start_time": "2023-07-10T06:12:25.344746Z"
    }
   }
  },
  {
   "cell_type": "code",
   "execution_count": 141,
   "outputs": [
    {
     "ename": "TypeError",
     "evalue": "loop of ufunc does not support argument 0 of type Mul which has no callable arcsin method",
     "output_type": "error",
     "traceback": [
      "\u001B[0;31m---------------------------------------------------------------------------\u001B[0m",
      "\u001B[0;31mAttributeError\u001B[0m                            Traceback (most recent call last)",
      "\u001B[0;31mAttributeError\u001B[0m: 'Mul' object has no attribute 'arcsin'",
      "\nThe above exception was the direct cause of the following exception:\n",
      "\u001B[0;31mTypeError\u001B[0m                                 Traceback (most recent call last)",
      "Cell \u001B[0;32mIn[141], line 3\u001B[0m\n\u001B[1;32m      1\u001B[0m x_num\u001B[38;5;241m=\u001B[39mnp\u001B[38;5;241m.\u001B[39mlinspace(\u001B[38;5;241m-\u001B[39m\u001B[38;5;241m2\u001B[39m,\u001B[38;5;241m2\u001B[39m,\u001B[38;5;241m100\u001B[39m)\n\u001B[1;32m      2\u001B[0m y_num\u001B[38;5;241m=\u001B[39m\u001B[38;5;241m2\u001B[39m\n\u001B[0;32m----> 3\u001B[0m plt\u001B[38;5;241m.\u001B[39mplot(x_num,\u001B[43mexpr_f\u001B[49m\u001B[43m(\u001B[49m\u001B[43mx_num\u001B[49m\u001B[43m,\u001B[49m\u001B[43my_num\u001B[49m\u001B[43m)\u001B[49m)\n\u001B[1;32m      4\u001B[0m plt\u001B[38;5;241m.\u001B[39mshow()\n",
      "File \u001B[0;32m<lambdifygenerated-5>:2\u001B[0m, in \u001B[0;36m_lambdifygenerated\u001B[0;34m(x, _Dummy_836)\u001B[0m\n\u001B[1;32m      1\u001B[0m \u001B[38;5;28;01mdef\u001B[39;00m \u001B[38;5;21m_lambdifygenerated\u001B[39m(x, _Dummy_836):\n\u001B[0;32m----> 2\u001B[0m     \u001B[38;5;28;01mreturn\u001B[39;00m \u001B[43marcsin\u001B[49m\u001B[43m(\u001B[49m\u001B[43mx\u001B[49m\u001B[38;5;241;43m*\u001B[39;49m\u001B[38;5;241;43m*\u001B[39;49m\u001B[38;5;241;43m2\u001B[39;49m\u001B[38;5;241;43m/\u001B[39;49m\u001B[43my\u001B[49m\u001B[43m)\u001B[49m \u001B[38;5;241m+\u001B[39m pi\n",
      "\u001B[0;31mTypeError\u001B[0m: loop of ufunc does not support argument 0 of type Mul which has no callable arcsin method"
     ]
    }
   ],
   "source": [
    "x_num=np.linspace(-2,2,100)\n",
    "y_num=2\n",
    "plt.plot(x_num,expr_f(x_num,y_num))\n",
    "plt.show()"
   ],
   "metadata": {
    "collapsed": false,
    "ExecuteTime": {
     "end_time": "2023-07-10T06:12:27.598738Z",
     "start_time": "2023-07-10T06:12:27.594199Z"
    }
   }
  },
  {
   "cell_type": "code",
   "execution_count": null,
   "outputs": [],
   "source": [
    "F"
   ],
   "metadata": {
    "collapsed": false
   }
  },
  {
   "cell_type": "code",
   "execution_count": null,
   "outputs": [],
   "source": [
    "F.subs([(x,1),(y,2),(z,3)])"
   ],
   "metadata": {
    "collapsed": false
   }
  },
  {
   "cell_type": "code",
   "execution_count": null,
   "outputs": [],
   "source": [],
   "metadata": {
    "collapsed": false
   }
  },
  {
   "cell_type": "markdown",
   "source": [
    "h0（t）=hp（t）\n",
    "dh0（t）/dt=-dhp（t）/dt\n",
    "initial condition:h0,v0"
   ],
   "metadata": {
    "collapsed": false
   }
  },
  {
   "cell_type": "markdown",
   "source": [
    "为了构造方程，我们需要知道构造eq1,eq2 ,移动到左边"
   ],
   "metadata": {
    "collapsed": false
   }
  },
  {
   "cell_type": "markdown",
   "source": [],
   "metadata": {
    "collapsed": false
   }
  },
  {
   "cell_type": "code",
   "execution_count": null,
   "outputs": [],
   "source": [
    "t,h0,v0,g,vp,q =smp.symbols('t,h0,v0,g,vp,q',real=True,positve=True)"
   ],
   "metadata": {
    "collapsed": false
   }
  },
  {
   "cell_type": "markdown",
   "source": [],
   "metadata": {
    "collapsed": false
   }
  },
  {
   "cell_type": "markdown",
   "source": [],
   "metadata": {
    "collapsed": false
   }
  },
  {
   "cell_type": "code",
   "execution_count": null,
   "outputs": [],
   "source": [
    "smp.Rational(1,2)"
   ],
   "metadata": {
    "collapsed": false
   }
  },
  {
   "cell_type": "code",
   "execution_count": 91,
   "outputs": [],
   "source": [
    "h0t=h0-v0*t-smp.Rational(1,2)*g*t**2\n",
    "dh0dt=g*t-v0\n",
    "hpt=vp*t+smp.Rational(1,2)*q*t**2\n",
    "dhpdt=vp+q*t"
   ],
   "metadata": {
    "collapsed": false,
    "ExecuteTime": {
     "end_time": "2023-07-10T01:38:58.742111Z",
     "start_time": "2023-07-10T01:38:58.731438Z"
    }
   }
  },
  {
   "cell_type": "code",
   "execution_count": 92,
   "outputs": [
    {
     "data": {
      "text/plain": "q*t + vp",
      "text/latex": "$\\displaystyle q t + vp$"
     },
     "execution_count": 92,
     "metadata": {},
     "output_type": "execute_result"
    }
   ],
   "source": [
    "dhpdt"
   ],
   "metadata": {
    "collapsed": false,
    "ExecuteTime": {
     "end_time": "2023-07-10T01:38:59.246690Z",
     "start_time": "2023-07-10T01:38:59.243697Z"
    }
   }
  },
  {
   "cell_type": "code",
   "execution_count": 93,
   "outputs": [],
   "source": [
    "eq1=h0t-hpt\n",
    "eq2=dh0dt+dhpdt"
   ],
   "metadata": {
    "collapsed": false,
    "ExecuteTime": {
     "end_time": "2023-07-10T01:39:00.514973Z",
     "start_time": "2023-07-10T01:39:00.510867Z"
    }
   }
  },
  {
   "cell_type": "code",
   "execution_count": 94,
   "outputs": [
    {
     "data": {
      "text/plain": "g*t + q*t - v0 + vp",
      "text/latex": "$\\displaystyle g t + q t - v_{0} + vp$"
     },
     "execution_count": 94,
     "metadata": {},
     "output_type": "execute_result"
    }
   ],
   "source": [
    "eq2"
   ],
   "metadata": {
    "collapsed": false,
    "ExecuteTime": {
     "end_time": "2023-07-10T01:39:01.583742Z",
     "start_time": "2023-07-10T01:39:01.578731Z"
    }
   }
  },
  {
   "cell_type": "markdown",
   "source": [
    "sovle the eqs"
   ],
   "metadata": {
    "collapsed": false
   }
  },
  {
   "cell_type": "code",
   "execution_count": 100,
   "outputs": [
    {
     "data": {
      "text/plain": "((-2*vp/3 - sqrt(2)*sqrt(3*g*h0 + 3*h0*q + 2*vp**2)/3)/(g + q),\n vp/3 - sqrt(2)*sqrt(3*g*h0 + 3*h0*q + 2*vp**2)/3)"
     },
     "execution_count": 100,
     "metadata": {},
     "output_type": "execute_result"
    }
   ],
   "source": [
    "smp.solve([eq1, eq2],[t, v0])[0]"
   ],
   "metadata": {
    "collapsed": false,
    "ExecuteTime": {
     "end_time": "2023-07-10T01:40:48.687127Z",
     "start_time": "2023-07-10T01:40:48.685324Z"
    }
   }
  },
  {
   "cell_type": "code",
   "execution_count": 101,
   "outputs": [],
   "source": [
    "t_collide,v_initfall=smp.solve([eq1, eq2],[t, v0])[0]"
   ],
   "metadata": {
    "collapsed": false,
    "ExecuteTime": {
     "end_time": "2023-07-10T01:42:15.458429Z",
     "start_time": "2023-07-10T01:42:15.455071Z"
    }
   }
  },
  {
   "cell_type": "code",
   "execution_count": 102,
   "outputs": [
    {
     "data": {
      "text/plain": "vp/3 - sqrt(2)*sqrt(3*g*h0 + 3*h0*q + 2*vp**2)/3",
      "text/latex": "$\\displaystyle \\frac{vp}{3} - \\frac{\\sqrt{2} \\sqrt{3 g h_{0} + 3 h_{0} q + 2 vp^{2}}}{3}$"
     },
     "execution_count": 102,
     "metadata": {},
     "output_type": "execute_result"
    }
   ],
   "source": [
    "v_initfall"
   ],
   "metadata": {
    "collapsed": false,
    "ExecuteTime": {
     "end_time": "2023-07-10T01:42:20.668940Z",
     "start_time": "2023-07-10T01:42:20.656286Z"
    }
   }
  },
  {
   "cell_type": "code",
   "execution_count": 104,
   "outputs": [
    {
     "data": {
      "text/plain": "(-g*vp - q*vp/3 + q*sqrt(6*g*h0 + 6*h0*q + 4*vp**2)/3)/(g + q)",
      "text/latex": "$\\displaystyle \\frac{- g vp - \\frac{q vp}{3} + \\frac{q \\sqrt{6 g h_{0} + 6 h_{0} q + 4 vp^{2}}}{3}}{g + q}$"
     },
     "execution_count": 104,
     "metadata": {},
     "output_type": "execute_result"
    }
   ],
   "source": [
    "dh0dt.subs([(t,t_collide),(v0,v_initfall)]).simplify()"
   ],
   "metadata": {
    "collapsed": false,
    "ExecuteTime": {
     "end_time": "2023-07-10T01:43:16.636196Z",
     "start_time": "2023-07-10T01:43:16.634154Z"
    }
   }
  },
  {
   "cell_type": "code",
   "execution_count": 111,
   "outputs": [
    {
     "data": {
      "text/plain": "(g*vp + q*vp/3 - q*sqrt(6*g*h0 + 6*h0*q + 4*vp**2)/3)/(g + q)",
      "text/latex": "$\\displaystyle \\frac{g vp + \\frac{q vp}{3} - \\frac{q \\sqrt{6 g h_{0} + 6 h_{0} q + 4 vp^{2}}}{3}}{g + q}$"
     },
     "execution_count": 111,
     "metadata": {},
     "output_type": "execute_result"
    }
   ],
   "source": [
    "dhpdt.subs([(t,t_collide),(v0,v_initfall)]).simplify()"
   ],
   "metadata": {
    "collapsed": false,
    "ExecuteTime": {
     "end_time": "2023-07-10T01:51:19.327930Z",
     "start_time": "2023-07-10T01:51:19.305780Z"
    }
   }
  },
  {
   "cell_type": "markdown",
   "source": [
    "caluculus"
   ],
   "metadata": {
    "collapsed": false
   }
  },
  {
   "cell_type": "code",
   "execution_count": 112,
   "outputs": [],
   "source": [
    "x=smp.symbols('x')"
   ],
   "metadata": {
    "collapsed": false,
    "ExecuteTime": {
     "end_time": "2023-07-10T02:01:53.683321Z",
     "start_time": "2023-07-10T02:01:53.668460Z"
    }
   }
  },
  {
   "cell_type": "markdown",
   "source": [
    "limits\n",
    "$$\\lim_{x\\to \\pi} sin(x/2+sin(x))$$"
   ],
   "metadata": {
    "collapsed": false
   }
  },
  {
   "cell_type": "code",
   "execution_count": 116,
   "outputs": [
    {
     "data": {
      "text/plain": "1",
      "text/latex": "$\\displaystyle 1$"
     },
     "execution_count": 116,
     "metadata": {},
     "output_type": "execute_result"
    }
   ],
   "source": [
    "smp.limit(smp.sin(x/2+smp.sin(x)),x,smp.pi)"
   ],
   "metadata": {
    "collapsed": false,
    "ExecuteTime": {
     "end_time": "2023-07-10T02:04:17.370943Z",
     "start_time": "2023-07-10T02:04:17.365277Z"
    }
   }
  },
  {
   "cell_type": "markdown",
   "source": [
    "derivatives\n",
    "$$ {\\frac{d}{dx}}({\\frac{1+sinx}{1-cosx})^2}$$"
   ],
   "metadata": {
    "collapsed": false
   }
  },
  {
   "cell_type": "code",
   "execution_count": 119,
   "outputs": [
    {
     "data": {
      "text/plain": "(sin(x)**2 + 2*sin(x) - cos(x) + 1)/(cos(x) - 1)**3",
      "text/latex": "$\\displaystyle \\frac{\\sin^{2}{\\left(x \\right)} + 2 \\sin{\\left(x \\right)} - \\cos{\\left(x \\right)} + 1}{\\left(\\cos{\\left(x \\right)} - 1\\right)^{3}}$"
     },
     "execution_count": 119,
     "metadata": {},
     "output_type": "execute_result"
    }
   ],
   "source": [
    "smp.diff((1+smp.sin(x))/ \\\n",
    "         (1-smp.cos(x))**2,x).simplify()"
   ],
   "metadata": {
    "collapsed": false,
    "ExecuteTime": {
     "end_time": "2023-07-10T02:33:28.210084Z",
     "start_time": "2023-07-10T02:33:28.179437Z"
    }
   }
  },
  {
   "cell_type": "markdown",
   "source": [
    "$$ {\\frac{d}{dx}}{f(x+g(x))} $$"
   ],
   "metadata": {
    "collapsed": false
   }
  },
  {
   "cell_type": "code",
   "execution_count": 122,
   "outputs": [],
   "source": [
    "f,g=smp.symbols('f,g',cls=smp.Function)\n",
    "g=g(x)\n",
    "f=f(x+g)"
   ],
   "metadata": {
    "collapsed": false,
    "ExecuteTime": {
     "end_time": "2023-07-10T02:55:54.303097Z",
     "start_time": "2023-07-10T02:55:54.298401Z"
    }
   }
  },
  {
   "cell_type": "code",
   "execution_count": 123,
   "outputs": [
    {
     "data": {
      "text/plain": "f(x + g(x))",
      "text/latex": "$\\displaystyle f{\\left(x + g{\\left(x \\right)} \\right)}$"
     },
     "execution_count": 123,
     "metadata": {},
     "output_type": "execute_result"
    }
   ],
   "source": [
    "f"
   ],
   "metadata": {
    "collapsed": false,
    "ExecuteTime": {
     "end_time": "2023-07-10T02:56:02.803562Z",
     "start_time": "2023-07-10T02:56:02.797627Z"
    }
   }
  },
  {
   "cell_type": "code",
   "execution_count": 125,
   "outputs": [
    {
     "data": {
      "text/plain": "(Derivative(g(x), x) + 1)*Subs(Derivative(f(_xi_1), _xi_1), _xi_1, x + g(x))",
      "text/latex": "$\\displaystyle \\left(\\frac{d}{d x} g{\\left(x \\right)} + 1\\right) \\left. \\frac{d}{d \\xi_{1}} f{\\left(\\xi_{1} \\right)} \\right|_{\\substack{ \\xi_{1}=x + g{\\left(x \\right)} }}$"
     },
     "execution_count": 125,
     "metadata": {},
     "output_type": "execute_result"
    }
   ],
   "source": [
    "f.diff(x)"
   ],
   "metadata": {
    "collapsed": false,
    "ExecuteTime": {
     "end_time": "2023-07-10T02:59:03.519703Z",
     "start_time": "2023-07-10T02:59:03.515751Z"
    }
   }
  },
  {
   "cell_type": "code",
   "execution_count": 130,
   "outputs": [
    {
     "data": {
      "text/plain": "(cos(x) + 1)*Subs(Derivative(f(_xi_1), _xi_1), _xi_1, x + sin(x))",
      "text/latex": "$\\displaystyle \\left(\\cos{\\left(x \\right)} + 1\\right) \\left. \\frac{d}{d \\xi_{1}} f{\\left(\\xi_{1} \\right)} \\right|_{\\substack{ \\xi_{1}=x + \\sin{\\left(x \\right)} }}$"
     },
     "execution_count": 130,
     "metadata": {},
     "output_type": "execute_result"
    }
   ],
   "source": [
    "dfdx=f.diff(x).subs([(g,smp.sin(x))]).doit()\n",
    "dfdx"
   ],
   "metadata": {
    "collapsed": false,
    "ExecuteTime": {
     "end_time": "2023-07-10T03:00:19.444985Z",
     "start_time": "2023-07-10T03:00:19.440911Z"
    }
   }
  },
  {
   "cell_type": "markdown",
   "source": [
    "basic integrals\n",
    "$$ \\int_{1}^{t} x^{10} e^x dx$$"
   ],
   "metadata": {
    "collapsed": false
   }
  },
  {
   "cell_type": "code",
   "execution_count": 131,
   "outputs": [
    {
     "data": {
      "text/plain": "(t**10 - 10*t**9 + 90*t**8 - 720*t**7 + 5040*t**6 - 30240*t**5 + 151200*t**4 - 604800*t**3 + 1814400*t**2 - 3628800*t + 3628800)*exp(t) - 1334961*E",
      "text/latex": "$\\displaystyle \\left(t^{10} - 10 t^{9} + 90 t^{8} - 720 t^{7} + 5040 t^{6} - 30240 t^{5} + 151200 t^{4} - 604800 t^{3} + 1814400 t^{2} - 3628800 t + 3628800\\right) e^{t} - 1334961 e$"
     },
     "execution_count": 131,
     "metadata": {},
     "output_type": "execute_result"
    }
   ],
   "source": [
    "t=smp.symbols('t')\n",
    "smp.integrate(x**10*smp.exp(x),(x,1,t))"
   ],
   "metadata": {
    "collapsed": false,
    "ExecuteTime": {
     "end_time": "2023-07-10T03:04:17.174750Z",
     "start_time": "2023-07-10T03:04:17.126954Z"
    }
   }
  },
  {
   "cell_type": "markdown",
   "source": [
    "拉盖尔多项式\n"
   ],
   "metadata": {
    "collapsed": false
   }
  },
  {
   "cell_type": "code",
   "execution_count": 142,
   "outputs": [],
   "source": [
    "from sympy import assoc_laguerre\n"
   ],
   "metadata": {
    "collapsed": false,
    "ExecuteTime": {
     "end_time": "2023-07-10T06:12:46.254576Z",
     "start_time": "2023-07-10T06:12:46.251801Z"
    }
   }
  },
  {
   "cell_type": "code",
   "execution_count": 143,
   "outputs": [],
   "source": [
    "assoc_laguerre?"
   ],
   "metadata": {
    "collapsed": false,
    "ExecuteTime": {
     "end_time": "2023-07-10T06:12:46.612471Z",
     "start_time": "2023-07-10T06:12:46.607394Z"
    }
   }
  },
  {
   "cell_type": "markdown",
   "source": [
    "多变量积分"
   ],
   "metadata": {
    "collapsed": false
   }
  },
  {
   "cell_type": "code",
   "execution_count": 145,
   "outputs": [],
   "source": [
    "x,y,z,u1,u2,u3,v1,v2,v3,t=smp.symbols('x,y,z,u1,u2,u3,v1,v2,v3,t')\n"
   ],
   "metadata": {
    "collapsed": false,
    "ExecuteTime": {
     "end_time": "2023-07-10T06:15:22.481106Z",
     "start_time": "2023-07-10T06:15:22.477843Z"
    }
   }
  },
  {
   "cell_type": "code",
   "execution_count": 146,
   "outputs": [],
   "source": [
    "u=smp.Matrix([u1,u2,u3])\n",
    "v=smp.Matrix([v1,v2,v3])"
   ],
   "metadata": {
    "collapsed": false,
    "ExecuteTime": {
     "end_time": "2023-07-10T06:15:22.663488Z",
     "start_time": "2023-07-10T06:15:22.661375Z"
    }
   }
  },
  {
   "cell_type": "code",
   "execution_count": 147,
   "outputs": [
    {
     "data": {
      "text/plain": "Matrix([\n[2*u1 + v1],\n[2*u2 + v2],\n[2*u3 + v3]])",
      "text/latex": "$\\displaystyle \\left[\\begin{matrix}2 u_{1} + v_{1}\\\\2 u_{2} + v_{2}\\\\2 u_{3} + v_{3}\\end{matrix}\\right]$"
     },
     "execution_count": 147,
     "metadata": {},
     "output_type": "execute_result"
    }
   ],
   "source": [
    "2*u+v"
   ],
   "metadata": {
    "collapsed": false,
    "ExecuteTime": {
     "end_time": "2023-07-10T06:15:40.908649Z",
     "start_time": "2023-07-10T06:15:40.893595Z"
    }
   }
  },
  {
   "cell_type": "code",
   "execution_count": 149,
   "outputs": [
    {
     "data": {
      "text/plain": "u1*v1 + u2*v2 + u3*v3",
      "text/latex": "$\\displaystyle u_{1} v_{1} + u_{2} v_{2} + u_{3} v_{3}$"
     },
     "execution_count": 149,
     "metadata": {},
     "output_type": "execute_result"
    }
   ],
   "source": [
    "u.dot(v)"
   ],
   "metadata": {
    "collapsed": false,
    "ExecuteTime": {
     "end_time": "2023-07-10T06:16:36.876282Z",
     "start_time": "2023-07-10T06:16:36.873101Z"
    }
   }
  },
  {
   "cell_type": "code",
   "execution_count": 150,
   "outputs": [
    {
     "data": {
      "text/plain": "Matrix([\n[ u2*v3 - u3*v2],\n[-u1*v3 + u3*v1],\n[ u1*v2 - u2*v1]])",
      "text/latex": "$\\displaystyle \\left[\\begin{matrix}u_{2} v_{3} - u_{3} v_{2}\\\\- u_{1} v_{3} + u_{3} v_{1}\\\\u_{1} v_{2} - u_{2} v_{1}\\end{matrix}\\right]$"
     },
     "execution_count": 150,
     "metadata": {},
     "output_type": "execute_result"
    }
   ],
   "source": [
    "u.cross(v)#叉乘"
   ],
   "metadata": {
    "collapsed": false,
    "ExecuteTime": {
     "end_time": "2023-07-10T06:16:46.263899Z",
     "start_time": "2023-07-10T06:16:46.245973Z"
    }
   }
  },
  {
   "cell_type": "code",
   "execution_count": 151,
   "outputs": [
    {
     "data": {
      "text/plain": "sqrt(Abs(u1)**2 + Abs(u2)**2 + Abs(u3)**2)",
      "text/latex": "$\\displaystyle \\sqrt{\\left|{u_{1}}\\right|^{2} + \\left|{u_{2}}\\right|^{2} + \\left|{u_{3}}\\right|^{2}}$"
     },
     "execution_count": 151,
     "metadata": {},
     "output_type": "execute_result"
    }
   ],
   "source": [
    "u.norm()"
   ],
   "metadata": {
    "collapsed": false,
    "ExecuteTime": {
     "end_time": "2023-07-10T06:21:05.959500Z",
     "start_time": "2023-07-10T06:21:05.942409Z"
    }
   }
  },
  {
   "cell_type": "markdown",
   "source": [
    "算投影\n"
   ],
   "metadata": {
    "collapsed": false
   }
  },
  {
   "cell_type": "code",
   "execution_count": 153,
   "outputs": [
    {
     "data": {
      "text/plain": "Matrix([\n[v1*(u1*v1 + u2*v2 + u3*v3)/(Abs(v1)**2 + Abs(v2)**2 + Abs(v3)**2)],\n[v2*(u1*v1 + u2*v2 + u3*v3)/(Abs(v1)**2 + Abs(v2)**2 + Abs(v3)**2)],\n[v3*(u1*v1 + u2*v2 + u3*v3)/(Abs(v1)**2 + Abs(v2)**2 + Abs(v3)**2)]])",
      "text/latex": "$\\displaystyle \\left[\\begin{matrix}\\frac{v_{1} \\left(u_{1} v_{1} + u_{2} v_{2} + u_{3} v_{3}\\right)}{\\left|{v_{1}}\\right|^{2} + \\left|{v_{2}}\\right|^{2} + \\left|{v_{3}}\\right|^{2}}\\\\\\frac{v_{2} \\left(u_{1} v_{1} + u_{2} v_{2} + u_{3} v_{3}\\right)}{\\left|{v_{1}}\\right|^{2} + \\left|{v_{2}}\\right|^{2} + \\left|{v_{3}}\\right|^{2}}\\\\\\frac{v_{3} \\left(u_{1} v_{1} + u_{2} v_{2} + u_{3} v_{3}\\right)}{\\left|{v_{1}}\\right|^{2} + \\left|{v_{2}}\\right|^{2} + \\left|{v_{3}}\\right|^{2}}\\end{matrix}\\right]$"
     },
     "execution_count": 153,
     "metadata": {},
     "output_type": "execute_result"
    }
   ],
   "source": [
    "proj_u_v=u.dot(v)/v.norm()**2*v\n",
    "proj_u_v"
   ],
   "metadata": {
    "collapsed": false,
    "ExecuteTime": {
     "end_time": "2023-07-10T06:26:11.060785Z",
     "start_time": "2023-07-10T06:26:11.055167Z"
    }
   }
  },
  {
   "cell_type": "markdown",
   "source": [
    "line\n",
    "$$ \\vec{r(t)} =\\vec{r_0} +t \\vec{v} $$"
   ],
   "metadata": {
    "collapsed": false
   }
  },
  {
   "cell_type": "code",
   "execution_count": 157,
   "outputs": [
    {
     "data": {
      "text/plain": "Matrix([\n[1],\n[1],\n[1]])",
      "text/latex": "$\\displaystyle \\left[\\begin{matrix}1\\\\1\\\\1\\end{matrix}\\right]$"
     },
     "execution_count": 157,
     "metadata": {},
     "output_type": "execute_result"
    }
   ],
   "source": [
    "r0=smp.Matrix([1,1,1])\n",
    "r0"
   ],
   "metadata": {
    "collapsed": false,
    "ExecuteTime": {
     "end_time": "2023-07-10T06:32:07.260275Z",
     "start_time": "2023-07-10T06:32:07.255401Z"
    }
   }
  },
  {
   "cell_type": "code",
   "execution_count": 158,
   "outputs": [
    {
     "data": {
      "text/plain": "Matrix([\n[  t + 1],\n[3*t + 1],\n[  1 - t]])",
      "text/latex": "$\\displaystyle \\left[\\begin{matrix}t + 1\\\\3 t + 1\\\\1 - t\\end{matrix}\\right]$"
     },
     "execution_count": 158,
     "metadata": {},
     "output_type": "execute_result"
    }
   ],
   "source": [
    "v=smp.Matrix([1,3,-1])\n",
    "r=r0+t*v\n",
    "r"
   ],
   "metadata": {
    "collapsed": false,
    "ExecuteTime": {
     "end_time": "2023-07-10T06:32:07.425555Z",
     "start_time": "2023-07-10T06:32:07.423144Z"
    }
   }
  },
  {
   "cell_type": "markdown",
   "source": [
    "planes\n",
    "$$ \\vec{\\mathbf n} \\cdot ({\\mathbf p_0-(x_0,y_0,z_0)})=0 $$"
   ],
   "metadata": {
    "collapsed": false
   }
  },
  {
   "cell_type": "code",
   "execution_count": null,
   "outputs": [],
   "source": [],
   "metadata": {
    "collapsed": false
   }
  },
  {
   "cell_type": "code",
   "execution_count": 160,
   "outputs": [
    {
     "data": {
      "text/plain": "-x - y - z + 16",
      "text/latex": "$\\displaystyle - x - y - z + 16$"
     },
     "execution_count": 160,
     "metadata": {},
     "output_type": "execute_result"
    }
   ],
   "source": [
    "p_0=smp.Matrix([4,4,8])\n",
    "r=smp.Matrix([x,y,z])\n",
    "n=smp.Matrix([1,1,1])\n",
    "n.dot(p_0-r)"
   ],
   "metadata": {
    "collapsed": false,
    "ExecuteTime": {
     "end_time": "2023-07-10T06:44:26.833988Z",
     "start_time": "2023-07-10T06:44:26.824814Z"
    }
   }
  },
  {
   "cell_type": "markdown",
   "source": [
    "vector calculus {font-size:24px}\n"
   ],
   "metadata": {
    "collapsed": false
   }
  },
  {
   "cell_type": "markdown",
   "source": [],
   "metadata": {
    "collapsed": false
   }
  },
  {
   "cell_type": "code",
   "execution_count": 161,
   "outputs": [
    {
     "data": {
      "text/plain": "Matrix([\n[   3*t],\n[sin(t)],\n[  t**2]])",
      "text/latex": "$\\displaystyle \\left[\\begin{matrix}3 t\\\\\\sin{\\left(t \\right)}\\\\t^{2}\\end{matrix}\\right]$"
     },
     "execution_count": 161,
     "metadata": {},
     "output_type": "execute_result"
    }
   ],
   "source": [
    "r=smp.Matrix([3*t,smp.sin(t),t**2])\n",
    "r"
   ],
   "metadata": {
    "collapsed": false,
    "ExecuteTime": {
     "end_time": "2023-07-10T06:50:29.680892Z",
     "start_time": "2023-07-10T06:50:29.664371Z"
    }
   }
  },
  {
   "cell_type": "code",
   "execution_count": 164,
   "outputs": [],
   "source": [
    "a=smp.diff(r,t)"
   ],
   "metadata": {
    "collapsed": false,
    "ExecuteTime": {
     "end_time": "2023-07-10T06:51:28.922239Z",
     "start_time": "2023-07-10T06:51:28.918795Z"
    }
   }
  },
  {
   "cell_type": "code",
   "execution_count": 168,
   "outputs": [
    {
     "data": {
      "text/plain": "Matrix([\n[     3],\n[cos(1)],\n[     2]])",
      "text/latex": "$\\displaystyle \\left[\\begin{matrix}3\\\\\\cos{\\left(1 \\right)}\\\\2\\end{matrix}\\right]$"
     },
     "execution_count": 168,
     "metadata": {},
     "output_type": "execute_result"
    }
   ],
   "source": [
    "a.subs([(t,1)])"
   ],
   "metadata": {
    "collapsed": false,
    "ExecuteTime": {
     "end_time": "2023-07-10T06:53:19.331620Z",
     "start_time": "2023-07-10T06:53:19.329802Z"
    }
   }
  },
  {
   "cell_type": "markdown",
   "source": [],
   "metadata": {
    "collapsed": false
   }
  },
  {
   "cell_type": "markdown",
   "source": [
    "vector integrals"
   ],
   "metadata": {
    "collapsed": false
   }
  },
  {
   "cell_type": "code",
   "execution_count": 175,
   "outputs": [
    {
     "data": {
      "text/plain": "Matrix([\n[exp(t)*cos(t)],\n[         t**4],\n[ 1/(t**2 + 1)]])",
      "text/latex": "$\\displaystyle \\left[\\begin{matrix}e^{t} \\cos{\\left(t \\right)}\\\\t^{4}\\\\\\frac{1}{t^{2} + 1}\\end{matrix}\\right]$"
     },
     "execution_count": 175,
     "metadata": {},
     "output_type": "execute_result"
    }
   ],
   "source": [
    "r=smp.Matrix([smp.exp(t)*smp.cos(t),t**4,1/(1+t**2)])\n",
    "r"
   ],
   "metadata": {
    "collapsed": false,
    "ExecuteTime": {
     "end_time": "2023-07-10T06:56:06.853636Z",
     "start_time": "2023-07-10T06:56:06.849467Z"
    }
   }
  },
  {
   "cell_type": "code",
   "execution_count": 180,
   "outputs": [
    {
     "data": {
      "text/plain": "Matrix([\n[exp(t)*sin(t)/2 + exp(t)*cos(t)/2],\n[                           t**5/5],\n[                          atan(t)]])",
      "text/latex": "$\\displaystyle \\left[\\begin{matrix}\\frac{e^{t} \\sin{\\left(t \\right)}}{2} + \\frac{e^{t} \\cos{\\left(t \\right)}}{2}\\\\\\frac{t^{5}}{5}\\\\\\operatorname{atan}{\\left(t \\right)}\\end{matrix}\\right]$"
     },
     "execution_count": 180,
     "metadata": {},
     "output_type": "execute_result"
    }
   ],
   "source": [
    "smp.Integral(r).doit()"
   ],
   "metadata": {
    "collapsed": false,
    "ExecuteTime": {
     "end_time": "2023-07-10T06:56:45.070076Z",
     "start_time": "2023-07-10T06:56:45.068447Z"
    }
   }
  },
  {
   "cell_type": "markdown",
   "source": [
    "partial derivatives\n",
    "$$ {\\frac{\\partial}{\\partial x}}of { f(x,y)=y^2 sin(x+y)}$$"
   ],
   "metadata": {
    "collapsed": false
   }
  },
  {
   "cell_type": "code",
   "execution_count": 181,
   "outputs": [],
   "source": [
    "x,y,z=smp.symbols('x,y,z')"
   ],
   "metadata": {
    "collapsed": false,
    "ExecuteTime": {
     "end_time": "2023-07-10T07:09:23.639811Z",
     "start_time": "2023-07-10T07:09:23.634452Z"
    }
   }
  },
  {
   "cell_type": "code",
   "execution_count": 182,
   "outputs": [
    {
     "data": {
      "text/plain": "y**2*cos(x + y)",
      "text/latex": "$\\displaystyle y^{2} \\cos{\\left(x + y \\right)}$"
     },
     "execution_count": 182,
     "metadata": {},
     "output_type": "execute_result"
    }
   ],
   "source": [
    "f=y**2*smp.sin(x+y)\n",
    "smp.diff(f,x)"
   ],
   "metadata": {
    "collapsed": false,
    "ExecuteTime": {
     "end_time": "2023-07-10T07:09:35.843658Z",
     "start_time": "2023-07-10T07:09:35.824512Z"
    }
   }
  },
  {
   "cell_type": "markdown",
   "source": [
    "求$$ {\\frac{\\partial}{\\partial x y^2}}$$"
   ],
   "metadata": {
    "collapsed": false
   }
  },
  {
   "cell_type": "code",
   "execution_count": 185,
   "outputs": [
    {
     "data": {
      "text/plain": "-y**2*cos(x + y) - 4*y*sin(x + y) + 2*cos(x + y)",
      "text/latex": "$\\displaystyle - y^{2} \\cos{\\left(x + y \\right)} - 4 y \\sin{\\left(x + y \\right)} + 2 \\cos{\\left(x + y \\right)}$"
     },
     "execution_count": 185,
     "metadata": {},
     "output_type": "execute_result"
    }
   ],
   "source": [
    "smp.diff(f,y,y,x)"
   ],
   "metadata": {
    "collapsed": false,
    "ExecuteTime": {
     "end_time": "2023-07-10T07:17:22.267119Z",
     "start_time": "2023-07-10T07:17:22.262936Z"
    }
   }
  },
  {
   "cell_type": "markdown",
   "source": [
    " chain rule\n",
    "$w$ is a function of $ w=w(x,y,z)$"
   ],
   "metadata": {
    "collapsed": false
   }
  },
  {
   "cell_type": "code",
   "execution_count": 191,
   "outputs": [],
   "source": [
    "t=smp.symbols('t')\n",
    "x,y,z,w,v=smp.symbols('x,y,z,w,v',cls=smp.Function)"
   ],
   "metadata": {
    "collapsed": false,
    "ExecuteTime": {
     "end_time": "2023-07-10T07:22:13.905485Z",
     "start_time": "2023-07-10T07:22:13.900589Z"
    }
   }
  },
  {
   "cell_type": "code",
   "execution_count": 192,
   "outputs": [],
   "source": [
    "x=x(t)\n",
    "y=y(t)\n",
    "z=z(t)\n",
    "w=w(x,y,z)\n"
   ],
   "metadata": {
    "collapsed": false,
    "ExecuteTime": {
     "end_time": "2023-07-10T07:22:14.527302Z",
     "start_time": "2023-07-10T07:22:14.522687Z"
    }
   }
  },
  {
   "cell_type": "code",
   "execution_count": 193,
   "outputs": [
    {
     "data": {
      "text/plain": "w(x(t), y(t), z(t))",
      "text/latex": "$\\displaystyle w{\\left(x{\\left(t \\right)},y{\\left(t \\right)},z{\\left(t \\right)} \\right)}$"
     },
     "execution_count": 193,
     "metadata": {},
     "output_type": "execute_result"
    }
   ],
   "source": [
    "w"
   ],
   "metadata": {
    "collapsed": false,
    "ExecuteTime": {
     "end_time": "2023-07-10T07:22:16.957829Z",
     "start_time": "2023-07-10T07:22:16.932537Z"
    }
   }
  },
  {
   "cell_type": "code",
   "execution_count": 194,
   "outputs": [
    {
     "data": {
      "text/plain": "Derivative(w(x(t), y(t), z(t)), x(t))*Derivative(x(t), t) + Derivative(w(x(t), y(t), z(t)), y(t))*Derivative(y(t), t) + Derivative(w(x(t), y(t), z(t)), z(t))*Derivative(z(t), t)",
      "text/latex": "$\\displaystyle \\frac{d}{d x{\\left(t \\right)}} w{\\left(x{\\left(t \\right)},y{\\left(t \\right)},z{\\left(t \\right)} \\right)} \\frac{d}{d t} x{\\left(t \\right)} + \\frac{d}{d y{\\left(t \\right)}} w{\\left(x{\\left(t \\right)},y{\\left(t \\right)},z{\\left(t \\right)} \\right)} \\frac{d}{d t} y{\\left(t \\right)} + \\frac{d}{d z{\\left(t \\right)}} w{\\left(x{\\left(t \\right)},y{\\left(t \\right)},z{\\left(t \\right)} \\right)} \\frac{d}{d t} z{\\left(t \\right)}$"
     },
     "execution_count": 194,
     "metadata": {},
     "output_type": "execute_result"
    }
   ],
   "source": [
    "smp.diff(w,t)"
   ],
   "metadata": {
    "collapsed": false,
    "ExecuteTime": {
     "end_time": "2023-07-10T07:22:33.355670Z",
     "start_time": "2023-07-10T07:22:33.335867Z"
    }
   }
  },
  {
   "cell_type": "code",
   "execution_count": 195,
   "outputs": [],
   "source": [
    "w1=x**2+smp.exp(y)**smp.sin(z)"
   ],
   "metadata": {
    "collapsed": false,
    "ExecuteTime": {
     "end_time": "2023-07-10T07:23:12.744737Z",
     "start_time": "2023-07-10T07:23:12.725101Z"
    }
   }
  },
  {
   "cell_type": "code",
   "execution_count": 199,
   "outputs": [
    {
     "data": {
      "text/plain": "(2*t*log(exp(cos(t)))*cos(t**2) - sin(t)*sin(t**2))*exp(cos(t))**sin(t**2) + 2*sin(t)*cos(t)",
      "text/latex": "$\\displaystyle \\left(2 t \\log{\\left(e^{\\cos{\\left(t \\right)}} \\right)} \\cos{\\left(t^{2} \\right)} - \\sin{\\left(t \\right)} \\sin{\\left(t^{2} \\right)}\\right) \\left(e^{\\cos{\\left(t \\right)}}\\right)^{\\sin{\\left(t^{2} \\right)}} + 2 \\sin{\\left(t \\right)} \\cos{\\left(t \\right)}$"
     },
     "execution_count": 199,
     "metadata": {},
     "output_type": "execute_result"
    }
   ],
   "source": [
    "smp.diff(w1,t).subs([(x,smp.sin(t)),\n",
    "                     (y,smp.cos(t)),\n",
    "                     (z,t**2)\n",
    "                     ]).doit()"
   ],
   "metadata": {
    "collapsed": false,
    "ExecuteTime": {
     "end_time": "2023-07-10T07:25:39.254192Z",
     "start_time": "2023-07-10T07:25:39.246750Z"
    }
   }
  },
  {
   "cell_type": "markdown",
   "source": [
    "multiple integrals\n",
    "$$\\int_0^1 \\int_0^{x^2} \\int_3^{4-x^2-y^2}  xdzdydx  $$"
   ],
   "metadata": {
    "collapsed": false
   }
  },
  {
   "cell_type": "code",
   "execution_count": 201,
   "outputs": [
    {
     "data": {
      "text/plain": "1/24",
      "text/latex": "$\\displaystyle \\frac{1}{24}$"
     },
     "execution_count": 201,
     "metadata": {},
     "output_type": "execute_result"
    }
   ],
   "source": [
    "x,y,z=smp.symbols('x,y,z')\n",
    "f=x\n",
    "smp.integrate(f,(z,3,4-x**2-y**2),(y,0,x**2),(x,0,1))"
   ],
   "metadata": {
    "collapsed": false,
    "ExecuteTime": {
     "end_time": "2023-07-10T07:31:59.885900Z",
     "start_time": "2023-07-10T07:31:59.878588Z"
    }
   }
  },
  {
   "cell_type": "code",
   "execution_count": null,
   "outputs": [],
   "source": [],
   "metadata": {
    "collapsed": false
   }
  }
 ],
 "metadata": {
  "kernelspec": {
   "display_name": "Python 3",
   "language": "python",
   "name": "python3"
  },
  "language_info": {
   "codemirror_mode": {
    "name": "ipython",
    "version": 2
   },
   "file_extension": ".py",
   "mimetype": "text/x-python",
   "name": "python",
   "nbconvert_exporter": "python",
   "pygments_lexer": "ipython2",
   "version": "2.7.6"
  }
 },
 "nbformat": 4,
 "nbformat_minor": 0
}
