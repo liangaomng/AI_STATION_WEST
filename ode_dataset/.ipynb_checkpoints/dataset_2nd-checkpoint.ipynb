{
 "cells": [
  {
   "cell_type": "markdown",
   "source": [
    "this file is to a presentation documents about 2nd datasets\n",
    "\n",
    "the 2nd equations is as:\n",
    "$$ \\frac {dz}{dt} =\\begin{bmatrix}\n",
    "a_{11} & b_{12} \\\\\n",
    "c_{21} & d_{22}\n",
    "\\end{bmatrix} \\begin{bmatrix} z1 \\\\ z2\\end{bmatrix}  ,z_1(0)=1,z_2(0)=1 $$\n",
    "\n",
    "In this 2nd_dataset, we could get the 256' csvs, about differnt the matrix element. every element change from {-2,-1,0,1}\n",
    "```~~```, there are 256 csvs.\n",
    "every csv has 11 columns"
   ],
   "metadata": {
    "collapsed": false
   }
  },
  {
   "cell_type": "markdown",
   "source": [],
   "metadata": {
    "collapsed": false
   }
  },
  {
   "cell_type": "code",
   "execution_count": null,
   "outputs": [],
   "source": [
    "import ord_2_data as ord2\n",
    "import os"
   ],
   "metadata": {
    "collapsed": false,
    "is_executing": true
   }
  },
  {
   "cell_type": "code",
   "execution_count": null,
   "outputs": [],
   "source": [
    "#现在的路径\n",
    "os.getcwd()\n",
    "print(os.getcwd())"
   ],
   "metadata": {
    "collapsed": false,
    "is_executing": true
   }
  },
  {
   "cell_type": "code",
   "execution_count": null,
   "outputs": [],
   "source": [],
   "metadata": {
    "collapsed": false
   }
  }
 ],
 "metadata": {
  "kernelspec": {
   "display_name": "Python 3",
   "language": "python",
   "name": "python3"
  },
  "language_info": {
   "codemirror_mode": {
    "name": "ipython",
    "version": 2
   },
   "file_extension": ".py",
   "mimetype": "text/x-python",
   "name": "python",
   "nbconvert_exporter": "python",
   "pygments_lexer": "ipython2",
   "version": "2.7.6"
  }
 },
 "nbformat": 4,
 "nbformat_minor": 0
}
