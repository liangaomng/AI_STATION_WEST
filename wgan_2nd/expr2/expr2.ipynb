{
 "cells": [
  {
   "cell_type": "code",
   "execution_count": 161,
   "outputs": [
    {
     "name": "stdout",
     "output_type": "stream",
     "text": [
      "The autoreload extension is already loaded. To reload it, use:\n",
      "  %reload_ext autoreload\n"
     ]
    }
   ],
   "source": [
    "%load_ext autoreload\n",
    "%autoreload 2\n",
    "import sys\n",
    "sys.path.append('..')"
   ],
   "metadata": {
    "collapsed": false,
    "ExecuteTime": {
     "end_time": "2023-10-23T03:24:47.688015Z",
     "start_time": "2023-10-23T03:24:47.521127Z"
    }
   }
  },
  {
   "cell_type": "code",
   "execution_count": 165,
   "outputs": [],
   "source": [
    "\n",
    "import utlis_2nd.cusdom as custom\n",
    "import super_learn_task_expr2 as expr2\n",
    "import warnings\n",
    "\n",
    "read_abso_path=\"/Users/liangaoming/Documents/Ai_station/neural_find_sol/wgan_2nd/complex_center_dataset/combined_data.pt\"\n",
    "warnings.filterwarnings(\"ignore\")\n",
    "\n",
    "from collections import namedtuple\n",
    "# 定义 Transition\n",
    "Soft_Temp = namedtuple(\"Soft_Temp\", [\"state\", \"action\", \"reward\", \"next_state\", \"done\"])\n",
    "# 创建一个 Transition 对象\n",
    "trans = Soft_Temp(state=1, action=2, reward=3, next_state=4, done=False)\n"
   ],
   "metadata": {
    "collapsed": false,
    "ExecuteTime": {
     "end_time": "2023-10-23T03:25:26.028503Z",
     "start_time": "2023-10-23T03:25:25.860748Z"
    }
   }
  },
  {
   "cell_type": "code",
   "execution_count": 166,
   "outputs": [
    {
     "data": {
      "text/plain": "Soft_Temp(state=1, action=2, reward=3, next_state=4, done=False)"
     },
     "execution_count": 166,
     "metadata": {},
     "output_type": "execute_result"
    }
   ],
   "source": [
    "trans"
   ],
   "metadata": {
    "collapsed": false,
    "ExecuteTime": {
     "end_time": "2023-10-23T03:25:26.436196Z",
     "start_time": "2023-10-23T03:25:26.343665Z"
    }
   }
  },
  {
   "cell_type": "code",
   "execution_count": 146,
   "outputs": [
    {
     "name": "stdout",
     "output_type": "stream",
     "text": [
      "load data & read yaml\n",
      "shape: torch.Size([256, 100, 9])\n",
      "label for csv: torch.Size([256])\n"
     ]
    }
   ],
   "source": [
    "# split data & get the t_steps\n",
    "train_loader,valid_loader,test_loader,yaml_config =\\\n",
    "    custom.return_train_valid_test4loader(abso_path=read_abso_path)\n",
    "# look（shape）\n",
    "for batch_idx, (data, target) in enumerate(train_loader):\n",
    "    print(\"shape:\", data.shape)\n",
    "    print(\"label for csv:\",target.shape)\n",
    "    break\n"
   ],
   "metadata": {
    "collapsed": false,
    "ExecuteTime": {
     "end_time": "2023-10-22T04:11:51.723305Z",
     "start_time": "2023-10-22T04:11:50.322001Z"
    }
   }
  },
  {
   "cell_type": "code",
   "execution_count": 149,
   "outputs": [],
   "source": [
    "results_path= \"/Users/liangaoming/Documents/Ai_station/neural_find_sol/wgan_2nd/expr2/expr2_results/expr2_\"\n",
    "expr2.config[\"train_nomin\"]= int((yaml_config['train_size_percent']*yaml_config['all_solus_numbers'])/yaml_config[\"batch_size\"])\n",
    "expr2.config[\"valid_nomin\"]= int((yaml_config['valid_size_percent']*yaml_config['all_solus_numbers'])/yaml_config[\"batch_size\"])\n",
    "expr2.config[\"test_nomin\"]= int((yaml_config['test_size_percent']*yaml_config['all_solus_numbers'])/yaml_config[\"batch_size\"])\n",
    "expr2.config[\"train_loader\"]= train_loader\n",
    "expr2.config[\"valid_loader\"]= valid_loader\n",
    "expr2.config[\"test_loader\"]= test_loader\n",
    "expr2.config[\"data_length\"]= yaml_config[\"data_length\"]\n",
    "expr2.config[\"device\"] = \"cpu\"\n",
    "expr2.config[\"hidden_act\"]= \"rational\"\n",
    "expr2.config[\"SI_lr\"]= 1e-3\n",
    "expr2.config[\"inference_output_act\"]=\"Identity\"\n",
    "expr2.config[\"vari_number\"]= yaml_config[\"vari_number\"]\n",
    "expr2.config[\"sample_vesting\"]=2 #2s\n",
    "\n",
    "expr2.config[\"soft_temp\"] =0.001\n",
    "expr2.config[\"pre_process\"] = \"gumble\"\n",
    "expr2.config[\"sample_model\"]=\"soft_argmax\"\n",
    "expr2.config[\"prob_sample_numb\"]= 1\n",
    "expr2.config[\"Sample_choice\"]= True\n",
    "\n",
    "expr2.config[\"Inference_num_epoch\"]=100\n",
    "expr2.config[\"lamba_fourier\"]= 10\n",
    "expr2.config[\"lamba_lasso\"]= 10\n"
   ],
   "metadata": {
    "collapsed": false,
    "ExecuteTime": {
     "end_time": "2023-10-22T04:12:12.609379Z",
     "start_time": "2023-10-22T04:12:12.545636Z"
    }
   }
  },
  {
   "cell_type": "code",
   "execution_count": 150,
   "outputs": [
    {
     "name": "stdout",
     "output_type": "stream",
     "text": [
      "the prior knowledge is {'basis_1': 'x**0', 'basis_2': 'sin', 'basis_3': 'cos'}\n",
      "output_dim 202\n",
      "output_act is Identity\n",
      "hi\n",
      "test_only_inference\n",
      "start train_inference\n",
      "loss21635.685546875_epoch0epoch_time1.9538512229919434\n",
      "loss18554.2265625_epoch1epoch_time1.7717628479003906\n",
      "loss15705.3623046875_epoch2epoch_time1.712998867034912\n",
      "loss13095.080078125_epoch3epoch_time1.76043701171875\n",
      "loss10725.892578125_epoch4epoch_time1.7470080852508545\n",
      "loss8599.6943359375_epoch5epoch_time1.7479779720306396\n",
      "loss6718.0546875_epoch6epoch_time1.7397942543029785\n",
      "loss5078.2919921875_epoch7epoch_time1.7689919471740723\n",
      "loss3684.177490234375_epoch8epoch_time1.7357771396636963\n",
      "loss2532.33935546875_epoch9epoch_time1.7102253437042236\n",
      "loss1622.8641357421875_epoch10epoch_time1.7577862739562988\n",
      "loss956.9527587890625_epoch11epoch_time1.771394968032837\n",
      "loss534.9201049804688_epoch12epoch_time1.7957241535186768\n",
      "loss347.6673583984375_epoch13epoch_time1.7006690502166748\n",
      "loss312.5206604003906_epoch14epoch_time1.775174856185913\n",
      "loss304.0026550292969_epoch15epoch_time1.7585020065307617\n",
      "loss299.0364685058594_epoch16epoch_time1.7403802871704102\n",
      "loss296.89129638671875_epoch17epoch_time1.7757060527801514\n",
      "loss292.9898376464844_epoch18epoch_time1.753661870956421\n",
      "loss291.6802673339844_epoch19epoch_time1.7593138217926025\n",
      "loss291.1549987792969_epoch20epoch_time1.7281162738800049\n",
      "loss290.2088317871094_epoch21epoch_time1.796454906463623\n",
      "loss289.409912109375_epoch22epoch_time1.8045568466186523\n",
      "loss290.0427551269531_epoch23epoch_time1.7494442462921143\n",
      "loss286.6635437011719_epoch24epoch_time1.73716402053833\n",
      "loss287.0816955566406_epoch25epoch_time1.7519500255584717\n",
      "loss286.2777404785156_epoch26epoch_time1.7522118091583252\n",
      "loss286.15655517578125_epoch27epoch_time1.7183160781860352\n",
      "loss285.6843566894531_epoch28epoch_time1.7608866691589355\n",
      "loss285.1512756347656_epoch29epoch_time1.7504887580871582\n",
      "loss285.2074279785156_epoch30epoch_time1.7652339935302734\n",
      "loss283.48333740234375_epoch31epoch_time1.7456860542297363\n",
      "loss284.0561828613281_epoch32epoch_time1.7562098503112793\n",
      "loss284.3985290527344_epoch33epoch_time1.7228407859802246\n",
      "loss284.8757629394531_epoch34epoch_time1.8182990550994873\n",
      "loss283.7366027832031_epoch35epoch_time1.765998125076294\n",
      "loss285.10675048828125_epoch36epoch_time1.7504990100860596\n",
      "loss282.32110595703125_epoch37epoch_time1.7636139392852783\n",
      "loss281.2695617675781_epoch38epoch_time1.744473934173584\n",
      "loss282.5899353027344_epoch39epoch_time1.7406220436096191\n",
      "loss280.2278137207031_epoch40epoch_time1.7107319831848145\n",
      "loss281.6274108886719_epoch41epoch_time1.8074040412902832\n",
      "loss281.2749328613281_epoch42epoch_time1.7158291339874268\n",
      "loss280.2947998046875_epoch43epoch_time1.7293438911437988\n",
      "loss281.3020935058594_epoch44epoch_time1.7138290405273438\n",
      "loss279.4097595214844_epoch45epoch_time1.7198550701141357\n",
      "loss281.40631103515625_epoch46epoch_time1.7405009269714355\n",
      "loss280.2622985839844_epoch47epoch_time1.6835589408874512\n",
      "loss278.3634033203125_epoch48epoch_time1.7067921161651611\n",
      "loss279.8904113769531_epoch49epoch_time1.7414469718933105\n",
      "loss277.5505676269531_epoch50epoch_time1.7643768787384033\n",
      "loss279.6847229003906_epoch51epoch_time1.9089369773864746\n",
      "loss278.7900695800781_epoch52epoch_time1.7711730003356934\n",
      "loss278.73602294921875_epoch53epoch_time2.2624738216400146\n",
      "loss278.3522033691406_epoch54epoch_time1.893430233001709\n",
      "loss276.47662353515625_epoch55epoch_time1.8466341495513916\n",
      "loss277.759033203125_epoch56epoch_time1.7776210308074951\n",
      "loss277.7732849121094_epoch57epoch_time1.7825498580932617\n",
      "loss276.27972412109375_epoch58epoch_time1.7848379611968994\n",
      "loss275.7639465332031_epoch59epoch_time1.73482084274292\n",
      "loss278.4083251953125_epoch60epoch_time1.7658910751342773\n",
      "loss277.7658386230469_epoch61epoch_time1.8755688667297363\n",
      "loss276.0421142578125_epoch62epoch_time1.7550950050354004\n",
      "loss276.7548828125_epoch63epoch_time1.7547099590301514\n",
      "loss276.75634765625_epoch64epoch_time1.7587471008300781\n",
      "loss274.7461853027344_epoch65epoch_time1.7849431037902832\n",
      "loss274.92999267578125_epoch66epoch_time1.9595320224761963\n",
      "loss277.22894287109375_epoch67epoch_time2.223442792892456\n",
      "loss276.45562744140625_epoch68epoch_time1.7496087551116943\n",
      "loss276.5985412597656_epoch69epoch_time2.860507011413574\n",
      "loss276.184326171875_epoch70epoch_time1.8646721839904785\n",
      "loss275.5288391113281_epoch71epoch_time1.7114968299865723\n",
      "loss273.4603271484375_epoch72epoch_time1.781142234802246\n",
      "loss274.3231506347656_epoch73epoch_time1.7459008693695068\n",
      "loss273.57269287109375_epoch74epoch_time1.7488079071044922\n",
      "loss273.6104431152344_epoch75epoch_time1.7555630207061768\n",
      "loss272.4161682128906_epoch76epoch_time1.7655971050262451\n",
      "loss273.46917724609375_epoch77epoch_time2.231163740158081\n",
      "loss272.9767150878906_epoch78epoch_time1.9942078590393066\n",
      "loss274.19927978515625_epoch79epoch_time1.7650010585784912\n",
      "loss273.91558837890625_epoch80epoch_time1.7518012523651123\n",
      "loss271.2433776855469_epoch81epoch_time1.736872911453247\n",
      "loss271.5361633300781_epoch82epoch_time1.7414488792419434\n",
      "loss272.27325439453125_epoch83epoch_time1.7922959327697754\n",
      "loss270.9949951171875_epoch84epoch_time1.7468931674957275\n",
      "loss271.466552734375_epoch85epoch_time2.028762102127075\n",
      "loss271.5703430175781_epoch86epoch_time1.8206679821014404\n",
      "loss273.10382080078125_epoch87epoch_time1.770806074142456\n",
      "loss272.5406494140625_epoch88epoch_time2.282296895980835\n",
      "loss271.94525146484375_epoch89epoch_time1.832603931427002\n",
      "loss272.33447265625_epoch90epoch_time1.7921488285064697\n",
      "loss270.7397766113281_epoch91epoch_time2.273202896118164\n",
      "loss270.9936828613281_epoch92epoch_time1.8371539115905762\n",
      "loss272.0428771972656_epoch93epoch_time1.7737360000610352\n",
      "loss271.4065246582031_epoch94epoch_time1.8128249645233154\n",
      "loss271.5942687988281_epoch95epoch_time2.624924898147583\n",
      "loss272.291015625_epoch96epoch_time1.8178820610046387\n",
      "loss272.2344970703125_epoch97epoch_time1.8239872455596924\n",
      "loss270.4276428222656_epoch98epoch_time1.7871899604797363\n",
      "loss271.6673583984375_epoch99epoch_time1.7855470180511475\n"
     ]
    }
   ],
   "source": [
    "# return test' results\n",
    "result,co_actor=expr2.do_expr(\n",
    "                        results_save_path=results_path,\n",
    "                        folder_num=97,\n",
    "                        train_config=expr2.config,\n",
    "                        model_type=\"inference_net\")"
   ],
   "metadata": {
    "collapsed": false,
    "ExecuteTime": {
     "end_time": "2023-10-22T04:23:01.951469Z",
     "start_time": "2023-10-22T04:12:13.291348Z"
    }
   }
  },
  {
   "cell_type": "code",
   "execution_count": 151,
   "outputs": [
    {
     "data": {
      "text/plain": "{'eval_freq_loss': tensor(-5.2482, grad_fn=<DivBackward0>),\n 'eval_data_loss': tensor(301.4168, grad_fn=<DivBackward0>),\n 'eval_u_stat_data': tensor(0.6613, grad_fn=<DivBackward0>),\n 'eval_sinkhorn_data': tensor(239.6239, grad_fn=<DivBackward0>),\n 'eval_mae': tensor(14.3345, grad_fn=<DivBackward0>)}"
     },
     "execution_count": 151,
     "metadata": {},
     "output_type": "execute_result"
    }
   ],
   "source": [
    "result"
   ],
   "metadata": {
    "collapsed": false,
    "ExecuteTime": {
     "end_time": "2023-10-22T04:23:02.177610Z",
     "start_time": "2023-10-22T04:23:01.953715Z"
    }
   }
  },
  {
   "cell_type": "code",
   "execution_count": null,
   "outputs": [],
   "source": [],
   "metadata": {
    "collapsed": false
   }
  }
 ],
 "metadata": {
  "kernelspec": {
   "display_name": "Python 3",
   "language": "python",
   "name": "python3"
  },
  "language_info": {
   "codemirror_mode": {
    "name": "ipython",
    "version": 2
   },
   "file_extension": ".py",
   "mimetype": "text/x-python",
   "name": "python",
   "nbconvert_exporter": "python",
   "pygments_lexer": "ipython2",
   "version": "2.7.6"
  }
 },
 "nbformat": 4,
 "nbformat_minor": 0
}
