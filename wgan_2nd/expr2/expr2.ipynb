{
 "cells": [
  {
   "cell_type": "code",
   "execution_count": 303,
   "outputs": [
    {
     "name": "stdout",
     "output_type": "stream",
     "text": [
      "The autoreload extension is already loaded. To reload it, use:\n",
      "  %reload_ext autoreload\n"
     ]
    }
   ],
   "source": [
    "%load_ext autoreload\n",
    "%autoreload 2\n",
    "import sys\n",
    "sys.path.append('..')"
   ],
   "metadata": {
    "collapsed": false,
    "ExecuteTime": {
     "end_time": "2023-10-27T02:16:21.030175Z",
     "start_time": "2023-10-27T02:16:20.896604Z"
    }
   }
  },
  {
   "cell_type": "code",
   "execution_count": 304,
   "outputs": [],
   "source": [
    "from collections import namedtuple\n",
    "import utlis_2nd.cusdom as custom\n",
    "import super_learn_task_expr2 as expr2\n",
    "import warnings\n",
    "\n",
    "read_abso_path=\"/Users/liangaoming/Documents/Ai_station/neural_find_sol/wgan_2nd/complex_center_dataset/combined_data.pt\"\n",
    "warnings.filterwarnings(\"ignore\")\n",
    "\n",
    "#data description\n",
    "Data_description=namedtuple(\"Data_description\",[\"t_steps\",\"vesting_s\",\"vari_numb\",\"sample_rate\",\"freq_numb\"])\n",
    "#temp info\n",
    "Soft_arg_temp = namedtuple(\"Soft_arg_temp\", [\"learnable\", \"value\"])\n",
    "Gumble_temp = namedtuple(\"Gumble_temp\", [\"learnable\", \"value\"])\n",
    "Sample_info = namedtuple(\"Sample_info\", [\"type\", \"sample_numb\"])\n",
    "#loss regularization\n",
    "Sinkhorn_loss_info = namedtuple(\"Sinkhorn_loss_info\", [\"loss_en\", \"p\",\"blur\"])\n",
    "Fourier_loss_info = namedtuple(\"Fourier_loss_info\", [\"loss_en\",\"labmbda_fourier\"])\n",
    "Lasso_loss_info = namedtuple(\"Lasso_loss_info\", [\"loss_en\", \"labmbda_lasso\"])"
   ],
   "metadata": {
    "collapsed": false,
    "ExecuteTime": {
     "end_time": "2023-10-27T02:16:21.664481Z",
     "start_time": "2023-10-27T02:16:21.617416Z"
    }
   }
  },
  {
   "cell_type": "code",
   "execution_count": 305,
   "outputs": [
    {
     "name": "stdout",
     "output_type": "stream",
     "text": [
      "load data & read yaml\n",
      "shape: torch.Size([256, 100, 9])\n",
      "label for csv: torch.Size([256])\n"
     ]
    }
   ],
   "source": [
    "# split data & get the t_steps\n",
    "train_loader,valid_loader,test_loader,yaml_config =\\\n",
    "    custom.return_train_valid_test4loader(abso_path=read_abso_path)\n",
    "# look（shape）\n",
    "for batch_idx, (data, target) in enumerate(train_loader):\n",
    "    print(\"shape:\", data.shape)\n",
    "    print(\"label for csv:\",target.shape)\n",
    "    break\n"
   ],
   "metadata": {
    "collapsed": false,
    "ExecuteTime": {
     "end_time": "2023-10-27T02:16:23.314252Z",
     "start_time": "2023-10-27T02:16:21.806906Z"
    }
   }
  },
  {
   "cell_type": "code",
   "execution_count": 306,
   "outputs": [],
   "source": [
    "soft_arg_temp = Soft_arg_temp(\n",
    "                                learnable=yaml_config[\"Soft_argmax_info\"][0],\n",
    "                                value=yaml_config[\"Soft_argmax_info\"][1])\n",
    "gumble_temp = Gumble_temp(\n",
    "                            learnable=yaml_config[\"Gumble_info\"][0],\n",
    "                            value=yaml_config[\"Gumble_info\"][1])\n",
    "sample_info = Sample_info(\n",
    "                            type=yaml_config[\"Sample_info\"][0],\n",
    "                            sample_numb=yaml_config[\"Sample_info\"][1])"
   ],
   "metadata": {
    "collapsed": false,
    "ExecuteTime": {
     "end_time": "2023-10-27T02:16:23.395989Z",
     "start_time": "2023-10-27T02:16:23.316567Z"
    }
   }
  },
  {
   "cell_type": "code",
   "execution_count": 307,
   "outputs": [],
   "source": [
    "results_path= \"/Users/liangaoming/Documents/Ai_station/neural_find_sol/wgan_2nd/expr2/expr2_results/expr2_\"\n",
    "expr2.config[\"train_nomin\"]= int((yaml_config['train_size_percent']*yaml_config['all_solus_numbers'])/yaml_config[\"batch_size\"])\n",
    "expr2.config[\"valid_nomin\"]= int((yaml_config['valid_size_percent']*yaml_config['all_solus_numbers'])/yaml_config[\"batch_size\"])\n",
    "expr2.config[\"test_nomin\"]= int((yaml_config['test_size_percent']*yaml_config['all_solus_numbers'])/yaml_config[\"batch_size\"])\n",
    "expr2.config[\"train_loader\"]= train_loader\n",
    "expr2.config[\"valid_loader\"]= valid_loader\n",
    "expr2.config[\"test_loader\"]= test_loader\n",
    "expr2.config[\"device\"] = \"cpu\"\n",
    "expr2.config[\"data_description\"]=yaml_config[\"data_description\"]\n",
    "expr2.config[\"hidden_act\"]= \"rational\"\n",
    "expr2.config[\"SI_lr\"]= 1e-5\n",
    "expr2.config[\"inference_output_act\"]=\"Identity\"\n",
    "expr2.config[\"vari_number\"]= yaml_config[\"vari_number\"]\n",
    "expr2.config[\"sample_vesting\"]=2 #2s\n",
    "#about temp\n",
    "expr2.config[\"soft_arg_info\"] = soft_arg_temp\n",
    "expr2.config[\"gumble_info\"] = gumble_temp\n",
    "expr2.config[\"sample_info\"] = sample_info\n",
    "#about regularization\n",
    "expr2.config[\"Sinkhorn_loss_info\"] = yaml_config[\"Sinkhorn_loss_info\"]\n",
    "expr2.config[\"Fourier_loss_info\"] = yaml_config[\"Fourier_loss_info\"]\n",
    "expr2.config[\"Lasso_loss_info\"] = yaml_config[\"Lasso_loss_info\"]\n",
    "#about train step and regularization\n",
    "expr2.config[\"Inference_num_epoch\"]=10\n"
   ],
   "metadata": {
    "collapsed": false,
    "ExecuteTime": {
     "end_time": "2023-10-27T02:16:23.444254Z",
     "start_time": "2023-10-27T02:16:23.397363Z"
    }
   }
  },
  {
   "cell_type": "code",
   "execution_count": 308,
   "outputs": [
    {
     "name": "stdout",
     "output_type": "stream",
     "text": [
      "the prior knowledge is {'basis_1': 'x**0', 'basis_2': 'sin', 'basis_3': 'cos'}\n",
      "output_dim 202\n",
      "output_act is Identity\n",
      "hi_inference_net\n",
      "test_only_inference\n",
      "start train_inference\n",
      "sink_info [False, 2, 0.05, 1]\n",
      "loss566.0959894527617_epoch0epoch_time2.261988878250122\n",
      "loss521.4644824470789_epoch1epoch_time2.1759018898010254\n",
      "loss486.67405364234963_epoch2epoch_time2.6299588680267334\n",
      "loss460.04655094845657_epoch3epoch_time2.211615800857544\n",
      "loss436.5663855883638_epoch4epoch_time2.1424498558044434\n",
      "loss415.5187382718098_epoch5epoch_time2.463642120361328\n",
      "loss396.8796992878489_epoch6epoch_time2.290325880050659\n",
      "loss380.5692213744886_epoch7epoch_time2.1810848712921143\n",
      "loss366.6489177952034_epoch8epoch_time2.245353937149048\n",
      "loss355.0199113471562_epoch9epoch_time2.199828863143921\n"
     ]
    }
   ],
   "source": [
    "# return test' results\n",
    "result,co_actor=expr2.do_expr(\n",
    "                                results_save_path=results_path,\n",
    "                                folder_num=97,\n",
    "                                train_config=expr2.config,\n",
    "                                model_type=\"inference_net\")"
   ],
   "metadata": {
    "collapsed": false,
    "ExecuteTime": {
     "end_time": "2023-10-27T02:17:20.859017Z",
     "start_time": "2023-10-27T02:16:23.444958Z"
    }
   }
  },
  {
   "cell_type": "code",
   "execution_count": 302,
   "outputs": [
    {
     "data": {
      "text/plain": "{'eval_freq_loss': array(1.76851472),\n 'eval_mse_loss': array(388.35278288),\n 'eval_u_stat_data': array(0.68348651),\n 'eval_sinkhorn_data': array(139.72878279),\n 'eval_mae': array(16.09859812)}"
     },
     "execution_count": 302,
     "metadata": {},
     "output_type": "execute_result"
    }
   ],
   "source": [],
   "metadata": {
    "collapsed": false,
    "ExecuteTime": {
     "end_time": "2023-10-27T02:14:01.131547Z",
     "start_time": "2023-10-27T02:14:00.868088Z"
    }
   }
  },
  {
   "cell_type": "code",
   "execution_count": 309,
   "outputs": [
    {
     "data": {
      "text/plain": "{'eval_freq_loss': array(2.36476879),\n 'eval_mse_loss': array(327.51186632),\n 'eval_u_stat_data': array(0.75337809),\n 'eval_sinkhorn_data': array(283.83510756),\n 'eval_mae': array(15.13508246)}"
     },
     "execution_count": 309,
     "metadata": {},
     "output_type": "execute_result"
    }
   ],
   "source": [],
   "metadata": {
    "collapsed": false,
    "ExecuteTime": {
     "end_time": "2023-10-27T02:17:29.471921Z",
     "start_time": "2023-10-27T02:17:29.273463Z"
    }
   }
  },
  {
   "cell_type": "code",
   "execution_count": null,
   "outputs": [],
   "source": [],
   "metadata": {
    "collapsed": false
   }
  }
 ],
 "metadata": {
  "kernelspec": {
   "display_name": "Python 3",
   "language": "python",
   "name": "python3"
  },
  "language_info": {
   "codemirror_mode": {
    "name": "ipython",
    "version": 2
   },
   "file_extension": ".py",
   "mimetype": "text/x-python",
   "name": "python",
   "nbconvert_exporter": "python",
   "pygments_lexer": "ipython2",
   "version": "2.7.6"
  }
 },
 "nbformat": 4,
 "nbformat_minor": 0
}
