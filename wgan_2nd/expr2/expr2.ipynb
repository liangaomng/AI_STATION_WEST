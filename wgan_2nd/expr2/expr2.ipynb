{
 "cells": [
  {
   "cell_type": "code",
   "execution_count": 26,
   "outputs": [
    {
     "name": "stdout",
     "output_type": "stream",
     "text": [
      "The autoreload extension is already loaded. To reload it, use:\n",
      "  %reload_ext autoreload\n"
     ]
    }
   ],
   "source": [
    "%load_ext autoreload\n",
    "%autoreload 2\n",
    "import sys\n",
    "sys.path.append('..')"
   ],
   "metadata": {
    "collapsed": false,
    "ExecuteTime": {
     "end_time": "2023-10-23T15:20:22.872829Z",
     "start_time": "2023-10-23T15:20:22.811408Z"
    }
   }
  },
  {
   "cell_type": "code",
   "execution_count": 27,
   "outputs": [],
   "source": [
    "from collections import namedtuple\n",
    "import utlis_2nd.cusdom as custom\n",
    "import super_learn_task_expr2 as expr2\n",
    "import warnings\n",
    "\n",
    "read_abso_path=\"/Users/liangaoming/Documents/Ai_station/neural_find_sol/wgan_2nd/complex_center_dataset/combined_data.pt\"\n",
    "warnings.filterwarnings(\"ignore\")\n",
    "Soft_arg_temp = namedtuple(\"Soft_arg_temp\", [\"learnable\", \"value\"])\n",
    "Gumble_temp = namedtuple(\"Gumble_temp\", [\"learnable\", \"value\"])\n",
    "Sample_info = namedtuple(\"Sample_info\", [\"type\", \"sample_numb\"])\n"
   ],
   "metadata": {
    "collapsed": false,
    "ExecuteTime": {
     "end_time": "2023-10-23T15:20:23.488976Z",
     "start_time": "2023-10-23T15:20:23.434006Z"
    }
   }
  },
  {
   "cell_type": "code",
   "execution_count": 28,
   "outputs": [
    {
     "name": "stdout",
     "output_type": "stream",
     "text": [
      "load data & read yaml\n",
      "shape: torch.Size([256, 100, 9])\n",
      "label for csv: torch.Size([256])\n"
     ]
    }
   ],
   "source": [
    "# split data & get the t_steps\n",
    "train_loader,valid_loader,test_loader,yaml_config =\\\n",
    "    custom.return_train_valid_test4loader(abso_path=read_abso_path)\n",
    "# look（shape）\n",
    "for batch_idx, (data, target) in enumerate(train_loader):\n",
    "    print(\"shape:\", data.shape)\n",
    "    print(\"label for csv:\",target.shape)\n",
    "    break\n"
   ],
   "metadata": {
    "collapsed": false,
    "ExecuteTime": {
     "end_time": "2023-10-23T15:20:24.966251Z",
     "start_time": "2023-10-23T15:20:23.639662Z"
    }
   }
  },
  {
   "cell_type": "code",
   "execution_count": 29,
   "outputs": [],
   "source": [
    "soft_arg_temp = Soft_arg_temp(learnable=yaml_config[\"Soft_argmax_info\"][0],\n",
    "                              value=yaml_config[\"Soft_argmax_info\"][1])\n",
    "gumble_temp = Gumble_temp(learnable=yaml_config[\"Gumble_info\"][0],\n",
    "                          value=yaml_config[\"Gumble_info\"][1])\n",
    "sample_info = Sample_info(type=yaml_config[\"Sample_info\"][0],\n",
    "                              sample_numb=yaml_config[\"Sample_info\"][1])"
   ],
   "metadata": {
    "collapsed": false,
    "ExecuteTime": {
     "end_time": "2023-10-23T15:20:25.013899Z",
     "start_time": "2023-10-23T15:20:24.961246Z"
    }
   }
  },
  {
   "cell_type": "code",
   "execution_count": 32,
   "outputs": [],
   "source": [
    "results_path= \"/Users/liangaoming/Documents/Ai_station/neural_find_sol/wgan_2nd/expr2/expr2_results/expr2_\"\n",
    "expr2.config[\"train_nomin\"]= int((yaml_config['train_size_percent']*yaml_config['all_solus_numbers'])/yaml_config[\"batch_size\"])\n",
    "expr2.config[\"valid_nomin\"]= int((yaml_config['valid_size_percent']*yaml_config['all_solus_numbers'])/yaml_config[\"batch_size\"])\n",
    "expr2.config[\"test_nomin\"]= int((yaml_config['test_size_percent']*yaml_config['all_solus_numbers'])/yaml_config[\"batch_size\"])\n",
    "expr2.config[\"train_loader\"]= train_loader\n",
    "expr2.config[\"valid_loader\"]= valid_loader\n",
    "expr2.config[\"test_loader\"]= test_loader\n",
    "expr2.config[\"data_length\"]= yaml_config[\"data_length\"]\n",
    "expr2.config[\"device\"] = \"cpu\"\n",
    "expr2.config[\"hidden_act\"]= \"rational\"\n",
    "expr2.config[\"SI_lr\"]= 1e-5\n",
    "expr2.config[\"inference_output_act\"]=\"Identity\"\n",
    "expr2.config[\"vari_number\"]= yaml_config[\"vari_number\"]\n",
    "expr2.config[\"sample_vesting\"]=2 #2s\n",
    "\n",
    "#about temp\n",
    "expr2.config[\"soft_arg_info\"] = soft_arg_temp\n",
    "expr2.config[\"gumble_info\"] = gumble_temp\n",
    "expr2.config[\"sample_info\"] = sample_info\n",
    "\n",
    "#about train step and regularization\n",
    "expr2.config[\"Inference_num_epoch\"]=200\n",
    "\n",
    "expr2.config[\"lamba_fourier\"]= 5\n",
    "expr2.config[\"lamba_lasso\"]= 1\n"
   ],
   "metadata": {
    "collapsed": false,
    "ExecuteTime": {
     "end_time": "2023-10-23T15:20:36.466906Z",
     "start_time": "2023-10-23T15:20:36.403317Z"
    }
   }
  },
  {
   "cell_type": "code",
   "execution_count": 32,
   "outputs": [],
   "source": [],
   "metadata": {
    "collapsed": false,
    "ExecuteTime": {
     "end_time": "2023-10-23T15:20:37.046648Z",
     "start_time": "2023-10-23T15:20:37.041298Z"
    }
   }
  },
  {
   "cell_type": "code",
   "execution_count": 33,
   "outputs": [
    {
     "name": "stdout",
     "output_type": "stream",
     "text": [
      "the prior knowledge is {'basis_1': 'x**0', 'basis_2': 'sin', 'basis_3': 'cos'}\n",
      "output_dim 202\n",
      "output_act is Identity\n",
      "hi_inference_net\n",
      "test_only_inference\n",
      "start train_inference\n",
      "loss2498.5615234375_epoch0epoch_time1.8822109699249268\n",
      "loss2175.3779296875_epoch1epoch_time1.7881011962890625\n",
      "loss1863.802001953125_epoch2epoch_time1.7178759574890137\n",
      "loss1585.7203369140625_epoch3epoch_time1.7167539596557617\n",
      "loss1346.0841064453125_epoch4epoch_time1.7054450511932373\n"
     ]
    },
    {
     "ename": "KeyboardInterrupt",
     "evalue": "",
     "output_type": "error",
     "traceback": [
      "\u001B[0;31m---------------------------------------------------------------------------\u001B[0m",
      "\u001B[0;31mKeyboardInterrupt\u001B[0m                         Traceback (most recent call last)",
      "Cell \u001B[0;32mIn[33], line 2\u001B[0m\n\u001B[1;32m      1\u001B[0m \u001B[38;5;66;03m# return test' results\u001B[39;00m\n\u001B[0;32m----> 2\u001B[0m result,co_actor\u001B[38;5;241m=\u001B[39m\u001B[43mexpr2\u001B[49m\u001B[38;5;241;43m.\u001B[39;49m\u001B[43mdo_expr\u001B[49m\u001B[43m(\u001B[49m\n\u001B[1;32m      3\u001B[0m \u001B[43m                        \u001B[49m\u001B[43mresults_save_path\u001B[49m\u001B[38;5;241;43m=\u001B[39;49m\u001B[43mresults_path\u001B[49m\u001B[43m,\u001B[49m\n\u001B[1;32m      4\u001B[0m \u001B[43m                        \u001B[49m\u001B[43mfolder_num\u001B[49m\u001B[38;5;241;43m=\u001B[39;49m\u001B[38;5;241;43m97\u001B[39;49m\u001B[43m,\u001B[49m\n\u001B[1;32m      5\u001B[0m \u001B[43m                        \u001B[49m\u001B[43mtrain_config\u001B[49m\u001B[38;5;241;43m=\u001B[39;49m\u001B[43mexpr2\u001B[49m\u001B[38;5;241;43m.\u001B[39;49m\u001B[43mconfig\u001B[49m\u001B[43m,\u001B[49m\n\u001B[1;32m      6\u001B[0m \u001B[43m                        \u001B[49m\u001B[43mmodel_type\u001B[49m\u001B[38;5;241;43m=\u001B[39;49m\u001B[38;5;124;43m\"\u001B[39;49m\u001B[38;5;124;43minference_net\u001B[39;49m\u001B[38;5;124;43m\"\u001B[39;49m\u001B[43m)\u001B[49m\n",
      "File \u001B[0;32m~/Documents/Ai_station/neural_find_sol/wgan_2nd/expr2/super_learn_task_expr2.py:291\u001B[0m, in \u001B[0;36mdo_expr\u001B[0;34m(results_save_path, folder_num, train_config, model_type)\u001B[0m\n\u001B[1;32m    289\u001B[0m record_init(folder_num\u001B[38;5;241m=\u001B[39mfolder_num,expr_data_path_new\u001B[38;5;241m=\u001B[39mresults_save_path)\n\u001B[1;32m    290\u001B[0m save_config(train_config)\n\u001B[0;32m--> 291\u001B[0m \u001B[38;5;28;01mreturn\u001B[39;00m \u001B[43mexpr\u001B[49m\u001B[43m(\u001B[49m\u001B[43mexpr_config\u001B[49m\u001B[38;5;241;43m=\u001B[39;49m\u001B[43mtrain_config\u001B[49m\u001B[43m,\u001B[49m\u001B[43mtrain_type\u001B[49m\u001B[38;5;241;43m=\u001B[39;49m\u001B[43mmodel_type\u001B[49m\u001B[43m)\u001B[49m\n",
      "File \u001B[0;32m~/Documents/Ai_station/neural_find_sol/wgan_2nd/expr2/super_learn_task_expr2.py:253\u001B[0m, in \u001B[0;36mexpr\u001B[0;34m(expr_config, train_type)\u001B[0m\n\u001B[1;32m    251\u001B[0m \u001B[38;5;28;01mif\u001B[39;00m (train_type\u001B[38;5;241m==\u001B[39m\u001B[38;5;124m\"\u001B[39m\u001B[38;5;124minference_net\u001B[39m\u001B[38;5;124m\"\u001B[39m):\n\u001B[1;32m    252\u001B[0m     \u001B[38;5;28mprint\u001B[39m(\u001B[38;5;124m\"\u001B[39m\u001B[38;5;124mhi_inference_net\u001B[39m\u001B[38;5;124m\"\u001B[39m)\n\u001B[0;32m--> 253\u001B[0m     \u001B[43mtrain_inference_actor\u001B[49m\u001B[43m(\u001B[49m\u001B[43mco_train_actor\u001B[49m\u001B[43m,\u001B[49m\u001B[43mconfig_device\u001B[49m\u001B[38;5;241;43m=\u001B[39;49m\u001B[43mexpr_config\u001B[49m\u001B[43m[\u001B[49m\u001B[38;5;124;43m\"\u001B[39;49m\u001B[38;5;124;43mdevice\u001B[39;49m\u001B[38;5;124;43m\"\u001B[39;49m\u001B[43m]\u001B[49m\u001B[43m)\u001B[49m\n\u001B[1;32m    254\u001B[0m     test_dict\u001B[38;5;241m=\u001B[39mtest_inference_model(co_train_actor)\n\u001B[1;32m    256\u001B[0m     \u001B[38;5;28;01mreturn\u001B[39;00m test_dict,\\\n\u001B[1;32m    257\u001B[0m            co_train_actor\n",
      "File \u001B[0;32m~/Documents/Ai_station/neural_find_sol/wgan_2nd/expr2/super_learn_task_expr2.py:175\u001B[0m, in \u001B[0;36mtrain_inference_actor\u001B[0;34m(co_train_actor, config_device)\u001B[0m\n\u001B[1;32m    173\u001B[0m uf\u001B[38;5;241m.\u001B[39mset_seed(config[\u001B[38;5;124m\"\u001B[39m\u001B[38;5;124mseed\u001B[39m\u001B[38;5;124m\"\u001B[39m])\n\u001B[1;32m    174\u001B[0m \u001B[38;5;66;03m#train the model\u001B[39;00m\n\u001B[0;32m--> 175\u001B[0m \u001B[43mco_train_actor\u001B[49m\u001B[38;5;241;43m.\u001B[39;49m\u001B[43mtrain_inference_neural\u001B[49m\u001B[43m(\u001B[49m\u001B[43mdevice\u001B[49m\u001B[38;5;241;43m=\u001B[39;49m\u001B[43mconfig_device\u001B[49m\u001B[43m)\u001B[49m\n",
      "File \u001B[0;32m~/Documents/Ai_station/neural_find_sol/utlis_2nd/co_train.py:119\u001B[0m, in \u001B[0;36mtrain_init.train_inference_neural\u001B[0;34m(self, process_name, device, save_2visualfig)\u001B[0m\n\u001B[1;32m    117\u001B[0m     \u001B[38;5;28mself\u001B[39m\u001B[38;5;241m.\u001B[39mS_I_optimizer\u001B[38;5;241m.\u001B[39mzero_grad()\n\u001B[1;32m    118\u001B[0m     \u001B[38;5;66;03m# loss\u001B[39;00m\n\u001B[0;32m--> 119\u001B[0m     \u001B[43minfer_loss\u001B[49m\u001B[38;5;241;43m.\u001B[39;49m\u001B[43mbackward\u001B[49m\u001B[43m(\u001B[49m\u001B[43m)\u001B[49m\n\u001B[1;32m    120\u001B[0m     \u001B[38;5;28mself\u001B[39m\u001B[38;5;241m.\u001B[39mS_I_optimizer\u001B[38;5;241m.\u001B[39mstep()\n\u001B[1;32m    123\u001B[0m final_time \u001B[38;5;241m=\u001B[39m time\u001B[38;5;241m.\u001B[39mtime()\n",
      "File \u001B[0;32m~/anaconda3/lib/python3.10/site-packages/torch/_tensor.py:488\u001B[0m, in \u001B[0;36mTensor.backward\u001B[0;34m(self, gradient, retain_graph, create_graph, inputs)\u001B[0m\n\u001B[1;32m    478\u001B[0m \u001B[38;5;28;01mif\u001B[39;00m has_torch_function_unary(\u001B[38;5;28mself\u001B[39m):\n\u001B[1;32m    479\u001B[0m     \u001B[38;5;28;01mreturn\u001B[39;00m handle_torch_function(\n\u001B[1;32m    480\u001B[0m         Tensor\u001B[38;5;241m.\u001B[39mbackward,\n\u001B[1;32m    481\u001B[0m         (\u001B[38;5;28mself\u001B[39m,),\n\u001B[0;32m   (...)\u001B[0m\n\u001B[1;32m    486\u001B[0m         inputs\u001B[38;5;241m=\u001B[39minputs,\n\u001B[1;32m    487\u001B[0m     )\n\u001B[0;32m--> 488\u001B[0m \u001B[43mtorch\u001B[49m\u001B[38;5;241;43m.\u001B[39;49m\u001B[43mautograd\u001B[49m\u001B[38;5;241;43m.\u001B[39;49m\u001B[43mbackward\u001B[49m\u001B[43m(\u001B[49m\n\u001B[1;32m    489\u001B[0m \u001B[43m    \u001B[49m\u001B[38;5;28;43mself\u001B[39;49m\u001B[43m,\u001B[49m\u001B[43m \u001B[49m\u001B[43mgradient\u001B[49m\u001B[43m,\u001B[49m\u001B[43m \u001B[49m\u001B[43mretain_graph\u001B[49m\u001B[43m,\u001B[49m\u001B[43m \u001B[49m\u001B[43mcreate_graph\u001B[49m\u001B[43m,\u001B[49m\u001B[43m \u001B[49m\u001B[43minputs\u001B[49m\u001B[38;5;241;43m=\u001B[39;49m\u001B[43minputs\u001B[49m\n\u001B[1;32m    490\u001B[0m \u001B[43m\u001B[49m\u001B[43m)\u001B[49m\n",
      "File \u001B[0;32m~/anaconda3/lib/python3.10/site-packages/torch/autograd/__init__.py:197\u001B[0m, in \u001B[0;36mbackward\u001B[0;34m(tensors, grad_tensors, retain_graph, create_graph, grad_variables, inputs)\u001B[0m\n\u001B[1;32m    192\u001B[0m     retain_graph \u001B[38;5;241m=\u001B[39m create_graph\n\u001B[1;32m    194\u001B[0m \u001B[38;5;66;03m# The reason we repeat same the comment below is that\u001B[39;00m\n\u001B[1;32m    195\u001B[0m \u001B[38;5;66;03m# some Python versions print out the first line of a multi-line function\u001B[39;00m\n\u001B[1;32m    196\u001B[0m \u001B[38;5;66;03m# calls in the traceback and some print out the last line\u001B[39;00m\n\u001B[0;32m--> 197\u001B[0m \u001B[43mVariable\u001B[49m\u001B[38;5;241;43m.\u001B[39;49m\u001B[43m_execution_engine\u001B[49m\u001B[38;5;241;43m.\u001B[39;49m\u001B[43mrun_backward\u001B[49m\u001B[43m(\u001B[49m\u001B[43m  \u001B[49m\u001B[38;5;66;43;03m# Calls into the C++ engine to run the backward pass\u001B[39;49;00m\n\u001B[1;32m    198\u001B[0m \u001B[43m    \u001B[49m\u001B[43mtensors\u001B[49m\u001B[43m,\u001B[49m\u001B[43m \u001B[49m\u001B[43mgrad_tensors_\u001B[49m\u001B[43m,\u001B[49m\u001B[43m \u001B[49m\u001B[43mretain_graph\u001B[49m\u001B[43m,\u001B[49m\u001B[43m \u001B[49m\u001B[43mcreate_graph\u001B[49m\u001B[43m,\u001B[49m\u001B[43m \u001B[49m\u001B[43minputs\u001B[49m\u001B[43m,\u001B[49m\n\u001B[1;32m    199\u001B[0m \u001B[43m    \u001B[49m\u001B[43mallow_unreachable\u001B[49m\u001B[38;5;241;43m=\u001B[39;49m\u001B[38;5;28;43;01mTrue\u001B[39;49;00m\u001B[43m,\u001B[49m\u001B[43m \u001B[49m\u001B[43maccumulate_grad\u001B[49m\u001B[38;5;241;43m=\u001B[39;49m\u001B[38;5;28;43;01mTrue\u001B[39;49;00m\u001B[43m)\u001B[49m\n",
      "\u001B[0;31mKeyboardInterrupt\u001B[0m: "
     ]
    }
   ],
   "source": [
    "# return test' results\n",
    "result,co_actor=expr2.do_expr(\n",
    "                        results_save_path=results_path,\n",
    "                        folder_num=97,\n",
    "                        train_config=expr2.config,\n",
    "                        model_type=\"inference_net\")"
   ],
   "metadata": {
    "collapsed": false,
    "ExecuteTime": {
     "end_time": "2023-10-23T15:20:57.292448Z",
     "start_time": "2023-10-23T15:20:37.660473Z"
    }
   }
  },
  {
   "cell_type": "code",
   "execution_count": null,
   "outputs": [],
   "source": [
    "result"
   ],
   "metadata": {
    "collapsed": false
   }
  },
  {
   "cell_type": "code",
   "execution_count": null,
   "outputs": [],
   "source": [],
   "metadata": {
    "collapsed": false
   }
  }
 ],
 "metadata": {
  "kernelspec": {
   "display_name": "Python 3",
   "language": "python",
   "name": "python3"
  },
  "language_info": {
   "codemirror_mode": {
    "name": "ipython",
    "version": 2
   },
   "file_extension": ".py",
   "mimetype": "text/x-python",
   "name": "python",
   "nbconvert_exporter": "python",
   "pygments_lexer": "ipython2",
   "version": "2.7.6"
  }
 },
 "nbformat": 4,
 "nbformat_minor": 0
}
