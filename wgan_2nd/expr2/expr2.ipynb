{
 "cells": [
  {
   "cell_type": "code",
   "execution_count": 129,
   "outputs": [
    {
     "name": "stdout",
     "output_type": "stream",
     "text": [
      "The autoreload extension is already loaded. To reload it, use:\n",
      "  %reload_ext autoreload\n"
     ]
    }
   ],
   "source": [
    "%load_ext autoreload\n",
    "%autoreload 2\n",
    "import sys\n",
    "sys.path.append('..')"
   ],
   "metadata": {
    "collapsed": false,
    "ExecuteTime": {
     "end_time": "2023-10-25T00:19:46.563447Z",
     "start_time": "2023-10-25T00:19:46.502099Z"
    }
   }
  },
  {
   "cell_type": "code",
   "execution_count": 131,
   "outputs": [],
   "source": [
    "from collections import namedtuple\n",
    "import utlis_2nd.cusdom as custom\n",
    "import super_learn_task_expr2 as expr2\n",
    "import warnings\n",
    "\n",
    "read_abso_path=\"/Users/liangaoming/Documents/Ai_station/neural_find_sol/wgan_2nd/complex_center_dataset/combined_data.pt\"\n",
    "warnings.filterwarnings(\"ignore\")\n",
    "Soft_arg_temp = namedtuple(\"Soft_arg_temp\", [\"learnable\", \"value\"])\n",
    "Gumble_temp = namedtuple(\"Gumble_temp\", [\"learnable\", \"value\"])\n",
    "Sample_info = namedtuple(\"Sample_info\", [\"type\", \"sample_numb\"])\n",
    "\n",
    "Sinhorn_loss_info = namedtuple(\"Sinhorn_loss_info\", [\"loss_en\", \"p\",\"blur\"])\n",
    "Fourier_loss_info = namedtuple(\"Fourier_loss_info\", [\"loss_en\", \"labmbda_fourier\"])\n",
    "Lasso_loss_info = namedtuple(\"Lasso_loss_info\", [\"loss_en\", \"labmbda_lasso\"])\n",
    "\n"
   ],
   "metadata": {
    "collapsed": false,
    "ExecuteTime": {
     "end_time": "2023-10-25T00:28:56.255270Z",
     "start_time": "2023-10-25T00:28:56.040743Z"
    }
   }
  },
  {
   "cell_type": "code",
   "execution_count": 123,
   "outputs": [
    {
     "name": "stdout",
     "output_type": "stream",
     "text": [
      "load data & read yaml\n",
      "shape: torch.Size([256, 100, 9])\n",
      "label for csv: torch.Size([256])\n"
     ]
    }
   ],
   "source": [
    "# split data & get the t_steps\n",
    "train_loader,valid_loader,test_loader,yaml_config =\\\n",
    "    custom.return_train_valid_test4loader(abso_path=read_abso_path)\n",
    "# look（shape）\n",
    "for batch_idx, (data, target) in enumerate(train_loader):\n",
    "    print(\"shape:\", data.shape)\n",
    "    print(\"label for csv:\",target.shape)\n",
    "    break\n"
   ],
   "metadata": {
    "collapsed": false,
    "ExecuteTime": {
     "end_time": "2023-10-24T07:42:30.242144Z",
     "start_time": "2023-10-24T07:42:29.011858Z"
    }
   }
  },
  {
   "cell_type": "code",
   "execution_count": 124,
   "outputs": [],
   "source": [
    "soft_arg_temp = Soft_arg_temp(learnable=yaml_config[\"Soft_argmax_info\"][0],\n",
    "                              value=yaml_config[\"Soft_argmax_info\"][1])\n",
    "gumble_temp = Gumble_temp(learnable=yaml_config[\"Gumble_info\"][0],\n",
    "                          value=yaml_config[\"Gumble_info\"][1])\n",
    "sample_info = Sample_info(type=yaml_config[\"Sample_info\"][0],\n",
    "                              sample_numb=yaml_config[\"Sample_info\"][1])"
   ],
   "metadata": {
    "collapsed": false,
    "ExecuteTime": {
     "end_time": "2023-10-24T07:42:30.294958Z",
     "start_time": "2023-10-24T07:42:30.240942Z"
    }
   }
  },
  {
   "cell_type": "code",
   "execution_count": 125,
   "outputs": [],
   "source": [
    "results_path= \"/Users/liangaoming/Documents/Ai_station/neural_find_sol/wgan_2nd/expr2/expr2_results/expr2_\"\n",
    "expr2.config[\"train_nomin\"]= int((yaml_config['train_size_percent']*yaml_config['all_solus_numbers'])/yaml_config[\"batch_size\"])\n",
    "expr2.config[\"valid_nomin\"]= int((yaml_config['valid_size_percent']*yaml_config['all_solus_numbers'])/yaml_config[\"batch_size\"])\n",
    "expr2.config[\"test_nomin\"]= int((yaml_config['test_size_percent']*yaml_config['all_solus_numbers'])/yaml_config[\"batch_size\"])\n",
    "expr2.config[\"train_loader\"]= train_loader\n",
    "expr2.config[\"valid_loader\"]= valid_loader\n",
    "expr2.config[\"test_loader\"]= test_loader\n",
    "expr2.config[\"data_length\"]= yaml_config[\"data_length\"]\n",
    "expr2.config[\"device\"] = \"cpu\"\n",
    "expr2.config[\"hidden_act\"]= \"rational\"\n",
    "expr2.config[\"SI_lr\"]= 1e-5\n",
    "expr2.config[\"inference_output_act\"]=\"Identity\"\n",
    "expr2.config[\"vari_number\"]= yaml_config[\"vari_number\"]\n",
    "expr2.config[\"sample_vesting\"]=2 #2s\n",
    "#about temp\n",
    "expr2.config[\"soft_arg_info\"] = soft_arg_temp\n",
    "expr2.config[\"gumble_info\"] = gumble_temp\n",
    "expr2.config[\"sample_info\"] = sample_info\n",
    "\n",
    "#about train step and regularization\n",
    "expr2.config[\"Inference_num_epoch\"]=1\n",
    "\n",
    "expr2.config[\"lamba_fourier\"]= 5\n",
    "expr2.config[\"lamba_lasso\"]= 1\n"
   ],
   "metadata": {
    "collapsed": false,
    "ExecuteTime": {
     "end_time": "2023-10-24T07:42:30.347500Z",
     "start_time": "2023-10-24T07:42:30.296995Z"
    }
   }
  },
  {
   "cell_type": "code",
   "execution_count": 126,
   "outputs": [
    {
     "name": "stdout",
     "output_type": "stream",
     "text": [
      "the prior knowledge is {'basis_1': 'x**0', 'basis_2': 'sin', 'basis_3': 'cos'}\n",
      "output_dim 202\n",
      "output_act is Identity\n",
      "hi_inference_net\n",
      "test_only_inference\n",
      "start train_inference\n",
      "loss2504.216064453125_epoch0epoch_time1.998521089553833\n"
     ]
    }
   ],
   "source": [
    "# return test' results\n",
    "result,co_actor=expr2.do_expr(\n",
    "                        results_save_path=results_path,\n",
    "                        folder_num=97,\n",
    "                        train_config=expr2.config,\n",
    "                        model_type=\"inference_net\")"
   ],
   "metadata": {
    "collapsed": false,
    "ExecuteTime": {
     "end_time": "2023-10-24T07:42:37.865395Z",
     "start_time": "2023-10-24T07:42:31.041014Z"
    }
   }
  },
  {
   "cell_type": "code",
   "execution_count": 127,
   "outputs": [
    {
     "name": "stdout",
     "output_type": "stream",
     "text": [
      "----------------------------------------------------------------\n",
      "        Layer (type)               Output Shape         Param #\n",
      "================================================================\n",
      "         LayerNorm-1                  [-1, 200]             400\n",
      "            Linear-2                  [-1, 512]         102,912\n",
      "          Rational-3                  [-1, 512]               0\n",
      "            Linear-4                  [-1, 512]         262,656\n",
      "           Dropout-5                  [-1, 512]               0\n",
      "          Rational-6                  [-1, 512]               0\n",
      "            Linear-7                  [-1, 512]         262,656\n",
      "           Dropout-8                  [-1, 512]               0\n",
      "          Rational-9                  [-1, 512]               0\n",
      "           Linear-10                  [-1, 202]         103,626\n",
      "         Identity-11               [-1, 202, 1]               0\n",
      "================================================================\n",
      "Total params: 732,250\n",
      "Trainable params: 732,250\n",
      "Non-trainable params: 0\n",
      "----------------------------------------------------------------\n",
      "Input size (MB): 0.00\n",
      "Forward/backward pass size (MB): 0.04\n",
      "Params size (MB): 2.79\n",
      "Estimated Total Size (MB): 2.83\n",
      "----------------------------------------------------------------\n"
     ]
    }
   ],
   "source": [
    "from torchsummary import summary\n",
    "summary(co_actor.S_I,input_size=(200,1))"
   ],
   "metadata": {
    "collapsed": false,
    "ExecuteTime": {
     "end_time": "2023-10-24T07:42:37.923977Z",
     "start_time": "2023-10-24T07:42:37.867702Z"
    }
   }
  }
 ],
 "metadata": {
  "kernelspec": {
   "display_name": "Python 3",
   "language": "python",
   "name": "python3"
  },
  "language_info": {
   "codemirror_mode": {
    "name": "ipython",
    "version": 2
   },
   "file_extension": ".py",
   "mimetype": "text/x-python",
   "name": "python",
   "nbconvert_exporter": "python",
   "pygments_lexer": "ipython2",
   "version": "2.7.6"
  }
 },
 "nbformat": 4,
 "nbformat_minor": 0
}
