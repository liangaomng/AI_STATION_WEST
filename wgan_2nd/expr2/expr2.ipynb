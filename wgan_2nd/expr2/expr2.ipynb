{
 "cells": [
  {
   "cell_type": "code",
   "execution_count": 325,
   "metadata": {
    "collapsed": true,
    "ExecuteTime": {
     "end_time": "2023-10-17T08:03:06.166638Z",
     "start_time": "2023-10-17T08:03:06.109638Z"
    }
   },
   "outputs": [
    {
     "name": "stdout",
     "output_type": "stream",
     "text": [
      "The autoreload extension is already loaded. To reload it, use:\n",
      "  %reload_ext autoreload\n"
     ]
    }
   ],
   "source": [
    "%load_ext autoreload\n",
    "%autoreload 2\n",
    "import sys\n",
    "sys.path.append('..')"
   ]
  },
  {
   "cell_type": "markdown",
   "source": [
    "## this for package import and data prepare"
   ],
   "metadata": {
    "collapsed": false
   }
  },
  {
   "cell_type": "code",
   "execution_count": 326,
   "outputs": [],
   "source": [
    "\n",
    "import utlis_2nd.cusdom as custom\n",
    "import super_learn_task_expr2 as expr2\n",
    "import warnings\n",
    "\n",
    "read_abso_path=\"/Users/liangaoming/Documents/Ai_station/neural_find_sol/wgan_2nd/complex_center_dataset/combined_data.pt\"\n",
    "warnings.filterwarnings(\"ignore\")\n",
    "\n",
    "from collections import namedtuple\n",
    "# 定义 Transition\n",
    "Transition = namedtuple(\"Transition\", [\"state\", \"action\", \"reward\", \"next_state\", \"done\"])\n",
    "# 创建一个 Transition 对象\n",
    "trans = Transition(state=1, action=2, reward=3, next_state=4, done=False)\n"
   ],
   "metadata": {
    "collapsed": false,
    "ExecuteTime": {
     "end_time": "2023-10-17T08:03:06.830521Z",
     "start_time": "2023-10-17T08:03:06.783409Z"
    }
   }
  },
  {
   "cell_type": "code",
   "execution_count": 327,
   "outputs": [
    {
     "name": "stdout",
     "output_type": "stream",
     "text": [
      "load data & read yaml\n",
      "shape: torch.Size([256, 100, 9])\n",
      "label for csv: torch.Size([256])\n"
     ]
    }
   ],
   "source": [
    "# split data & get the t_steps\n",
    "train_loader,valid_loader,test_loader,yaml_config =\\\n",
    "    custom.return_train_valid_test4loader(abso_path=read_abso_path)\n",
    "# look（shape）\n",
    "for batch_idx, (data, target) in enumerate(train_loader):\n",
    "    print(\"shape:\", data.shape)\n",
    "    print(\"label for csv:\",target.shape)\n",
    "    break\n"
   ],
   "metadata": {
    "collapsed": false,
    "ExecuteTime": {
     "end_time": "2023-10-17T08:03:08.298842Z",
     "start_time": "2023-10-17T08:03:06.971285Z"
    }
   }
  },
  {
   "cell_type": "markdown",
   "source": [
    "# Define the omega_neural network from nn_base\n",
    "\n",
    "## Here: we just to evaluate the\n",
    "### 1.omega_neural network\n",
    "input_shape: the shape means that we have 100 time steps and 2 variables input **[-1,100,2]**\n",
    "output_shape: output **[-1,51,2]**\n",
    "### 2.inference_neural network\n",
    "input_shape: the shape means that we have 100 time steps and 2 variables input **[-1，100，2]**\n",
    "output_shape: output **[-1,100,2]**\n",
    "\n"
   ],
   "metadata": {
    "collapsed": false
   }
  },
  {
   "cell_type": "code",
   "execution_count": 328,
   "outputs": [],
   "source": [
    "results_path= \"/Users/liangaoming/Documents/Ai_station/neural_find_sol/wgan_2nd/expr2/expr2_results/expr2_\"\n",
    "expr2.config[\"train_nomin\"]= int((yaml_config['train_size_percent']*yaml_config['all_solus_numbers'])/yaml_config[\"batch_size\"])\n",
    "expr2.config[\"valid_nomin\"]= int((yaml_config['valid_size_percent']*yaml_config['all_solus_numbers'])/yaml_config[\"batch_size\"])\n",
    "expr2.config[\"test_nomin\"]= int((yaml_config['test_size_percent']*yaml_config['all_solus_numbers'])/yaml_config[\"batch_size\"])\n",
    "expr2.config[\"train_loader\"]= train_loader\n",
    "expr2.config[\"valid_loader\"]= valid_loader\n",
    "expr2.config[\"test_loader\"]= test_loader\n",
    "expr2.config[\"data_length\"]= yaml_config[\"data_length\"]\n",
    "expr2.config[\"device\"] = \"cpu\"\n",
    "expr2.config[\"hidden_act\"]= \"rational\"\n",
    "expr2.config[\"inference_output_act\"]=\"identity\"\n",
    "expr2.config[\"omega_output_act\"]=\"softmax\"\n",
    "expr2.config[\"inference_output_act\"]=\"Identity\"\n",
    "expr2.config[\"vari_number\"]= yaml_config[\"vari_number\"]\n",
    "expr2.config[\"sample_vesting\"]=2 #2s\n",
    "expr2.config[\"Inference_num_epoch\"]=100"
   ],
   "metadata": {
    "collapsed": false,
    "ExecuteTime": {
     "end_time": "2023-10-17T08:03:08.355358Z",
     "start_time": "2023-10-17T08:03:08.301609Z"
    }
   }
  },
  {
   "cell_type": "markdown",
   "source": [],
   "metadata": {
    "collapsed": false
   }
  },
  {
   "cell_type": "code",
   "execution_count": 329,
   "outputs": [
    {
     "name": "stdout",
     "output_type": "stream",
     "text": [
      "the prior knowledge is {'basis_1': 'x**0', 'basis_2': 'sin', 'basis_3': 'cos'}\n",
      "output_dim 202\n",
      "output_act is Identity\n",
      "hi\n",
      "test_only_inference\n",
      "start train_inference\n",
      "tensor([ 1,  6,  0,  7,  4,  3,  8, 22,  2, 23, 14, 35])\n",
      "counts tensor([1, 1, 1, 1, 1, 0, 1, 1, 1, 0, 0, 0, 0, 0, 1, 0, 0, 0, 0, 0, 0, 0, 1, 1,\n",
      "        0, 0, 0, 0, 0, 0, 0, 0, 0, 0, 0, 1])\n",
      "lables 51\n"
     ]
    },
    {
     "ename": "ValueError",
     "evalue": "shape mismatch: objects cannot be broadcast to a single shape.  Mismatch is between arg 0 with shape (51,) and arg 1 with shape (36,).",
     "output_type": "error",
     "traceback": [
      "\u001B[0;31m---------------------------------------------------------------------------\u001B[0m",
      "\u001B[0;31mValueError\u001B[0m                                Traceback (most recent call last)",
      "Cell \u001B[0;32mIn[329], line 2\u001B[0m\n\u001B[1;32m      1\u001B[0m \u001B[38;5;66;03m# return test' results\u001B[39;00m\n\u001B[0;32m----> 2\u001B[0m \u001B[43mexpr2\u001B[49m\u001B[38;5;241;43m.\u001B[39;49m\u001B[43mdo_expr\u001B[49m\u001B[43m(\u001B[49m\u001B[43m                          \u001B[49m\u001B[43mresults_save_path\u001B[49m\u001B[38;5;241;43m=\u001B[39;49m\u001B[43mresults_path\u001B[49m\u001B[43m,\u001B[49m\n\u001B[1;32m      3\u001B[0m \u001B[43m                                        \u001B[49m\u001B[43mfolder_num\u001B[49m\u001B[38;5;241;43m=\u001B[39;49m\u001B[38;5;241;43m97\u001B[39;49m\u001B[43m,\u001B[49m\n\u001B[1;32m      4\u001B[0m \u001B[43m                                        \u001B[49m\u001B[43mtrain_config\u001B[49m\u001B[38;5;241;43m=\u001B[39;49m\u001B[43mexpr2\u001B[49m\u001B[38;5;241;43m.\u001B[39;49m\u001B[43mconfig\u001B[49m\u001B[43m,\u001B[49m\n\u001B[1;32m      5\u001B[0m \u001B[43m                                        \u001B[49m\u001B[43mmodel_type\u001B[49m\u001B[38;5;241;43m=\u001B[39;49m\u001B[38;5;124;43m\"\u001B[39;49m\u001B[38;5;124;43minference_net\u001B[39;49m\u001B[38;5;124;43m\"\u001B[39;49m\u001B[43m)\u001B[49m\n",
      "File \u001B[0;32m~/Documents/Ai_station/neural_find_sol/wgan_2nd/expr2/super_learn_task_expr2.py:302\u001B[0m, in \u001B[0;36mdo_expr\u001B[0;34m(results_save_path, folder_num, train_config, model_type)\u001B[0m\n\u001B[1;32m    300\u001B[0m record_init(folder_num\u001B[38;5;241m=\u001B[39mfolder_num,expr_data_path_new\u001B[38;5;241m=\u001B[39mresults_save_path)\n\u001B[1;32m    301\u001B[0m save_config(train_config)\n\u001B[0;32m--> 302\u001B[0m \u001B[38;5;28;01mreturn\u001B[39;00m \u001B[43mexpr\u001B[49m\u001B[43m(\u001B[49m\u001B[43mexpr_config\u001B[49m\u001B[38;5;241;43m=\u001B[39;49m\u001B[43mtrain_config\u001B[49m\u001B[43m,\u001B[49m\u001B[43mtrain_type\u001B[49m\u001B[38;5;241;43m=\u001B[39;49m\u001B[43mmodel_type\u001B[49m\u001B[43m)\u001B[49m\n",
      "File \u001B[0;32m~/Documents/Ai_station/neural_find_sol/wgan_2nd/expr2/super_learn_task_expr2.py:264\u001B[0m, in \u001B[0;36mexpr\u001B[0;34m(expr_config, train_type)\u001B[0m\n\u001B[1;32m    262\u001B[0m \u001B[38;5;28;01melif\u001B[39;00m (train_type\u001B[38;5;241m==\u001B[39m\u001B[38;5;124m\"\u001B[39m\u001B[38;5;124minference_net\u001B[39m\u001B[38;5;124m\"\u001B[39m):\n\u001B[1;32m    263\u001B[0m     \u001B[38;5;28mprint\u001B[39m(\u001B[38;5;124m\"\u001B[39m\u001B[38;5;124mhi\u001B[39m\u001B[38;5;124m\"\u001B[39m)\n\u001B[0;32m--> 264\u001B[0m     \u001B[43mtrain_inference_actor\u001B[49m\u001B[43m(\u001B[49m\u001B[43mco_train_actor\u001B[49m\u001B[43m,\u001B[49m\u001B[43mconfig_device\u001B[49m\u001B[38;5;241;43m=\u001B[39;49m\u001B[43mexpr_config\u001B[49m\u001B[43m[\u001B[49m\u001B[38;5;124;43m\"\u001B[39;49m\u001B[38;5;124;43mdevice\u001B[39;49m\u001B[38;5;124;43m\"\u001B[39;49m\u001B[43m]\u001B[49m\u001B[43m)\u001B[49m\n\u001B[1;32m    265\u001B[0m     test_dict\u001B[38;5;241m=\u001B[39mtest_inference_model(co_train_actor)\n\u001B[1;32m    267\u001B[0m     \u001B[38;5;28;01mreturn\u001B[39;00m test_dict,\\\n\u001B[1;32m    268\u001B[0m            co_train_actor\n",
      "File \u001B[0;32m~/Documents/Ai_station/neural_find_sol/wgan_2nd/expr2/super_learn_task_expr2.py:171\u001B[0m, in \u001B[0;36mtrain_inference_actor\u001B[0;34m(co_train_actor, config_device)\u001B[0m\n\u001B[1;32m    169\u001B[0m uf\u001B[38;5;241m.\u001B[39mset_seed(config[\u001B[38;5;124m\"\u001B[39m\u001B[38;5;124mseed\u001B[39m\u001B[38;5;124m\"\u001B[39m])\n\u001B[1;32m    170\u001B[0m \u001B[38;5;66;03m#train the model\u001B[39;00m\n\u001B[0;32m--> 171\u001B[0m \u001B[43mco_train_actor\u001B[49m\u001B[38;5;241;43m.\u001B[39;49m\u001B[43mtrain_inference_neural\u001B[49m\u001B[43m(\u001B[49m\u001B[43mdevice\u001B[49m\u001B[38;5;241;43m=\u001B[39;49m\u001B[43mconfig_device\u001B[49m\u001B[43m)\u001B[49m\n",
      "File \u001B[0;32m~/Documents/Ai_station/neural_find_sol/utlis_2nd/co_train.py:79\u001B[0m, in \u001B[0;36mtrain_init.train_inference_neural\u001B[0;34m(self, process_name, device, save_2visualfig)\u001B[0m\n\u001B[1;32m     74\u001B[0m \u001B[38;5;66;03m# inference loss\u001B[39;00m\n\u001B[1;32m     75\u001B[0m pred_coeffs \u001B[38;5;241m=\u001B[39m \u001B[38;5;28mself\u001B[39m\u001B[38;5;241m.\u001B[39mS_I(real) \u001B[38;5;66;03m#[batch,freq_index*2,2]\u001B[39;00m\n\u001B[0;32m---> 79\u001B[0m left_matrix,pred_data\u001B[38;5;241m=\u001B[39m\u001B[38;5;28;43mself\u001B[39;49m\u001B[38;5;241;43m.\u001B[39;49m\u001B[43mS_I\u001B[49m\u001B[38;5;241;43m.\u001B[39;49m\u001B[43mreturn_pred_data\u001B[49m\u001B[43m(\u001B[49m\u001B[43mpred_coeffs\u001B[49m\u001B[43m,\u001B[49m\u001B[43mreal_freq_distrubtion\u001B[49m\u001B[43m)\u001B[49m\n\u001B[1;32m     80\u001B[0m pred_freq_distrubtion \u001B[38;5;241m=\u001B[39m \u001B[38;5;28mself\u001B[39m\u001B[38;5;241m.\u001B[39mS_I\u001B[38;5;241m.\u001B[39mreturn_fft_spectrum(pred_data,need_norm\u001B[38;5;241m=\u001B[39m\u001B[38;5;28;01mTrue\u001B[39;00m)\n\u001B[1;32m     82\u001B[0m \u001B[38;5;28;01mif\u001B[39;00m(save_2visualfig\u001B[38;5;241m==\u001B[39m\u001B[38;5;28;01mTrue\u001B[39;00m):\n",
      "File \u001B[0;32m~/Documents/Ai_station/neural_find_sol/utlis_2nd/neural_base_class.py:424\u001B[0m, in \u001B[0;36mOmgea_MLPwith_residual_dict.return_pred_data\u001B[0;34m(self, coeff_tensor, freq_distrubtion_tensor, prob_sampe_numb)\u001B[0m\n\u001B[1;32m    421\u001B[0m \u001B[38;5;28mprint\u001B[39m(\u001B[38;5;124m\"\u001B[39m\u001B[38;5;124mlables\u001B[39m\u001B[38;5;124m\"\u001B[39m,\u001B[38;5;28mlen\u001B[39m(labels))\n\u001B[1;32m    422\u001B[0m y_pos \u001B[38;5;241m=\u001B[39m np\u001B[38;5;241m.\u001B[39marange(\u001B[38;5;28mlen\u001B[39m(labels))\n\u001B[0;32m--> 424\u001B[0m \u001B[43mplt\u001B[49m\u001B[38;5;241;43m.\u001B[39;49m\u001B[43mbar\u001B[49m\u001B[43m(\u001B[49m\u001B[43my_pos\u001B[49m\u001B[43m,\u001B[49m\u001B[43m \u001B[49m\u001B[43mcounts\u001B[49m\u001B[43m,\u001B[49m\u001B[43m \u001B[49m\u001B[43malign\u001B[49m\u001B[38;5;241;43m=\u001B[39;49m\u001B[38;5;124;43m'\u001B[39;49m\u001B[38;5;124;43mcenter\u001B[39;49m\u001B[38;5;124;43m'\u001B[39;49m\u001B[43m,\u001B[49m\u001B[43m \u001B[49m\u001B[43malpha\u001B[49m\u001B[38;5;241;43m=\u001B[39;49m\u001B[38;5;241;43m0.5\u001B[39;49m\u001B[43m)\u001B[49m\n\u001B[1;32m    425\u001B[0m plt\u001B[38;5;241m.\u001B[39mxticks(y_pos, labels)\n\u001B[1;32m    426\u001B[0m plt\u001B[38;5;241m.\u001B[39mxlabel(\u001B[38;5;124m'\u001B[39m\u001B[38;5;124mClasses\u001B[39m\u001B[38;5;124m'\u001B[39m)\n",
      "File \u001B[0;32m~/anaconda3/lib/python3.10/site-packages/matplotlib/pyplot.py:2439\u001B[0m, in \u001B[0;36mbar\u001B[0;34m(x, height, width, bottom, align, data, **kwargs)\u001B[0m\n\u001B[1;32m   2435\u001B[0m \u001B[38;5;129m@_copy_docstring_and_deprecators\u001B[39m(Axes\u001B[38;5;241m.\u001B[39mbar)\n\u001B[1;32m   2436\u001B[0m \u001B[38;5;28;01mdef\u001B[39;00m \u001B[38;5;21mbar\u001B[39m(\n\u001B[1;32m   2437\u001B[0m         x, height, width\u001B[38;5;241m=\u001B[39m\u001B[38;5;241m0.8\u001B[39m, bottom\u001B[38;5;241m=\u001B[39m\u001B[38;5;28;01mNone\u001B[39;00m, \u001B[38;5;241m*\u001B[39m, align\u001B[38;5;241m=\u001B[39m\u001B[38;5;124m'\u001B[39m\u001B[38;5;124mcenter\u001B[39m\u001B[38;5;124m'\u001B[39m,\n\u001B[1;32m   2438\u001B[0m         data\u001B[38;5;241m=\u001B[39m\u001B[38;5;28;01mNone\u001B[39;00m, \u001B[38;5;241m*\u001B[39m\u001B[38;5;241m*\u001B[39mkwargs):\n\u001B[0;32m-> 2439\u001B[0m     \u001B[38;5;28;01mreturn\u001B[39;00m \u001B[43mgca\u001B[49m\u001B[43m(\u001B[49m\u001B[43m)\u001B[49m\u001B[38;5;241;43m.\u001B[39;49m\u001B[43mbar\u001B[49m\u001B[43m(\u001B[49m\n\u001B[1;32m   2440\u001B[0m \u001B[43m        \u001B[49m\u001B[43mx\u001B[49m\u001B[43m,\u001B[49m\u001B[43m \u001B[49m\u001B[43mheight\u001B[49m\u001B[43m,\u001B[49m\u001B[43m \u001B[49m\u001B[43mwidth\u001B[49m\u001B[38;5;241;43m=\u001B[39;49m\u001B[43mwidth\u001B[49m\u001B[43m,\u001B[49m\u001B[43m \u001B[49m\u001B[43mbottom\u001B[49m\u001B[38;5;241;43m=\u001B[39;49m\u001B[43mbottom\u001B[49m\u001B[43m,\u001B[49m\u001B[43m \u001B[49m\u001B[43malign\u001B[49m\u001B[38;5;241;43m=\u001B[39;49m\u001B[43malign\u001B[49m\u001B[43m,\u001B[49m\n\u001B[1;32m   2441\u001B[0m \u001B[43m        \u001B[49m\u001B[38;5;241;43m*\u001B[39;49m\u001B[38;5;241;43m*\u001B[39;49m\u001B[43m(\u001B[49m\u001B[43m{\u001B[49m\u001B[38;5;124;43m\"\u001B[39;49m\u001B[38;5;124;43mdata\u001B[39;49m\u001B[38;5;124;43m\"\u001B[39;49m\u001B[43m:\u001B[49m\u001B[43m \u001B[49m\u001B[43mdata\u001B[49m\u001B[43m}\u001B[49m\u001B[43m \u001B[49m\u001B[38;5;28;43;01mif\u001B[39;49;00m\u001B[43m \u001B[49m\u001B[43mdata\u001B[49m\u001B[43m \u001B[49m\u001B[38;5;129;43;01mis\u001B[39;49;00m\u001B[43m \u001B[49m\u001B[38;5;129;43;01mnot\u001B[39;49;00m\u001B[43m \u001B[49m\u001B[38;5;28;43;01mNone\u001B[39;49;00m\u001B[43m \u001B[49m\u001B[38;5;28;43;01melse\u001B[39;49;00m\u001B[43m \u001B[49m\u001B[43m{\u001B[49m\u001B[43m}\u001B[49m\u001B[43m)\u001B[49m\u001B[43m,\u001B[49m\u001B[43m \u001B[49m\u001B[38;5;241;43m*\u001B[39;49m\u001B[38;5;241;43m*\u001B[39;49m\u001B[43mkwargs\u001B[49m\u001B[43m)\u001B[49m\n",
      "File \u001B[0;32m~/anaconda3/lib/python3.10/site-packages/matplotlib/__init__.py:1446\u001B[0m, in \u001B[0;36m_preprocess_data.<locals>.inner\u001B[0;34m(ax, data, *args, **kwargs)\u001B[0m\n\u001B[1;32m   1443\u001B[0m \u001B[38;5;129m@functools\u001B[39m\u001B[38;5;241m.\u001B[39mwraps(func)\n\u001B[1;32m   1444\u001B[0m \u001B[38;5;28;01mdef\u001B[39;00m \u001B[38;5;21minner\u001B[39m(ax, \u001B[38;5;241m*\u001B[39margs, data\u001B[38;5;241m=\u001B[39m\u001B[38;5;28;01mNone\u001B[39;00m, \u001B[38;5;241m*\u001B[39m\u001B[38;5;241m*\u001B[39mkwargs):\n\u001B[1;32m   1445\u001B[0m     \u001B[38;5;28;01mif\u001B[39;00m data \u001B[38;5;129;01mis\u001B[39;00m \u001B[38;5;28;01mNone\u001B[39;00m:\n\u001B[0;32m-> 1446\u001B[0m         \u001B[38;5;28;01mreturn\u001B[39;00m \u001B[43mfunc\u001B[49m\u001B[43m(\u001B[49m\u001B[43max\u001B[49m\u001B[43m,\u001B[49m\u001B[43m \u001B[49m\u001B[38;5;241;43m*\u001B[39;49m\u001B[38;5;28;43mmap\u001B[39;49m\u001B[43m(\u001B[49m\u001B[43msanitize_sequence\u001B[49m\u001B[43m,\u001B[49m\u001B[43m \u001B[49m\u001B[43margs\u001B[49m\u001B[43m)\u001B[49m\u001B[43m,\u001B[49m\u001B[43m \u001B[49m\u001B[38;5;241;43m*\u001B[39;49m\u001B[38;5;241;43m*\u001B[39;49m\u001B[43mkwargs\u001B[49m\u001B[43m)\u001B[49m\n\u001B[1;32m   1448\u001B[0m     bound \u001B[38;5;241m=\u001B[39m new_sig\u001B[38;5;241m.\u001B[39mbind(ax, \u001B[38;5;241m*\u001B[39margs, \u001B[38;5;241m*\u001B[39m\u001B[38;5;241m*\u001B[39mkwargs)\n\u001B[1;32m   1449\u001B[0m     auto_label \u001B[38;5;241m=\u001B[39m (bound\u001B[38;5;241m.\u001B[39marguments\u001B[38;5;241m.\u001B[39mget(label_namer)\n\u001B[1;32m   1450\u001B[0m                   \u001B[38;5;129;01mor\u001B[39;00m bound\u001B[38;5;241m.\u001B[39mkwargs\u001B[38;5;241m.\u001B[39mget(label_namer))\n",
      "File \u001B[0;32m~/anaconda3/lib/python3.10/site-packages/matplotlib/axes/_axes.py:2409\u001B[0m, in \u001B[0;36mAxes.bar\u001B[0;34m(self, x, height, width, bottom, align, **kwargs)\u001B[0m\n\u001B[1;32m   2406\u001B[0m     \u001B[38;5;28;01mif\u001B[39;00m yerr \u001B[38;5;129;01mis\u001B[39;00m \u001B[38;5;129;01mnot\u001B[39;00m \u001B[38;5;28;01mNone\u001B[39;00m:\n\u001B[1;32m   2407\u001B[0m         yerr \u001B[38;5;241m=\u001B[39m \u001B[38;5;28mself\u001B[39m\u001B[38;5;241m.\u001B[39m_convert_dx(yerr, y0, y, \u001B[38;5;28mself\u001B[39m\u001B[38;5;241m.\u001B[39mconvert_yunits)\n\u001B[0;32m-> 2409\u001B[0m x, height, width, y, linewidth, hatch \u001B[38;5;241m=\u001B[39m \u001B[43mnp\u001B[49m\u001B[38;5;241;43m.\u001B[39;49m\u001B[43mbroadcast_arrays\u001B[49m\u001B[43m(\u001B[49m\n\u001B[1;32m   2410\u001B[0m \u001B[43m    \u001B[49m\u001B[38;5;66;43;03m# Make args iterable too.\u001B[39;49;00m\n\u001B[1;32m   2411\u001B[0m \u001B[43m    \u001B[49m\u001B[43mnp\u001B[49m\u001B[38;5;241;43m.\u001B[39;49m\u001B[43matleast_1d\u001B[49m\u001B[43m(\u001B[49m\u001B[43mx\u001B[49m\u001B[43m)\u001B[49m\u001B[43m,\u001B[49m\u001B[43m \u001B[49m\u001B[43mheight\u001B[49m\u001B[43m,\u001B[49m\u001B[43m \u001B[49m\u001B[43mwidth\u001B[49m\u001B[43m,\u001B[49m\u001B[43m \u001B[49m\u001B[43my\u001B[49m\u001B[43m,\u001B[49m\u001B[43m \u001B[49m\u001B[43mlinewidth\u001B[49m\u001B[43m,\u001B[49m\u001B[43m \u001B[49m\u001B[43mhatch\u001B[49m\u001B[43m)\u001B[49m\n\u001B[1;32m   2413\u001B[0m \u001B[38;5;66;03m# Now that units have been converted, set the tick locations.\u001B[39;00m\n\u001B[1;32m   2414\u001B[0m \u001B[38;5;28;01mif\u001B[39;00m orientation \u001B[38;5;241m==\u001B[39m \u001B[38;5;124m'\u001B[39m\u001B[38;5;124mvertical\u001B[39m\u001B[38;5;124m'\u001B[39m:\n",
      "File \u001B[0;32m<__array_function__ internals>:180\u001B[0m, in \u001B[0;36mbroadcast_arrays\u001B[0;34m(*args, **kwargs)\u001B[0m\n",
      "File \u001B[0;32m~/anaconda3/lib/python3.10/site-packages/numpy/lib/stride_tricks.py:540\u001B[0m, in \u001B[0;36mbroadcast_arrays\u001B[0;34m(subok, *args)\u001B[0m\n\u001B[1;32m    533\u001B[0m \u001B[38;5;66;03m# nditer is not used here to avoid the limit of 32 arrays.\u001B[39;00m\n\u001B[1;32m    534\u001B[0m \u001B[38;5;66;03m# Otherwise, something like the following one-liner would suffice:\u001B[39;00m\n\u001B[1;32m    535\u001B[0m \u001B[38;5;66;03m# return np.nditer(args, flags=['multi_index', 'zerosize_ok'],\u001B[39;00m\n\u001B[1;32m    536\u001B[0m \u001B[38;5;66;03m#                  order='C').itviews\u001B[39;00m\n\u001B[1;32m    538\u001B[0m args \u001B[38;5;241m=\u001B[39m [np\u001B[38;5;241m.\u001B[39marray(_m, copy\u001B[38;5;241m=\u001B[39m\u001B[38;5;28;01mFalse\u001B[39;00m, subok\u001B[38;5;241m=\u001B[39msubok) \u001B[38;5;28;01mfor\u001B[39;00m _m \u001B[38;5;129;01min\u001B[39;00m args]\n\u001B[0;32m--> 540\u001B[0m shape \u001B[38;5;241m=\u001B[39m \u001B[43m_broadcast_shape\u001B[49m\u001B[43m(\u001B[49m\u001B[38;5;241;43m*\u001B[39;49m\u001B[43margs\u001B[49m\u001B[43m)\u001B[49m\n\u001B[1;32m    542\u001B[0m \u001B[38;5;28;01mif\u001B[39;00m \u001B[38;5;28mall\u001B[39m(array\u001B[38;5;241m.\u001B[39mshape \u001B[38;5;241m==\u001B[39m shape \u001B[38;5;28;01mfor\u001B[39;00m array \u001B[38;5;129;01min\u001B[39;00m args):\n\u001B[1;32m    543\u001B[0m     \u001B[38;5;66;03m# Common case where nothing needs to be broadcasted.\u001B[39;00m\n\u001B[1;32m    544\u001B[0m     \u001B[38;5;28;01mreturn\u001B[39;00m args\n",
      "File \u001B[0;32m~/anaconda3/lib/python3.10/site-packages/numpy/lib/stride_tricks.py:422\u001B[0m, in \u001B[0;36m_broadcast_shape\u001B[0;34m(*args)\u001B[0m\n\u001B[1;32m    417\u001B[0m \u001B[38;5;250m\u001B[39m\u001B[38;5;124;03m\"\"\"Returns the shape of the arrays that would result from broadcasting the\u001B[39;00m\n\u001B[1;32m    418\u001B[0m \u001B[38;5;124;03msupplied arrays against each other.\u001B[39;00m\n\u001B[1;32m    419\u001B[0m \u001B[38;5;124;03m\"\"\"\u001B[39;00m\n\u001B[1;32m    420\u001B[0m \u001B[38;5;66;03m# use the old-iterator because np.nditer does not handle size 0 arrays\u001B[39;00m\n\u001B[1;32m    421\u001B[0m \u001B[38;5;66;03m# consistently\u001B[39;00m\n\u001B[0;32m--> 422\u001B[0m b \u001B[38;5;241m=\u001B[39m \u001B[43mnp\u001B[49m\u001B[38;5;241;43m.\u001B[39;49m\u001B[43mbroadcast\u001B[49m\u001B[43m(\u001B[49m\u001B[38;5;241;43m*\u001B[39;49m\u001B[43margs\u001B[49m\u001B[43m[\u001B[49m\u001B[43m:\u001B[49m\u001B[38;5;241;43m32\u001B[39;49m\u001B[43m]\u001B[49m\u001B[43m)\u001B[49m\n\u001B[1;32m    423\u001B[0m \u001B[38;5;66;03m# unfortunately, it cannot handle 32 or more arguments directly\u001B[39;00m\n\u001B[1;32m    424\u001B[0m \u001B[38;5;28;01mfor\u001B[39;00m pos \u001B[38;5;129;01min\u001B[39;00m \u001B[38;5;28mrange\u001B[39m(\u001B[38;5;241m32\u001B[39m, \u001B[38;5;28mlen\u001B[39m(args), \u001B[38;5;241m31\u001B[39m):\n\u001B[1;32m    425\u001B[0m     \u001B[38;5;66;03m# ironically, np.broadcast does not properly handle np.broadcast\u001B[39;00m\n\u001B[1;32m    426\u001B[0m     \u001B[38;5;66;03m# objects (it treats them as scalars)\u001B[39;00m\n\u001B[1;32m    427\u001B[0m     \u001B[38;5;66;03m# use broadcasting to avoid allocating the full array\u001B[39;00m\n",
      "\u001B[0;31mValueError\u001B[0m: shape mismatch: objects cannot be broadcast to a single shape.  Mismatch is between arg 0 with shape (51,) and arg 1 with shape (36,)."
     ]
    },
    {
     "data": {
      "text/plain": "<Figure size 640x480 with 1 Axes>",
      "image/png": "[encoded data removed]"
     },
     "metadata": {},
     "output_type": "display_data"
    }
   ],
   "source": [
    "# return test' results\n",
    "expr2.do_expr(                          results_save_path=results_path,\n",
    "                                        folder_num=97,\n",
    "                                        train_config=expr2.config,\n",
    "                                        model_type=\"inference_net\")"
   ],
   "metadata": {
    "collapsed": false,
    "ExecuteTime": {
     "end_time": "2023-10-17T08:03:09.641223Z",
     "start_time": "2023-10-17T08:03:08.356054Z"
    }
   }
  },
  {
   "cell_type": "markdown",
   "source": [
    "\n",
    "## here is a plot function to output a figure\n"
   ],
   "metadata": {
    "collapsed": false
   }
  },
  {
   "cell_type": "code",
   "execution_count": null,
   "outputs": [],
   "source": [
    "import matplotlib.pyplot as plt\n",
    "import os\n",
    "import numpy as np"
   ],
   "metadata": {
    "collapsed": false
   }
  },
  {
   "cell_type": "code",
   "execution_count": null,
   "outputs": [],
   "source": [
    "def plot_loss(path, loss_train, x_log=False):\n",
    "\n",
    "    \"\"\"\n",
    "    Plot loss.\n",
    "    Args:\n",
    "        path (str): path.\n",
    "        loss_train (list): list of training loss.\n",
    "        x_log (bool): whether to use log scale for x-axis.\n",
    "    Returns:\n",
    "        None.\n",
    "    \"\"\"\n",
    "    plt.figure()\n",
    "    ax = plt.gca()\n",
    "    y2 = np.asarray(loss_train)\n",
    "    plt.plot(y2, 'k-', label='Train')\n",
    "    plt.xlabel('epoch', fontsize=18)\n",
    "    ax.tick_params(labelsize=18)\n",
    "    plt.yscale('log')\n",
    "    if x_log == False:\n",
    "        fntmp = os.path.join(path, 'loss.png')\n",
    "\n",
    "    else:\n",
    "        plt.xscale('log')\n",
    "        fntmp = os.path.join(path, 'loss_log.png')\n",
    "    plt.tight_layout()\n",
    "    plt.savefig(fntmp,dpi=300)\n",
    "\n",
    "    plt.close()\n",
    "def plot_model_output(path, args, output, epoch):\n",
    "\n",
    "    plt.figure()\n",
    "    ax = plt.gca()\n",
    "\n",
    "    plt.plot(args.training_input.detach().cpu().numpy(),\n",
    "             args.training_target.detach().cpu().numpy(), 'b*', label='True')\n",
    "    plt.plot(args.test_input.detach().cpu().numpy(),\n",
    "             output.detach().cpu().numpy(), 'r-', label='Test')\n",
    "\n",
    "    ax.tick_params(labelsize=18)\n",
    "    plt.legend(fontsize=18)\n",
    "    fntmp = os.path.join(path, 'output', str(epoch)+'.png')\n",
    "\n",
    "    plt.savefig(fntmp, dpi=300)\n",
    "\n",
    "\n",
    "    plt.close()\n",
    "def my_fft(data, freq_len=40, isnorm=1):\n",
    "\n",
    "    \"\"\"\n",
    "    This function performs FFT on the given data.\n",
    "\n",
    "    Args:\n",
    "    data (numpy.ndarray): The input data.\n",
    "    freq_len (int): The length of the frequency.\n",
    "    isnorm (int): The normalization factor.\n",
    "\n",
    "    Returns:\n",
    "    return_fft (numpy.ndarray): The FFT output array.\n",
    "    \"\"\"\n",
    "\n",
    "    # second_diff_input = np.mean(np.diff(np.diff(np.squeeze(x_input))))\n",
    "    # if abs(second_diff_input) < 1e-10:\n",
    "    datat = np.squeeze(data)\n",
    "    datat_fft = np.fft.fft(datat)\n",
    "    ind2 = range(freq_len)\n",
    "    fft_coe = datat_fft[ind2]\n",
    "    if isnorm == 1:\n",
    "        return_fft = np.absolute(fft_coe)\n",
    "    else:\n",
    "        return_fft = fft_coe\n",
    "\n",
    "    return return_fft\n",
    "def SelectPeakIndex(FFT_Data, endpoint=True):\n",
    "\n",
    "    \"\"\"\n",
    "    This function selects the peak index from FFT data.\n",
    "\n",
    "    Args:\n",
    "    FFT_Data (numpy.ndarray): The FFT data array.\n",
    "    endpoint (bool): Whether to include endpoints or not. Default is True.\n",
    "\n",
    "    Returns:\n",
    "    sel_ind (numpy.ndarray): Selected index array with peaks.\n",
    "    \"\"\"\n",
    "\n",
    "    D1 = FFT_Data[1:-1]-FFT_Data[0:-2]\n",
    "    D2 = FFT_Data[1:-1]-FFT_Data[2:]\n",
    "    D3 = np.logical_and(D1 > 0, D2 > 0)\n",
    "    tmp = np.where(D3 == True)\n",
    "    sel_ind = tmp[0]+1\n",
    "    if endpoint: #\n",
    "        if FFT_Data[0]-FFT_Data[1] > 0:\n",
    "            sel_ind = np.concatenate([[0], sel_ind])\n",
    "        if FFT_Data[-1]-FFT_Data[-2] > 0:\n",
    "            Last_ind = len(FFT_Data)-1\n",
    "            sel_ind = np.concatenate([sel_ind, [Last_ind]])\n",
    "    return sel_ind\n",
    "def plot_freq_distr(args):\n",
    "    \"\"\"\n",
    "    Plot frequency distribution and the heatmap of the given training target and output.\n",
    "\n",
    "    Args:\n",
    "    args: A dictionary containing training target and output.\n",
    "\n",
    "    Returns:\n",
    "    None\n",
    "    \"\"\"\n",
    "    y_fft = my_fft(args.training_target.detach().cpu().numpy()) / \\\n",
    "        args.training_size\n",
    "    plt.figure()\n",
    "    ax = plt.gca()\n",
    "    plt.semilogy(y_fft+1e-5, label='Target')\n",
    "    idx = SelectPeakIndex(y_fft, endpoint=False)\n",
    "    plt.semilogy(idx, y_fft[idx]+1e-5, 'o')\n",
    "    y_fft_pred = my_fft(args.training_output[-1])/args.training_size\n",
    "    plt.semilogy(y_fft_pred+1e-5, label='Model output')\n",
    "    plt.semilogy(idx, y_fft_pred[idx]+1e-5, 'o')\n",
    "    plt.legend(fontsize=22)\n",
    "    plt.xlabel('freq idx', fontsize=22)\n",
    "    plt.ylabel('freq', fontsize=22)\n",
    "    plt.gca().tick_params(axis='y', labelsize=22)\n",
    "    plt.gca().tick_params(axis='x', labelsize=22)\n",
    "    plt.tight_layout()\n",
    "    plt.savefig(os.path.join(args.path, 'fft.png'), dpi=300)\n",
    "    plt.show()\n",
    "    plt.close()\n",
    "\n",
    "    y_pred_epoch = np.squeeze(args.training_output)\n",
    "    idx1 = idx[:3]\n",
    "    abs_err = np.zeros([len(idx1), len(args.training_output)])\n",
    "    y_fft = my_fft(args.training_target)\n",
    "    tmp1 = y_fft[idx1]\n",
    "    print(abs_err.shape)\n",
    "    for i in range(len(y_pred_epoch)):\n",
    "        tmp2 = my_fft(y_pred_epoch[i])[idx1]\n",
    "        abs_err[:, i] = np.abs(tmp1 - tmp2)/(1e-5 + tmp1)\n",
    "\n",
    "\n",
    "\n",
    "    plt.figure(figsize=(8, 6))\n",
    "    ax = plt.gca()\n",
    "    plt.pcolor(abs_err, cmap='RdBu', vmin=0.1, vmax=1, linewidths=0.4)\n",
    "    plt.colorbar()\n",
    "\n",
    "\n",
    "    plt.xlabel('Epoch', fontsize=22)\n",
    "\n",
    "    # Set the y-axis ticks and labels to 1, 2, 3, and rotate the labels\n",
    "    plt.yticks([0.5, 1.5, 2.5], [1, 2, 3], rotation=0, fontsize=22)\n",
    "\n",
    "    # Set the y-axis tick parameters to hide the tick marks and set the tick label size\n",
    "    plt.gca().yaxis.set_tick_params(size=0)\n",
    "    plt.gca().tick_params(axis='y', labelsize=22)\n",
    "    plt.gca().tick_params(axis='x', labelsize=22)\n",
    "\n",
    "\n",
    "    plt.title('Absolute Error', fontsize=22)\n",
    "\n",
    "    plt.tight_layout()\n",
    "\n",
    "    plt.savefig(os.path.join(args.path, 'hot.png'))\n",
    "    plt.show()\n",
    "    plt.close()\n",
    "def plot_target_pred_result(target,pred):\n",
    "    \"\"\"\n",
    "    Plot the target.\n",
    "\n",
    "    Args:\n",
    "        target_tensor_tensor (torch.Tensor): The target tensor.\n",
    "        pred_tensor (torch.Tensor): The prediction tensor.\n",
    "\n",
    "    \"\"\"\n",
    "    plt.figure()\n",
    "    ax = plt.gca()\n",
    "\n",
    "    plt.plot(target.detach().cpu().numpy(),\n",
    "             target.cpu().numpy(), 'b*', label='True')\n",
    "    plt.plot(target.detach().cpu().numpy(),\n",
    "             pred.cpu().numpy(), 'r-', label='Test')\n",
    "\n",
    "    ax.tick_params(labelsize=18)\n",
    "    plt.legend(fontsize=18)\n",
    "    plt.show()\n",
    "    print(\"The target function:\")"
   ],
   "metadata": {
    "collapsed": false,
    "ExecuteTime": {
     "start_time": "2023-10-16T06:00:35.014480Z"
    }
   }
  },
  {
   "cell_type": "markdown",
   "source": [],
   "metadata": {
    "collapsed": false
   }
  },
  {
   "cell_type": "markdown",
   "source": [
    "# read the .pth"
   ],
   "metadata": {
    "collapsed": false
   }
  },
  {
   "cell_type": "code",
   "execution_count": null,
   "outputs": [],
   "source": [
    "analysis_pth=\"/Users/liangaoming/Documents/Ai_station/neural_find_sol/wgan_2nd/expr2/expr2_results/expr2_97_data/train_process/inference_net/analysis_files/tensor_0.pth\""
   ],
   "metadata": {
    "collapsed": false
   }
  },
  {
   "cell_type": "code",
   "execution_count": 267,
   "outputs": [],
   "source": [
    "import torch\n",
    "index= torch.randint(low=0,high=100, size=(20,))\n"
   ],
   "metadata": {
    "collapsed": false,
    "ExecuteTime": {
     "end_time": "2023-10-16T16:09:04.424356Z",
     "start_time": "2023-10-16T16:09:04.359409Z"
    }
   }
  },
  {
   "cell_type": "code",
   "execution_count": 271,
   "outputs": [
    {
     "name": "stdout",
     "output_type": "stream",
     "text": [
      "Sampled indices: tensor([2, 2, 0, 3, 2, 2, 3, 5, 0, 5])\n"
     ]
    }
   ],
   "source": [
    "import torch\n",
    "\n",
    "# 假设有10个位置，其中索引 2 的权重最高\n",
    "weights = torch.tensor([0.05, 0.05, 0.4, 0.05, 0.05, 0.1, 0.1, 0.1, 0.05, 0.05])\n",
    "\n",
    "# 采样 10 个索引，允许重复\n",
    "sampled_indices = torch.multinomial(weights, 10, replacement=True)\n",
    "\n",
    "print(\"Sampled indices:\", sampled_indices)\n"
   ],
   "metadata": {
    "collapsed": false,
    "ExecuteTime": {
     "end_time": "2023-10-16T16:16:14.977168Z",
     "start_time": "2023-10-16T16:16:14.893471Z"
    }
   }
  },
  {
   "cell_type": "code",
   "execution_count": 275,
   "outputs": [
    {
     "name": "stdout",
     "output_type": "stream",
     "text": [
      "torch.Size([10])\n",
      "torch.Size([10])\n",
      "torch.Size([10])\n",
      "torch.Size([10])\n",
      "torch.Size([10])\n",
      "torch.Size([10])\n",
      "torch.Size([10])\n",
      "torch.Size([10])\n",
      "torch.Size([10])\n",
      "torch.Size([10])\n",
      "torch.Size([10])\n",
      "torch.Size([10])\n",
      "torch.Size([10])\n",
      "torch.Size([10])\n",
      "torch.Size([10])\n",
      "torch.Size([10])\n",
      "torch.Size([10])\n",
      "torch.Size([10])\n",
      "torch.Size([10])\n",
      "torch.Size([10])\n",
      "torch.Size([10])\n",
      "torch.Size([10])\n",
      "torch.Size([10])\n",
      "torch.Size([10])\n",
      "torch.Size([10])\n",
      "torch.Size([10])\n",
      "torch.Size([10])\n",
      "torch.Size([10])\n",
      "torch.Size([10])\n",
      "torch.Size([10])\n",
      "torch.Size([10])\n",
      "torch.Size([10])\n",
      "torch.Size([10])\n",
      "torch.Size([10])\n",
      "torch.Size([10])\n",
      "torch.Size([10])\n",
      "torch.Size([10])\n",
      "torch.Size([10])\n",
      "torch.Size([10])\n",
      "torch.Size([10])\n",
      "torch.Size([10])\n",
      "torch.Size([10])\n",
      "torch.Size([10])\n",
      "torch.Size([10])\n",
      "torch.Size([10])\n",
      "torch.Size([10])\n",
      "torch.Size([10])\n",
      "torch.Size([10])\n",
      "torch.Size([10])\n",
      "torch.Size([10])\n",
      "torch.Size([10])\n",
      "torch.Size([10])\n",
      "torch.Size([10])\n",
      "torch.Size([10])\n",
      "torch.Size([10])\n",
      "torch.Size([10])\n",
      "torch.Size([10])\n",
      "torch.Size([10])\n",
      "torch.Size([10])\n",
      "torch.Size([10])\n",
      "torch.Size([10])\n",
      "torch.Size([10])\n",
      "torch.Size([10])\n",
      "torch.Size([10])\n",
      "torch.Size([10])\n",
      "torch.Size([10])\n",
      "torch.Size([10])\n",
      "torch.Size([10])\n",
      "torch.Size([10])\n",
      "torch.Size([10])\n",
      "torch.Size([10])\n",
      "torch.Size([10])\n",
      "torch.Size([10])\n",
      "torch.Size([10])\n",
      "torch.Size([10])\n",
      "torch.Size([10])\n",
      "torch.Size([10])\n",
      "torch.Size([10])\n",
      "torch.Size([10])\n",
      "torch.Size([10])\n",
      "torch.Size([10])\n",
      "torch.Size([10])\n",
      "torch.Size([10])\n",
      "torch.Size([10])\n",
      "torch.Size([10])\n",
      "torch.Size([10])\n",
      "torch.Size([10])\n",
      "torch.Size([10])\n",
      "torch.Size([10])\n",
      "torch.Size([10])\n",
      "torch.Size([10])\n",
      "torch.Size([10])\n",
      "torch.Size([10])\n",
      "torch.Size([10])\n",
      "torch.Size([10])\n",
      "torch.Size([10])\n",
      "torch.Size([10])\n",
      "torch.Size([10])\n",
      "torch.Size([10])\n",
      "torch.Size([10])\n",
      "torch.Size([10])\n",
      "torch.Size([10])\n",
      "torch.Size([10])\n",
      "torch.Size([10])\n",
      "torch.Size([10])\n",
      "torch.Size([10])\n",
      "torch.Size([10])\n",
      "torch.Size([10])\n",
      "torch.Size([10])\n",
      "torch.Size([10])\n",
      "torch.Size([10])\n",
      "torch.Size([10])\n",
      "torch.Size([10])\n",
      "torch.Size([10])\n",
      "torch.Size([10])\n",
      "torch.Size([10])\n",
      "torch.Size([10])\n",
      "torch.Size([10])\n",
      "torch.Size([10])\n",
      "torch.Size([10])\n",
      "torch.Size([10])\n",
      "torch.Size([10])\n",
      "torch.Size([10])\n",
      "torch.Size([10])\n",
      "torch.Size([10])\n",
      "torch.Size([10])\n",
      "torch.Size([10])\n",
      "torch.Size([10])\n",
      "torch.Size([10])\n",
      "torch.Size([10])\n",
      "torch.Size([10])\n",
      "torch.Size([10])\n",
      "torch.Size([10])\n",
      "torch.Size([10])\n",
      "torch.Size([10])\n",
      "torch.Size([10])\n",
      "torch.Size([10])\n",
      "torch.Size([10])\n",
      "torch.Size([10])\n",
      "torch.Size([10])\n",
      "torch.Size([10])\n",
      "torch.Size([10])\n",
      "torch.Size([10])\n",
      "torch.Size([10])\n",
      "torch.Size([10])\n",
      "torch.Size([10])\n",
      "torch.Size([10])\n",
      "torch.Size([10])\n",
      "torch.Size([10])\n",
      "torch.Size([10])\n",
      "torch.Size([10])\n",
      "torch.Size([10])\n",
      "torch.Size([10])\n",
      "torch.Size([10])\n",
      "torch.Size([10])\n",
      "torch.Size([10])\n",
      "torch.Size([10])\n",
      "torch.Size([10])\n",
      "torch.Size([10])\n",
      "torch.Size([10])\n",
      "torch.Size([10])\n",
      "torch.Size([10])\n",
      "torch.Size([10])\n",
      "torch.Size([10])\n",
      "torch.Size([10])\n",
      "torch.Size([10])\n",
      "torch.Size([10])\n",
      "torch.Size([10])\n",
      "torch.Size([10])\n",
      "torch.Size([10])\n",
      "torch.Size([10])\n",
      "torch.Size([10])\n",
      "torch.Size([10])\n",
      "torch.Size([10])\n",
      "torch.Size([10])\n",
      "torch.Size([10])\n",
      "torch.Size([10])\n",
      "torch.Size([10])\n",
      "torch.Size([10])\n",
      "torch.Size([10])\n",
      "torch.Size([10])\n",
      "torch.Size([10])\n",
      "torch.Size([10])\n",
      "torch.Size([10])\n",
      "torch.Size([10])\n",
      "torch.Size([10])\n",
      "torch.Size([10])\n",
      "torch.Size([10])\n",
      "torch.Size([10])\n",
      "torch.Size([10])\n",
      "torch.Size([10])\n",
      "torch.Size([10])\n",
      "torch.Size([10])\n",
      "torch.Size([10])\n",
      "torch.Size([10])\n",
      "torch.Size([10])\n",
      "torch.Size([10])\n",
      "torch.Size([10])\n",
      "torch.Size([10])\n",
      "torch.Size([10])\n",
      "torch.Size([10])\n",
      "torch.Size([10])\n",
      "torch.Size([10])\n",
      "torch.Size([10])\n",
      "torch.Size([10])\n",
      "torch.Size([10])\n",
      "torch.Size([10])\n",
      "torch.Size([10])\n",
      "torch.Size([10])\n",
      "torch.Size([10])\n",
      "torch.Size([10])\n",
      "torch.Size([10])\n",
      "torch.Size([10])\n",
      "torch.Size([10])\n",
      "torch.Size([10])\n",
      "torch.Size([10])\n",
      "torch.Size([10])\n",
      "torch.Size([10])\n",
      "torch.Size([10])\n",
      "torch.Size([10])\n",
      "torch.Size([10])\n",
      "torch.Size([10])\n",
      "torch.Size([10])\n",
      "torch.Size([10])\n",
      "torch.Size([10])\n",
      "torch.Size([10])\n",
      "torch.Size([10])\n",
      "torch.Size([10])\n",
      "torch.Size([10])\n",
      "torch.Size([10])\n",
      "torch.Size([10])\n",
      "torch.Size([10])\n",
      "torch.Size([10])\n",
      "torch.Size([10])\n",
      "torch.Size([10])\n",
      "torch.Size([10])\n",
      "torch.Size([10])\n",
      "torch.Size([10])\n",
      "torch.Size([10])\n",
      "torch.Size([10])\n",
      "torch.Size([10])\n",
      "torch.Size([10])\n",
      "torch.Size([10])\n",
      "torch.Size([10])\n",
      "torch.Size([10])\n",
      "torch.Size([10])\n",
      "torch.Size([10])\n",
      "torch.Size([10])\n",
      "torch.Size([10])\n",
      "torch.Size([10])\n",
      "torch.Size([10])\n",
      "torch.Size([10])\n",
      "torch.Size([10])\n",
      "torch.Size([10])\n",
      "torch.Size([10])\n",
      "torch.Size([10])\n",
      "Result tensor shape: torch.Size([256, 10])\n"
     ]
    }
   ],
   "source": [
    "import torch\n",
    "\n",
    "# 初始化一个三维张量，维度为 [256, 100, 2]\n",
    "tensor = torch.rand([256, 100, 2])\n",
    "\n",
    "# 初始化一个用于存储结果的列表\n",
    "result_list = []\n",
    "\n",
    "# 在第二个维度（大小为100）上应用多项式随机抽样\n",
    "for i in range(tensor.shape[0]):\n",
    "    # 对每一个 [100, 2] 的子张量应用 torch.multinomial\n",
    "    sampled_indices = torch.multinomial(tensor[i,:,0], 10, replacement=True)  # 假设我们抽样10个点\n",
    "    print(sampled_indices.shape)\n",
    "    result_list.append(sampled_indices)\n",
    "\n",
    "# 将结果转化为张量\n",
    "result_tensor = torch.stack(result_list, dim=0)\n",
    "\n",
    "print(\"Result tensor shape:\", result_tensor.shape)\n"
   ],
   "metadata": {
    "collapsed": false,
    "ExecuteTime": {
     "end_time": "2023-10-16T16:22:01.570542Z",
     "start_time": "2023-10-16T16:22:01.513Z"
    }
   }
  },
  {
   "cell_type": "code",
   "execution_count": 274,
   "outputs": [
    {
     "data": {
      "text/plain": "tensor([[67, 42, 67,  ...,  0, 53, 34],\n        [91,  2, 55,  ..., 93, 32, 24],\n        [30,  5, 16,  ...,  3, 31,  7],\n        ...,\n        [79, 52, 53,  ..., 74, 23, 82],\n        [50, 43, 77,  ..., 97, 76, 91],\n        [20, 41, 56,  ..., 15, 80, 51]])"
     },
     "execution_count": 274,
     "metadata": {},
     "output_type": "execute_result"
    }
   ],
   "source": [],
   "metadata": {
    "collapsed": false,
    "ExecuteTime": {
     "end_time": "2023-10-16T16:21:17.171826Z",
     "start_time": "2023-10-16T16:21:17.115745Z"
    }
   }
  },
  {
   "cell_type": "code",
   "execution_count": 330,
   "outputs": [
    {
     "ename": "ValueError",
     "evalue": "shape mismatch: objects cannot be broadcast to a single shape.  Mismatch is between arg 0 with shape (3,) and arg 1 with shape (36,).",
     "output_type": "error",
     "traceback": [
      "\u001B[0;31m---------------------------------------------------------------------------\u001B[0m",
      "\u001B[0;31mValueError\u001B[0m                                Traceback (most recent call last)",
      "Cell \u001B[0;32mIn[330], line 19\u001B[0m\n\u001B[1;32m     16\u001B[0m labels \u001B[38;5;241m=\u001B[39m [\u001B[38;5;124m'\u001B[39m\u001B[38;5;124mClass 0\u001B[39m\u001B[38;5;124m'\u001B[39m, \u001B[38;5;124m'\u001B[39m\u001B[38;5;124mClass 1\u001B[39m\u001B[38;5;124m'\u001B[39m, \u001B[38;5;124m'\u001B[39m\u001B[38;5;124mClass 2\u001B[39m\u001B[38;5;124m'\u001B[39m]\n\u001B[1;32m     17\u001B[0m y_pos \u001B[38;5;241m=\u001B[39m np\u001B[38;5;241m.\u001B[39marange(\u001B[38;5;28mlen\u001B[39m(labels))\n\u001B[0;32m---> 19\u001B[0m \u001B[43mplt\u001B[49m\u001B[38;5;241;43m.\u001B[39;49m\u001B[43mbar\u001B[49m\u001B[43m(\u001B[49m\u001B[43my_pos\u001B[49m\u001B[43m,\u001B[49m\u001B[43m \u001B[49m\u001B[43mcounts\u001B[49m\u001B[43m,\u001B[49m\u001B[43m \u001B[49m\u001B[43malign\u001B[49m\u001B[38;5;241;43m=\u001B[39;49m\u001B[38;5;124;43m'\u001B[39;49m\u001B[38;5;124;43mcenter\u001B[39;49m\u001B[38;5;124;43m'\u001B[39;49m\u001B[43m,\u001B[49m\u001B[43m \u001B[49m\u001B[43malpha\u001B[49m\u001B[38;5;241;43m=\u001B[39;49m\u001B[38;5;241;43m0.5\u001B[39;49m\u001B[43m)\u001B[49m\n\u001B[1;32m     20\u001B[0m plt\u001B[38;5;241m.\u001B[39mxticks(y_pos, labels)\n\u001B[1;32m     21\u001B[0m plt\u001B[38;5;241m.\u001B[39mxlabel(\u001B[38;5;124m'\u001B[39m\u001B[38;5;124mClasses\u001B[39m\u001B[38;5;124m'\u001B[39m)\n",
      "File \u001B[0;32m~/anaconda3/lib/python3.10/site-packages/matplotlib/pyplot.py:2439\u001B[0m, in \u001B[0;36mbar\u001B[0;34m(x, height, width, bottom, align, data, **kwargs)\u001B[0m\n\u001B[1;32m   2435\u001B[0m \u001B[38;5;129m@_copy_docstring_and_deprecators\u001B[39m(Axes\u001B[38;5;241m.\u001B[39mbar)\n\u001B[1;32m   2436\u001B[0m \u001B[38;5;28;01mdef\u001B[39;00m \u001B[38;5;21mbar\u001B[39m(\n\u001B[1;32m   2437\u001B[0m         x, height, width\u001B[38;5;241m=\u001B[39m\u001B[38;5;241m0.8\u001B[39m, bottom\u001B[38;5;241m=\u001B[39m\u001B[38;5;28;01mNone\u001B[39;00m, \u001B[38;5;241m*\u001B[39m, align\u001B[38;5;241m=\u001B[39m\u001B[38;5;124m'\u001B[39m\u001B[38;5;124mcenter\u001B[39m\u001B[38;5;124m'\u001B[39m,\n\u001B[1;32m   2438\u001B[0m         data\u001B[38;5;241m=\u001B[39m\u001B[38;5;28;01mNone\u001B[39;00m, \u001B[38;5;241m*\u001B[39m\u001B[38;5;241m*\u001B[39mkwargs):\n\u001B[0;32m-> 2439\u001B[0m     \u001B[38;5;28;01mreturn\u001B[39;00m \u001B[43mgca\u001B[49m\u001B[43m(\u001B[49m\u001B[43m)\u001B[49m\u001B[38;5;241;43m.\u001B[39;49m\u001B[43mbar\u001B[49m\u001B[43m(\u001B[49m\n\u001B[1;32m   2440\u001B[0m \u001B[43m        \u001B[49m\u001B[43mx\u001B[49m\u001B[43m,\u001B[49m\u001B[43m \u001B[49m\u001B[43mheight\u001B[49m\u001B[43m,\u001B[49m\u001B[43m \u001B[49m\u001B[43mwidth\u001B[49m\u001B[38;5;241;43m=\u001B[39;49m\u001B[43mwidth\u001B[49m\u001B[43m,\u001B[49m\u001B[43m \u001B[49m\u001B[43mbottom\u001B[49m\u001B[38;5;241;43m=\u001B[39;49m\u001B[43mbottom\u001B[49m\u001B[43m,\u001B[49m\u001B[43m \u001B[49m\u001B[43malign\u001B[49m\u001B[38;5;241;43m=\u001B[39;49m\u001B[43malign\u001B[49m\u001B[43m,\u001B[49m\n\u001B[1;32m   2441\u001B[0m \u001B[43m        \u001B[49m\u001B[38;5;241;43m*\u001B[39;49m\u001B[38;5;241;43m*\u001B[39;49m\u001B[43m(\u001B[49m\u001B[43m{\u001B[49m\u001B[38;5;124;43m\"\u001B[39;49m\u001B[38;5;124;43mdata\u001B[39;49m\u001B[38;5;124;43m\"\u001B[39;49m\u001B[43m:\u001B[49m\u001B[43m \u001B[49m\u001B[43mdata\u001B[49m\u001B[43m}\u001B[49m\u001B[43m \u001B[49m\u001B[38;5;28;43;01mif\u001B[39;49;00m\u001B[43m \u001B[49m\u001B[43mdata\u001B[49m\u001B[43m \u001B[49m\u001B[38;5;129;43;01mis\u001B[39;49;00m\u001B[43m \u001B[49m\u001B[38;5;129;43;01mnot\u001B[39;49;00m\u001B[43m \u001B[49m\u001B[38;5;28;43;01mNone\u001B[39;49;00m\u001B[43m \u001B[49m\u001B[38;5;28;43;01melse\u001B[39;49;00m\u001B[43m \u001B[49m\u001B[43m{\u001B[49m\u001B[43m}\u001B[49m\u001B[43m)\u001B[49m\u001B[43m,\u001B[49m\u001B[43m \u001B[49m\u001B[38;5;241;43m*\u001B[39;49m\u001B[38;5;241;43m*\u001B[39;49m\u001B[43mkwargs\u001B[49m\u001B[43m)\u001B[49m\n",
      "File \u001B[0;32m~/anaconda3/lib/python3.10/site-packages/matplotlib/__init__.py:1446\u001B[0m, in \u001B[0;36m_preprocess_data.<locals>.inner\u001B[0;34m(ax, data, *args, **kwargs)\u001B[0m\n\u001B[1;32m   1443\u001B[0m \u001B[38;5;129m@functools\u001B[39m\u001B[38;5;241m.\u001B[39mwraps(func)\n\u001B[1;32m   1444\u001B[0m \u001B[38;5;28;01mdef\u001B[39;00m \u001B[38;5;21minner\u001B[39m(ax, \u001B[38;5;241m*\u001B[39margs, data\u001B[38;5;241m=\u001B[39m\u001B[38;5;28;01mNone\u001B[39;00m, \u001B[38;5;241m*\u001B[39m\u001B[38;5;241m*\u001B[39mkwargs):\n\u001B[1;32m   1445\u001B[0m     \u001B[38;5;28;01mif\u001B[39;00m data \u001B[38;5;129;01mis\u001B[39;00m \u001B[38;5;28;01mNone\u001B[39;00m:\n\u001B[0;32m-> 1446\u001B[0m         \u001B[38;5;28;01mreturn\u001B[39;00m \u001B[43mfunc\u001B[49m\u001B[43m(\u001B[49m\u001B[43max\u001B[49m\u001B[43m,\u001B[49m\u001B[43m \u001B[49m\u001B[38;5;241;43m*\u001B[39;49m\u001B[38;5;28;43mmap\u001B[39;49m\u001B[43m(\u001B[49m\u001B[43msanitize_sequence\u001B[49m\u001B[43m,\u001B[49m\u001B[43m \u001B[49m\u001B[43margs\u001B[49m\u001B[43m)\u001B[49m\u001B[43m,\u001B[49m\u001B[43m \u001B[49m\u001B[38;5;241;43m*\u001B[39;49m\u001B[38;5;241;43m*\u001B[39;49m\u001B[43mkwargs\u001B[49m\u001B[43m)\u001B[49m\n\u001B[1;32m   1448\u001B[0m     bound \u001B[38;5;241m=\u001B[39m new_sig\u001B[38;5;241m.\u001B[39mbind(ax, \u001B[38;5;241m*\u001B[39margs, \u001B[38;5;241m*\u001B[39m\u001B[38;5;241m*\u001B[39mkwargs)\n\u001B[1;32m   1449\u001B[0m     auto_label \u001B[38;5;241m=\u001B[39m (bound\u001B[38;5;241m.\u001B[39marguments\u001B[38;5;241m.\u001B[39mget(label_namer)\n\u001B[1;32m   1450\u001B[0m                   \u001B[38;5;129;01mor\u001B[39;00m bound\u001B[38;5;241m.\u001B[39mkwargs\u001B[38;5;241m.\u001B[39mget(label_namer))\n",
      "File \u001B[0;32m~/anaconda3/lib/python3.10/site-packages/matplotlib/axes/_axes.py:2409\u001B[0m, in \u001B[0;36mAxes.bar\u001B[0;34m(self, x, height, width, bottom, align, **kwargs)\u001B[0m\n\u001B[1;32m   2406\u001B[0m     \u001B[38;5;28;01mif\u001B[39;00m yerr \u001B[38;5;129;01mis\u001B[39;00m \u001B[38;5;129;01mnot\u001B[39;00m \u001B[38;5;28;01mNone\u001B[39;00m:\n\u001B[1;32m   2407\u001B[0m         yerr \u001B[38;5;241m=\u001B[39m \u001B[38;5;28mself\u001B[39m\u001B[38;5;241m.\u001B[39m_convert_dx(yerr, y0, y, \u001B[38;5;28mself\u001B[39m\u001B[38;5;241m.\u001B[39mconvert_yunits)\n\u001B[0;32m-> 2409\u001B[0m x, height, width, y, linewidth, hatch \u001B[38;5;241m=\u001B[39m \u001B[43mnp\u001B[49m\u001B[38;5;241;43m.\u001B[39;49m\u001B[43mbroadcast_arrays\u001B[49m\u001B[43m(\u001B[49m\n\u001B[1;32m   2410\u001B[0m \u001B[43m    \u001B[49m\u001B[38;5;66;43;03m# Make args iterable too.\u001B[39;49;00m\n\u001B[1;32m   2411\u001B[0m \u001B[43m    \u001B[49m\u001B[43mnp\u001B[49m\u001B[38;5;241;43m.\u001B[39;49m\u001B[43matleast_1d\u001B[49m\u001B[43m(\u001B[49m\u001B[43mx\u001B[49m\u001B[43m)\u001B[49m\u001B[43m,\u001B[49m\u001B[43m \u001B[49m\u001B[43mheight\u001B[49m\u001B[43m,\u001B[49m\u001B[43m \u001B[49m\u001B[43mwidth\u001B[49m\u001B[43m,\u001B[49m\u001B[43m \u001B[49m\u001B[43my\u001B[49m\u001B[43m,\u001B[49m\u001B[43m \u001B[49m\u001B[43mlinewidth\u001B[49m\u001B[43m,\u001B[49m\u001B[43m \u001B[49m\u001B[43mhatch\u001B[49m\u001B[43m)\u001B[49m\n\u001B[1;32m   2413\u001B[0m \u001B[38;5;66;03m# Now that units have been converted, set the tick locations.\u001B[39;00m\n\u001B[1;32m   2414\u001B[0m \u001B[38;5;28;01mif\u001B[39;00m orientation \u001B[38;5;241m==\u001B[39m \u001B[38;5;124m'\u001B[39m\u001B[38;5;124mvertical\u001B[39m\u001B[38;5;124m'\u001B[39m:\n",
      "File \u001B[0;32m<__array_function__ internals>:180\u001B[0m, in \u001B[0;36mbroadcast_arrays\u001B[0;34m(*args, **kwargs)\u001B[0m\n",
      "File \u001B[0;32m~/anaconda3/lib/python3.10/site-packages/numpy/lib/stride_tricks.py:540\u001B[0m, in \u001B[0;36mbroadcast_arrays\u001B[0;34m(subok, *args)\u001B[0m\n\u001B[1;32m    533\u001B[0m \u001B[38;5;66;03m# nditer is not used here to avoid the limit of 32 arrays.\u001B[39;00m\n\u001B[1;32m    534\u001B[0m \u001B[38;5;66;03m# Otherwise, something like the following one-liner would suffice:\u001B[39;00m\n\u001B[1;32m    535\u001B[0m \u001B[38;5;66;03m# return np.nditer(args, flags=['multi_index', 'zerosize_ok'],\u001B[39;00m\n\u001B[1;32m    536\u001B[0m \u001B[38;5;66;03m#                  order='C').itviews\u001B[39;00m\n\u001B[1;32m    538\u001B[0m args \u001B[38;5;241m=\u001B[39m [np\u001B[38;5;241m.\u001B[39marray(_m, copy\u001B[38;5;241m=\u001B[39m\u001B[38;5;28;01mFalse\u001B[39;00m, subok\u001B[38;5;241m=\u001B[39msubok) \u001B[38;5;28;01mfor\u001B[39;00m _m \u001B[38;5;129;01min\u001B[39;00m args]\n\u001B[0;32m--> 540\u001B[0m shape \u001B[38;5;241m=\u001B[39m \u001B[43m_broadcast_shape\u001B[49m\u001B[43m(\u001B[49m\u001B[38;5;241;43m*\u001B[39;49m\u001B[43margs\u001B[49m\u001B[43m)\u001B[49m\n\u001B[1;32m    542\u001B[0m \u001B[38;5;28;01mif\u001B[39;00m \u001B[38;5;28mall\u001B[39m(array\u001B[38;5;241m.\u001B[39mshape \u001B[38;5;241m==\u001B[39m shape \u001B[38;5;28;01mfor\u001B[39;00m array \u001B[38;5;129;01min\u001B[39;00m args):\n\u001B[1;32m    543\u001B[0m     \u001B[38;5;66;03m# Common case where nothing needs to be broadcasted.\u001B[39;00m\n\u001B[1;32m    544\u001B[0m     \u001B[38;5;28;01mreturn\u001B[39;00m args\n",
      "File \u001B[0;32m~/anaconda3/lib/python3.10/site-packages/numpy/lib/stride_tricks.py:422\u001B[0m, in \u001B[0;36m_broadcast_shape\u001B[0;34m(*args)\u001B[0m\n\u001B[1;32m    417\u001B[0m \u001B[38;5;250m\u001B[39m\u001B[38;5;124;03m\"\"\"Returns the shape of the arrays that would result from broadcasting the\u001B[39;00m\n\u001B[1;32m    418\u001B[0m \u001B[38;5;124;03msupplied arrays against each other.\u001B[39;00m\n\u001B[1;32m    419\u001B[0m \u001B[38;5;124;03m\"\"\"\u001B[39;00m\n\u001B[1;32m    420\u001B[0m \u001B[38;5;66;03m# use the old-iterator because np.nditer does not handle size 0 arrays\u001B[39;00m\n\u001B[1;32m    421\u001B[0m \u001B[38;5;66;03m# consistently\u001B[39;00m\n\u001B[0;32m--> 422\u001B[0m b \u001B[38;5;241m=\u001B[39m \u001B[43mnp\u001B[49m\u001B[38;5;241;43m.\u001B[39;49m\u001B[43mbroadcast\u001B[49m\u001B[43m(\u001B[49m\u001B[38;5;241;43m*\u001B[39;49m\u001B[43margs\u001B[49m\u001B[43m[\u001B[49m\u001B[43m:\u001B[49m\u001B[38;5;241;43m32\u001B[39;49m\u001B[43m]\u001B[49m\u001B[43m)\u001B[49m\n\u001B[1;32m    423\u001B[0m \u001B[38;5;66;03m# unfortunately, it cannot handle 32 or more arguments directly\u001B[39;00m\n\u001B[1;32m    424\u001B[0m \u001B[38;5;28;01mfor\u001B[39;00m pos \u001B[38;5;129;01min\u001B[39;00m \u001B[38;5;28mrange\u001B[39m(\u001B[38;5;241m32\u001B[39m, \u001B[38;5;28mlen\u001B[39m(args), \u001B[38;5;241m31\u001B[39m):\n\u001B[1;32m    425\u001B[0m     \u001B[38;5;66;03m# ironically, np.broadcast does not properly handle np.broadcast\u001B[39;00m\n\u001B[1;32m    426\u001B[0m     \u001B[38;5;66;03m# objects (it treats them as scalars)\u001B[39;00m\n\u001B[1;32m    427\u001B[0m     \u001B[38;5;66;03m# use broadcasting to avoid allocating the full array\u001B[39;00m\n",
      "\u001B[0;31mValueError\u001B[0m: shape mismatch: objects cannot be broadcast to a single shape.  Mismatch is between arg 0 with shape (3,) and arg 1 with shape (36,)."
     ]
    },
    {
     "data": {
      "text/plain": "<Figure size 640x480 with 1 Axes>",
      "image/png": "[encoded data removed]"
     },
     "metadata": {},
     "output_type": "display_data"
    }
   ],
   "source": [
    "import torch\n",
    "import matplotlib.pyplot as plt\n",
    "import numpy as np\n",
    "\n",
    "# 权重和样本数\n",
    "weights = torch.tensor([0.2, 0.3, 0.5])\n",
    "n_samples = 1000\n",
    "\n",
    "# 使用 torch.multinomial 进行多项式抽样\n",
    "samples = torch.multinomial(weights, n_samples, replacement=True)\n",
    "samples=torch.tensor([ 1,  6,  0,  7,  4,  3,  8, 22,  2, 23, 14, 35])\n",
    "# 计数每个类别的样本数\n",
    "counts = torch.bincount(samples)\n",
    "\n",
    "# 可视化\n",
    "labels = ['Class 0', 'Class 1', 'Class 2']\n",
    "y_pos = np.arange(len(labels))\n",
    "\n",
    "plt.bar(y_pos, counts, align='center', alpha=0.5)\n",
    "plt.xticks(y_pos, labels)\n",
    "plt.xlabel('Classes')\n",
    "plt.ylabel('Counts')\n",
    "plt.title('Multinomial Distribution Sampling')\n",
    "\n",
    "plt.show()\n"
   ],
   "metadata": {
    "collapsed": false,
    "ExecuteTime": {
     "end_time": "2023-10-17T08:04:05.166231Z",
     "start_time": "2023-10-17T08:04:05.021771Z"
    }
   }
  },
  {
   "cell_type": "code",
   "execution_count": 317,
   "outputs": [
    {
     "data": {
      "text/plain": "tensor([1, 0, 2, 0, 2, 2, 2, 2, 2, 1, 2, 1, 1, 2, 1, 1, 2, 2, 1, 2, 1, 2, 2, 0,\n        2, 1, 2, 0, 0, 0, 2, 2, 1, 2, 2, 1, 2, 1, 2, 2, 1, 0, 2, 1, 2, 1, 0, 2,\n        2, 1, 2, 2, 2, 2, 1, 2, 1, 2, 2, 2, 2, 1, 1, 2, 0, 1, 1, 0, 0, 1, 1, 1,\n        0, 1, 1, 2, 2, 1, 1, 0, 2, 0, 1, 0, 2, 2, 2, 2, 2, 2, 0, 1, 2, 0, 1, 1,\n        1, 1, 1, 2, 2, 2, 2, 0, 2, 0, 2, 2, 2, 1, 1, 2, 2, 1, 0, 1, 1, 2, 1, 0,\n        1, 2, 1, 2, 2, 1, 2, 2, 2, 2, 1, 0, 2, 1, 0, 2, 2, 2, 0, 2, 1, 2, 2, 1,\n        0, 1, 1, 0, 1, 0, 1, 1, 2, 2, 1, 1, 2, 2, 2, 1, 1, 2, 2, 2, 1, 1, 1, 2,\n        2, 2, 2, 2, 1, 2, 2, 0, 1, 1, 2, 1, 2, 0, 2, 2, 0, 1, 0, 0, 0, 1, 1, 2,\n        1, 2, 0, 2, 0, 0, 1, 2, 0, 1, 0, 1, 2, 2, 2, 0, 0, 1, 2, 1, 1, 0, 2, 1,\n        0, 0, 2, 1, 2, 0, 2, 1, 2, 0, 0, 0, 2, 2, 2, 2, 2, 2, 2, 1, 0, 2, 0, 0,\n        0, 2, 2, 2, 1, 2, 2, 2, 0, 2, 1, 1, 1, 0, 0, 1, 2, 2, 2, 1, 1, 2, 2, 1,\n        2, 2, 1, 2, 0, 2, 2, 2, 2, 1, 2, 0, 1, 2, 1, 1, 1, 0, 1, 2, 2, 1, 1, 1,\n        1, 1, 2, 2, 1, 2, 2, 1, 1, 1, 2, 0, 2, 2, 2, 2, 0, 2, 0, 1, 2, 0, 2, 0,\n        2, 1, 0, 0, 2, 2, 2, 1, 0, 2, 1, 2, 0, 1, 0, 2, 1, 1, 2, 2, 2, 2, 2, 2,\n        0, 2, 1, 2, 2, 1, 2, 2, 2, 2, 0, 0, 2, 2, 1, 0, 2, 0, 1, 0, 1, 0, 1, 1,\n        2, 1, 2, 2, 2, 0, 2, 1, 2, 2, 1, 0, 2, 2, 1, 2, 2, 2, 2, 0, 1, 2, 1, 2,\n        2, 2, 2, 0, 2, 2, 1, 2, 0, 2, 2, 0, 0, 1, 1, 2, 2, 0, 0, 0, 2, 2, 2, 1,\n        1, 2, 1, 0, 2, 1, 0, 0, 2, 1, 2, 2, 1, 1, 0, 1, 2, 2, 0, 1, 2, 0, 2, 1,\n        1, 2, 0, 2, 2, 2, 2, 1, 1, 2, 2, 1, 2, 2, 2, 0, 2, 2, 1, 2, 2, 2, 2, 2,\n        0, 2, 1, 2, 2, 0, 2, 2, 1, 1, 0, 1, 1, 1, 0, 2, 2, 1, 0, 0, 1, 0, 2, 2,\n        0, 2, 1, 1, 1, 2, 1, 1, 2, 1, 1, 2, 2, 0, 1, 1, 2, 2, 0, 1, 2, 2, 0, 2,\n        2, 2, 2, 0, 0, 2, 0, 2, 2, 2, 1, 1, 2, 0, 1, 0, 2, 2, 1, 1, 2, 2, 2, 2,\n        1, 2, 2, 2, 2, 1, 2, 1, 0, 0, 2, 1, 1, 2, 1, 2, 1, 2, 0, 1, 1, 2, 1, 1,\n        0, 0, 1, 2, 2, 1, 2, 2, 1, 1, 2, 2, 1, 1, 2, 2, 1, 1, 0, 1, 0, 1, 1, 1,\n        0, 2, 2, 1, 1, 2, 1, 0, 2, 2, 2, 1, 2, 0, 2, 1, 2, 2, 2, 2, 2, 2, 0, 1,\n        2, 2, 1, 0, 2, 2, 2, 1, 1, 2, 1, 2, 2, 1, 1, 2, 2, 0, 2, 2, 2, 1, 2, 1,\n        0, 1, 1, 2, 2, 2, 1, 2, 1, 1, 2, 1, 1, 0, 0, 1, 1, 0, 2, 1, 1, 1, 2, 1,\n        2, 2, 1, 1, 2, 2, 1, 0, 2, 2, 1, 1, 2, 2, 1, 2, 2, 0, 2, 0, 2, 2, 2, 0,\n        1, 2, 2, 2, 2, 2, 1, 0, 1, 1, 2, 1, 1, 1, 1, 0, 1, 2, 2, 1, 2, 1, 2, 1,\n        2, 2, 2, 0, 1, 0, 1, 2, 2, 2, 2, 0, 0, 2, 0, 2, 0, 1, 1, 2, 1, 0, 2, 1,\n        1, 0, 2, 2, 2, 1, 2, 1, 2, 0, 0, 0, 2, 2, 0, 2, 2, 2, 0, 1, 2, 0, 2, 1,\n        0, 2, 2, 0, 2, 2, 2, 1, 1, 0, 2, 0, 0, 2, 2, 2, 0, 2, 1, 2, 2, 2, 2, 2,\n        2, 2, 2, 0, 0, 2, 2, 2, 2, 2, 1, 2, 0, 2, 1, 1, 1, 2, 2, 1, 0, 0, 2, 2,\n        1, 1, 2, 2, 1, 1, 1, 2, 0, 0, 1, 0, 1, 0, 1, 2, 1, 1, 2, 2, 0, 2, 1, 1,\n        0, 0, 2, 1, 0, 1, 0, 1, 1, 0, 0, 2, 2, 2, 2, 2, 0, 2, 0, 2, 0, 0, 0, 2,\n        2, 1, 0, 0, 2, 1, 2, 0, 1, 1, 1, 2, 2, 2, 1, 1, 2, 2, 1, 1, 2, 2, 2, 2,\n        0, 1, 2, 2, 2, 2, 1, 2, 1, 2, 1, 2, 0, 0, 1, 2, 2, 2, 2, 2, 0, 2, 0, 1,\n        1, 1, 1, 1, 2, 1, 1, 1, 2, 2, 2, 2, 2, 1, 1, 2, 0, 2, 0, 2, 0, 0, 2, 0,\n        0, 1, 2, 0, 1, 2, 2, 1, 2, 2, 1, 0, 2, 0, 2, 2, 2, 1, 0, 2, 2, 1, 2, 2,\n        2, 2, 1, 2, 2, 0, 2, 2, 2, 0, 2, 1, 2, 2, 2, 1, 1, 1, 2, 2, 2, 2, 0, 2,\n        2, 1, 0, 0, 2, 1, 2, 1, 1, 2, 0, 0, 1, 2, 0, 2, 0, 1, 2, 2, 1, 2, 2, 1,\n        0, 0, 2, 1, 2, 0, 2, 2, 1, 1, 2, 0, 2, 1, 2, 2])"
     },
     "execution_count": 317,
     "metadata": {},
     "output_type": "execute_result"
    }
   ],
   "source": [
    "samples"
   ],
   "metadata": {
    "collapsed": false,
    "ExecuteTime": {
     "end_time": "2023-10-17T07:57:51.086748Z",
     "start_time": "2023-10-17T07:57:51.026357Z"
    }
   }
  },
  {
   "cell_type": "code",
   "execution_count": null,
   "outputs": [],
   "source": [],
   "metadata": {
    "collapsed": false
   }
  }
 ],
 "metadata": {
  "kernelspec": {
   "display_name": "Python 3",
   "language": "python",
   "name": "python3"
  },
  "language_info": {
   "codemirror_mode": {
    "name": "ipython",
    "version": 2
   },
   "file_extension": ".py",
   "mimetype": "text/x-python",
   "name": "python",
   "nbconvert_exporter": "python",
   "pygments_lexer": "ipython2",
   "version": "2.7.6"
  }
 },
 "nbformat": 4,
 "nbformat_minor": 0
}
