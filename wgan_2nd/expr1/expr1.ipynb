{
 "cells": [
  {
   "cell_type": "code",
   "execution_count": 51,
   "metadata": {
    "collapsed": true,
    "ExecuteTime": {
     "end_time": "2023-10-12T07:43:46.035585Z",
     "start_time": "2023-10-12T07:43:45.833967Z"
    }
   },
   "outputs": [
    {
     "name": "stdout",
     "output_type": "stream",
     "text": [
      "The autoreload extension is already loaded. To reload it, use:\n",
      "  %reload_ext autoreload\n"
     ]
    }
   ],
   "source": [
    "%load_ext autoreload\n",
    "%autoreload 2\n",
    "import sys\n",
    "sys.path.append('..')"
   ]
  },
  {
   "cell_type": "markdown",
   "source": [
    "## this for package import and data prepare"
   ],
   "metadata": {
    "collapsed": false
   }
  },
  {
   "cell_type": "code",
   "execution_count": 52,
   "outputs": [],
   "source": [
    "\n",
    "import utlis_2nd.cusdom as custom\n",
    "import super_learn_task_expr1 as expr1\n",
    "import torch\n",
    "import os\n",
    "from torch.utils.tensorboard import SummaryWriter\n",
    "import warnings\n",
    "import utlis_2nd.neural_base_class as nn_base\n",
    "read_abso_path=\"/Users/liangaoming/Documents/Ai_station/neural_find_sol/wgan_2nd/complex_center_dataset/combined_data.pt\"\n",
    "warnings.filterwarnings(\"ignore\")\n",
    "\n",
    "from collections import namedtuple\n",
    "# 定义 Transition\n",
    "Transition = namedtuple(\"Transition\", [\"state\", \"action\", \"reward\", \"next_state\", \"done\"])\n",
    "# 创建一个 Transition 对象\n",
    "trans = Transition(state=1, action=2, reward=3, next_state=4, done=False)\n"
   ],
   "metadata": {
    "collapsed": false,
    "ExecuteTime": {
     "end_time": "2023-10-12T07:43:46.228772Z",
     "start_time": "2023-10-12T07:43:46.180093Z"
    }
   }
  },
  {
   "cell_type": "code",
   "execution_count": 53,
   "outputs": [
    {
     "name": "stdout",
     "output_type": "stream",
     "text": [
      "load data & read yaml\n",
      "shape: torch.Size([256, 100, 9])\n",
      "label for csv: torch.Size([256])\n"
     ]
    }
   ],
   "source": [
    "# split data & get the t_steps\n",
    "train_loader,valid_loader,test_loader,yaml_config =\\\n",
    "    custom.return_train_valid_test4loader(abso_path=read_abso_path)\n",
    "# look（shape）\n",
    "for batch_idx, (data, target) in enumerate(train_loader):\n",
    "    print(\"shape:\", data.shape)\n",
    "    print(\"label for csv:\",target.shape)\n",
    "    break\n"
   ],
   "metadata": {
    "collapsed": false,
    "ExecuteTime": {
     "end_time": "2023-10-12T07:43:47.422520Z",
     "start_time": "2023-10-12T07:43:46.360781Z"
    }
   }
  },
  {
   "cell_type": "markdown",
   "source": [
    "# Define the omega_neural network from nn_base\n",
    "\n",
    "## Here: we just to evaluate the\n",
    "### 1.omega_neural network\n",
    "input_shape: the shape means that we have 100 time steps and 2 variables input **[-1,100,2]**\n",
    "output_shape: output **[-1,51,2]**\n",
    "### 2.inference_neural network\n",
    "input_shape: the shape means that we have 100 time steps and 2 variables input **[-1，100，2]**\n",
    "output_shape: output **[-1,51,2]**\n",
    "\n"
   ],
   "metadata": {
    "collapsed": false
   }
  },
  {
   "cell_type": "code",
   "execution_count": 54,
   "outputs": [
    {
     "data": {
      "text/plain": "{'expr_name': 'expr1',\n 'type': 'supervised_learning',\n 'train_size_percent': 0.8,\n 'valid_size_percent': 0.1,\n 'test_size_percent': 0.1,\n 'batch_size': 256,\n 'seed': 42,\n 'all_solus_numbers': 10240,\n 'data_length': 100}"
     },
     "execution_count": 54,
     "metadata": {},
     "output_type": "execute_result"
    }
   ],
   "source": [
    "yaml_config"
   ],
   "metadata": {
    "collapsed": false,
    "ExecuteTime": {
     "end_time": "2023-10-12T07:43:47.488848Z",
     "start_time": "2023-10-12T07:43:47.423523Z"
    }
   }
  },
  {
   "cell_type": "code",
   "execution_count": 55,
   "outputs": [],
   "source": [
    "results_path= \"wgan_2nd/expr1/expr1_results\"\n",
    "expr1.config[\"train_nomin\"]= int((yaml_config['train_size_percent']*yaml_config['all_solus_numbers'])/yaml_config[\"batch_size\"])\n",
    "expr1.config[\"valid_nomin\"]= int((yaml_config['valid_size_percent']*yaml_config['all_solus_numbers'])/yaml_config[\"batch_size\"])\n",
    "expr1.config[\"test_nomin\"]= int((yaml_config['test_size_percent']*yaml_config['all_solus_numbers'])/yaml_config[\"batch_size\"])\n",
    "expr1.config[\"data_length\"]= yaml_config[\"data_length\"]\n"
   ],
   "metadata": {
    "collapsed": false,
    "ExecuteTime": {
     "end_time": "2023-10-12T07:43:47.611444Z",
     "start_time": "2023-10-12T07:43:47.564837Z"
    }
   }
  },
  {
   "cell_type": "code",
   "execution_count": 56,
   "outputs": [
    {
     "name": "stdout",
     "output_type": "stream",
     "text": [
      "start train_Supervised_learning\n",
      "the prior knowledge is {'basis_1': 'x**0', 'basis_2': 'sin', 'basis_3': 'cos'}\n"
     ]
    },
    {
     "ename": "KeyError",
     "evalue": "'train_size'",
     "output_type": "error",
     "traceback": [
      "\u001B[0;31m---------------------------------------------------------------------------\u001B[0m",
      "\u001B[0;31mKeyError\u001B[0m                                  Traceback (most recent call last)",
      "Cell \u001B[0;32mIn[56], line 1\u001B[0m\n\u001B[0;32m----> 1\u001B[0m \u001B[43mexpr1\u001B[49m\u001B[38;5;241;43m.\u001B[39;49m\u001B[43mtrain_omgea\u001B[49m\u001B[43m(\u001B[49m\u001B[43mresults_save_path\u001B[49m\u001B[38;5;241;43m=\u001B[39;49m\u001B[43mresults_path\u001B[49m\u001B[43m,\u001B[49m\n\u001B[1;32m      2\u001B[0m \u001B[43m                  \u001B[49m\u001B[43mfolder_num\u001B[49m\u001B[38;5;241;43m=\u001B[39;49m\u001B[38;5;241;43m97\u001B[39;49m\u001B[43m,\u001B[49m\n\u001B[1;32m      3\u001B[0m \u001B[43m                  \u001B[49m\u001B[43mtrain_config\u001B[49m\u001B[38;5;241;43m=\u001B[39;49m\u001B[43mexpr1\u001B[49m\u001B[38;5;241;43m.\u001B[39;49m\u001B[43mconfig\u001B[49m\u001B[43m)\u001B[49m\n",
      "File \u001B[0;32m~/Documents/Ai_station/neural_find_sol/wgan_2nd/expr1/super_learn_task_expr1.py:265\u001B[0m, in \u001B[0;36mtrain_omgea\u001B[0;34m(results_save_path, folder_num, train_config)\u001B[0m\n\u001B[1;32m    263\u001B[0m record_init(folder_num\u001B[38;5;241m=\u001B[39mfolder_num,expr_data_path_new\u001B[38;5;241m=\u001B[39mresults_save_path)\n\u001B[1;32m    264\u001B[0m save_config(train_config)\n\u001B[0;32m--> 265\u001B[0m \u001B[43mexpr\u001B[49m\u001B[43m(\u001B[49m\u001B[43mexpr_config\u001B[49m\u001B[38;5;241;43m=\u001B[39;49m\u001B[43mtrain_config\u001B[49m\u001B[43m)\u001B[49m\n\u001B[1;32m    266\u001B[0m \u001B[38;5;28mprint\u001B[39m(\u001B[38;5;124m\"\u001B[39m\u001B[38;5;124mexpr done\u001B[39m\u001B[38;5;124m\"\u001B[39m)\n",
      "File \u001B[0;32m~/Documents/Ai_station/neural_find_sol/wgan_2nd/expr1/super_learn_task_expr1.py:231\u001B[0m, in \u001B[0;36mexpr\u001B[0;34m(expr_config)\u001B[0m\n\u001B[1;32m    221\u001B[0m S_Omega \u001B[38;5;241m=\u001B[39mnn_base\u001B[38;5;241m.\u001B[39mOmgea_MLPwith_residual_dict(  input_sample_lenth\u001B[38;5;241m=\u001B[39mexpr_config[\u001B[38;5;124m\"\u001B[39m\u001B[38;5;124mdata_length\u001B[39m\u001B[38;5;124m\"\u001B[39m],\n\u001B[1;32m    222\u001B[0m                                                hidden_dims\u001B[38;5;241m=\u001B[39m[\u001B[38;5;241m512\u001B[39m, \u001B[38;5;241m512\u001B[39m, \u001B[38;5;241m512\u001B[39m],\n\u001B[1;32m    223\u001B[0m                                                output_coeff\u001B[38;5;241m=\u001B[39m\u001B[38;5;28;01mFalse\u001B[39;00m,\n\u001B[0;32m   (...)\u001B[0m\n\u001B[1;32m    227\u001B[0m                                                vari_number\u001B[38;5;241m=\u001B[39m\u001B[38;5;241m2\u001B[39m\n\u001B[1;32m    228\u001B[0m                                               )\n\u001B[1;32m    230\u001B[0m \u001B[38;5;66;03m# get data\u001B[39;00m\n\u001B[0;32m--> 231\u001B[0m co_train_actor \u001B[38;5;241m=\u001B[39m \u001B[43mco_train\u001B[49m\u001B[38;5;241;43m.\u001B[39;49m\u001B[43mtrain_init\u001B[49m\u001B[43m(\u001B[49m\u001B[43mS_I\u001B[49m\u001B[43m,\u001B[49m\u001B[43m \u001B[49m\u001B[43mS_Omega\u001B[49m\u001B[43m,\u001B[49m\u001B[43m \u001B[49m\u001B[43mexpr_config\u001B[49m\u001B[43m,\u001B[49m\u001B[43m \u001B[49m\u001B[43mexpr_config\u001B[49m\u001B[43m[\u001B[49m\u001B[38;5;124;43m\"\u001B[39;49m\u001B[38;5;124;43mtrain_loader\u001B[39;49m\u001B[38;5;124;43m\"\u001B[39;49m\u001B[43m]\u001B[49m\u001B[43m,\u001B[49m\n\u001B[1;32m    232\u001B[0m \u001B[43m                                     \u001B[49m\u001B[43mexpr_config\u001B[49m\u001B[43m[\u001B[49m\u001B[38;5;124;43m\"\u001B[39;49m\u001B[38;5;124;43mvalid_loader\u001B[39;49m\u001B[38;5;124;43m\"\u001B[39;49m\u001B[43m]\u001B[49m\u001B[43m,\u001B[49m\u001B[43m \u001B[49m\u001B[43mexpr_config\u001B[49m\u001B[43m[\u001B[49m\u001B[38;5;124;43m\"\u001B[39;49m\u001B[38;5;124;43mtest_loader\u001B[39;49m\u001B[38;5;124;43m\"\u001B[39;49m\u001B[43m]\u001B[49m\u001B[43m,\u001B[49m\n\u001B[1;32m    233\u001B[0m \u001B[43m                                     \u001B[49m\u001B[43minference_net_writer\u001B[49m\u001B[43m,\u001B[49m\u001B[43momega_net_writer\u001B[49m\u001B[43m)\u001B[49m\n\u001B[1;32m    234\u001B[0m \u001B[38;5;66;03m# dp the train\u001B[39;00m\n\u001B[1;32m    235\u001B[0m co_train_actor\u001B[38;5;241m.\u001B[39mS_Omega \u001B[38;5;241m=\u001B[39m torch\u001B[38;5;241m.\u001B[39mnn\u001B[38;5;241m.\u001B[39mDataParallel(co_train_actor\u001B[38;5;241m.\u001B[39mS_Omega, device_ids\u001B[38;5;241m=\u001B[39m[\u001B[38;5;241m0\u001B[39m])\n",
      "File \u001B[0;32m~/Documents/Ai_station/neural_find_sol/utlis_2nd/co_train.py:29\u001B[0m, in \u001B[0;36mtrain_init.__init__\u001B[0;34m(self, S_I, S_Omega, config, train_loader, valid_loader, test_loader, S_I_writer, S_Omega_writer)\u001B[0m\n\u001B[1;32m     26\u001B[0m \u001B[38;5;28mself\u001B[39m\u001B[38;5;241m.\u001B[39mmse_loss_list \u001B[38;5;241m=\u001B[39m []\n\u001B[1;32m     28\u001B[0m \u001B[38;5;66;03m#size\u001B[39;00m\n\u001B[0;32m---> 29\u001B[0m \u001B[38;5;28mself\u001B[39m\u001B[38;5;241m.\u001B[39mtrain_size\u001B[38;5;241m=\u001B[39m\u001B[38;5;28;43mself\u001B[39;49m\u001B[38;5;241;43m.\u001B[39;49m\u001B[43mconfig\u001B[49m\u001B[43m[\u001B[49m\u001B[38;5;124;43m\"\u001B[39;49m\u001B[38;5;124;43mtrain_size\u001B[39;49m\u001B[38;5;124;43m\"\u001B[39;49m\u001B[43m]\u001B[49m\n\u001B[1;32m     30\u001B[0m \u001B[38;5;28mself\u001B[39m\u001B[38;5;241m.\u001B[39mvalid_size\u001B[38;5;241m=\u001B[39m\u001B[38;5;28mself\u001B[39m\u001B[38;5;241m.\u001B[39mconfig[\u001B[38;5;124m\"\u001B[39m\u001B[38;5;124mvalid_size\u001B[39m\u001B[38;5;124m\"\u001B[39m]\n\u001B[1;32m     32\u001B[0m \u001B[38;5;66;03m#writer\u001B[39;00m\n",
      "\u001B[0;31mKeyError\u001B[0m: 'train_size'"
     ]
    }
   ],
   "source": [
    "expr1.train_omgea(results_save_path=results_path,\n",
    "                  folder_num=97,\n",
    "                  train_config=expr1.config)"
   ],
   "metadata": {
    "collapsed": false,
    "ExecuteTime": {
     "end_time": "2023-10-12T07:43:52.661232Z",
     "start_time": "2023-10-12T07:43:52.526797Z"
    }
   }
  },
  {
   "cell_type": "code",
   "execution_count": 6,
   "outputs": [],
   "source": [],
   "metadata": {
    "collapsed": false,
    "ExecuteTime": {
     "end_time": "2023-10-12T06:26:46.003701Z",
     "start_time": "2023-10-12T06:26:45.996353Z"
    }
   }
  },
  {
   "cell_type": "code",
   "execution_count": 6,
   "outputs": [],
   "source": [
    "\n"
   ],
   "metadata": {
    "collapsed": false,
    "ExecuteTime": {
     "end_time": "2023-10-12T06:26:47.977615Z",
     "start_time": "2023-10-12T06:26:47.971780Z"
    }
   }
  },
  {
   "cell_type": "code",
   "execution_count": null,
   "outputs": [],
   "source": [],
   "metadata": {
    "collapsed": false
   }
  }
 ],
 "metadata": {
  "kernelspec": {
   "display_name": "Python 3",
   "language": "python",
   "name": "python3"
  },
  "language_info": {
   "codemirror_mode": {
    "name": "ipython",
    "version": 2
   },
   "file_extension": ".py",
   "mimetype": "text/x-python",
   "name": "python",
   "nbconvert_exporter": "python",
   "pygments_lexer": "ipython2",
   "version": "2.7.6"
  }
 },
 "nbformat": 4,
 "nbformat_minor": 0
}
