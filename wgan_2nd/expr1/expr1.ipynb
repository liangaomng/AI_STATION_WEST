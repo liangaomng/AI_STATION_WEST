{
 "cells": [
  {
   "cell_type": "code",
   "execution_count": 221,
   "metadata": {
    "collapsed": true,
    "ExecuteTime": {
     "end_time": "2023-10-13T08:31:46.678017Z",
     "start_time": "2023-10-13T08:31:46.271003Z"
    }
   },
   "outputs": [
    {
     "name": "stdout",
     "output_type": "stream",
     "text": [
      "The autoreload extension is already loaded. To reload it, use:\n",
      "  %reload_ext autoreload\n"
     ]
    }
   ],
   "source": [
    "%load_ext autoreload\n",
    "%autoreload 2\n",
    "import sys\n",
    "sys.path.append('..')"
   ]
  },
  {
   "cell_type": "markdown",
   "source": [
    "## this for package import and data prepare"
   ],
   "metadata": {
    "collapsed": false
   }
  },
  {
   "cell_type": "code",
   "execution_count": 222,
   "outputs": [],
   "source": [
    "\n",
    "import utlis_2nd.cusdom as custom\n",
    "import super_learn_task_expr1 as expr1\n",
    "import warnings\n",
    "\n",
    "read_abso_path=\"/Users/liangaoming/Documents/Ai_station/neural_find_sol/wgan_2nd/complex_center_dataset/combined_data.pt\"\n",
    "warnings.filterwarnings(\"ignore\")\n",
    "\n",
    "from collections import namedtuple\n",
    "# 定义 Transition\n",
    "Transition = namedtuple(\"Transition\", [\"state\", \"action\", \"reward\", \"next_state\", \"done\"])\n",
    "# 创建一个 Transition 对象\n",
    "trans = Transition(state=1, action=2, reward=3, next_state=4, done=False)\n"
   ],
   "metadata": {
    "collapsed": false,
    "ExecuteTime": {
     "end_time": "2023-10-13T08:31:46.777793Z",
     "start_time": "2023-10-13T08:31:46.724475Z"
    }
   }
  },
  {
   "cell_type": "code",
   "execution_count": 223,
   "outputs": [
    {
     "name": "stdout",
     "output_type": "stream",
     "text": [
      "load data & read yaml\n",
      "shape: torch.Size([256, 100, 9])\n",
      "label for csv: torch.Size([256])\n"
     ]
    }
   ],
   "source": [
    "# split data & get the t_steps\n",
    "train_loader,valid_loader,test_loader,yaml_config =\\\n",
    "    custom.return_train_valid_test4loader(abso_path=read_abso_path)\n",
    "# look（shape）\n",
    "for batch_idx, (data, target) in enumerate(train_loader):\n",
    "    print(\"shape:\", data.shape)\n",
    "    print(\"label for csv:\",target.shape)\n",
    "    break\n"
   ],
   "metadata": {
    "collapsed": false,
    "ExecuteTime": {
     "end_time": "2023-10-13T08:31:48.308295Z",
     "start_time": "2023-10-13T08:31:46.955871Z"
    }
   }
  },
  {
   "cell_type": "markdown",
   "source": [
    "# Define the omega_neural network from nn_base\n",
    "\n",
    "## Here: we just to evaluate the\n",
    "### 1.omega_neural network\n",
    "input_shape: the shape means that we have 100 time steps and 2 variables input **[-1,100,2]**\n",
    "output_shape: output **[-1,51,2]**\n",
    "### 2.inference_neural network\n",
    "input_shape: the shape means that we have 100 time steps and 2 variables input **[-1，100，2]**\n",
    "output_shape: output **[-1,100,2]**\n",
    "\n"
   ],
   "metadata": {
    "collapsed": false
   }
  },
  {
   "cell_type": "code",
   "execution_count": 224,
   "outputs": [],
   "source": [
    "results_path= \"/Users/liangaoming/Documents/Ai_station/neural_find_sol/wgan_2nd/expr1/expr1_results/expr1_\"\n",
    "expr1.config[\"train_nomin\"]= int((yaml_config['train_size_percent']*yaml_config['all_solus_numbers'])/yaml_config[\"batch_size\"])\n",
    "expr1.config[\"valid_nomin\"]= int((yaml_config['valid_size_percent']*yaml_config['all_solus_numbers'])/yaml_config[\"batch_size\"])\n",
    "expr1.config[\"test_nomin\"]= int((yaml_config['test_size_percent']*yaml_config['all_solus_numbers'])/yaml_config[\"batch_size\"])\n",
    "expr1.config[\"train_loader\"]= train_loader\n",
    "expr1.config[\"valid_loader\"]= valid_loader\n",
    "expr1.config[\"test_loader\"]= test_loader\n",
    "expr1.config[\"data_length\"]= yaml_config[\"data_length\"]\n",
    "expr1.config[\"device\"] = \"cpu\"\n",
    "expr1.config[\"hidden_act\"]= \"rational\"\n",
    "expr1.config[\"inference_output_act\"]=\"identity\"\n",
    "expr1.config[\"omega_output_act\"]=\"softmax\"\n",
    "expr1.config[\"vari_number\"]= yaml_config[\"vari_number\"]\n",
    "expr1.config[\"'sample_vesting\"]=2 #2s\n",
    "expr1.config[\"Omega_num_epoch\"]=100"
   ],
   "metadata": {
    "collapsed": false,
    "ExecuteTime": {
     "end_time": "2023-10-13T08:31:48.364439Z",
     "start_time": "2023-10-13T08:31:48.308868Z"
    }
   }
  },
  {
   "cell_type": "code",
   "execution_count": 226,
   "outputs": [
    {
     "name": "stdout",
     "output_type": "stream",
     "text": [
      "the prior knowledge is {'basis_1': 'x**0', 'basis_2': 'sin', 'basis_3': 'cos'}\n",
      "test_only_omega\n",
      "start train the omega neural network\n",
      "***epoch 0\n",
      "loss0.8200402181023246_epoch0---epoch_time2.4162399768829346\n",
      "***epoch 1\n",
      "loss0.09261259604773957_epoch1---epoch_time2.1675021648406982\n",
      "***epoch 2\n",
      "loss0.038453865099780216_epoch2---epoch_time2.2225520610809326\n",
      "***epoch 3\n",
      "loss0.01901188463469936_epoch3---epoch_time2.140362024307251\n",
      "***epoch 4\n",
      "loss0.011563584657844093_epoch4---epoch_time2.1347949504852295\n",
      "***epoch 5\n",
      "loss0.008425225514342126_epoch5---epoch_time2.1958112716674805\n",
      "Unexpected exception formatting exception. Falling back to standard exception\n"
     ]
    },
    {
     "name": "stderr",
     "output_type": "stream",
     "text": [
      "Traceback (most recent call last):\n",
      "  File \"/Users/liangaoming/anaconda3/lib/python3.10/site-packages/IPython/core/interactiveshell.py\", line 3460, in run_code\n",
      "    exec(code_obj, self.user_global_ns, self.user_ns)\n",
      "  File \"/var/folders/hg/r_268m7j71l0nb6gfjls2b900000gn/T/ipykernel_43493/2736944302.py\", line 2, in <module>\n",
      "    mse,u,mae,train_model=expr1.do_expr(results_save_path=results_path,\n",
      "  File \"/Users/liangaoming/Documents/Ai_station/neural_find_sol/wgan_2nd/expr1/super_learn_task_expr1.py\", line 298, in do_expr\n",
      "    return expr(expr_config=train_config,train_type=model_type)\n",
      "  File \"/Users/liangaoming/Documents/Ai_station/neural_find_sol/wgan_2nd/expr1/super_learn_task_expr1.py\", line 252, in expr\n",
      "    train_omega_actor(co_train_actor,config_device=expr_config[\"device\"])\n",
      "  File \"/Users/liangaoming/Documents/Ai_station/neural_find_sol/wgan_2nd/expr1/super_learn_task_expr1.py\", line 163, in train_omega_actor\n",
      "    eval_mse_value,eval_u_stat,eval_mae=co_train_actor.train_omega_neural(device=config_device)\n",
      "  File \"/Users/liangaoming/Documents/Ai_station/neural_find_sol/utlis_2nd/co_train.py\", line 179, in train_omega_neural\n",
      "    eval_mse_value,u_stat,eval_mae=self.eval_omega_model(eval_data=self.valid_loader,\n",
      "KeyboardInterrupt\n",
      "\n",
      "During handling of the above exception, another exception occurred:\n",
      "\n",
      "Traceback (most recent call last):\n",
      "  File \"/Users/liangaoming/anaconda3/lib/python3.10/site-packages/IPython/core/interactiveshell.py\", line 2057, in showtraceback\n",
      "    stb = self.InteractiveTB.structured_traceback(\n",
      "  File \"/Users/liangaoming/anaconda3/lib/python3.10/site-packages/IPython/core/ultratb.py\", line 1118, in structured_traceback\n",
      "    return FormattedTB.structured_traceback(\n",
      "  File \"/Users/liangaoming/anaconda3/lib/python3.10/site-packages/IPython/core/ultratb.py\", line 1012, in structured_traceback\n",
      "    return VerboseTB.structured_traceback(\n",
      "  File \"/Users/liangaoming/anaconda3/lib/python3.10/site-packages/IPython/core/ultratb.py\", line 865, in structured_traceback\n",
      "    formatted_exception = self.format_exception_as_a_whole(etype, evalue, etb, number_of_lines_of_context,\n",
      "  File \"/Users/liangaoming/anaconda3/lib/python3.10/site-packages/IPython/core/ultratb.py\", line 818, in format_exception_as_a_whole\n",
      "    frames.append(self.format_record(r))\n",
      "  File \"/Users/liangaoming/anaconda3/lib/python3.10/site-packages/IPython/core/ultratb.py\", line 736, in format_record\n",
      "    result += ''.join(_format_traceback_lines(frame_info.lines, Colors, self.has_colors, lvals))\n",
      "  File \"/Users/liangaoming/anaconda3/lib/python3.10/site-packages/stack_data/utils.py\", line 145, in cached_property_wrapper\n",
      "    value = obj.__dict__[self.func.__name__] = self.func(obj)\n",
      "  File \"/Users/liangaoming/anaconda3/lib/python3.10/site-packages/stack_data/core.py\", line 698, in lines\n",
      "    pieces = self.included_pieces\n",
      "  File \"/Users/liangaoming/anaconda3/lib/python3.10/site-packages/stack_data/utils.py\", line 145, in cached_property_wrapper\n",
      "    value = obj.__dict__[self.func.__name__] = self.func(obj)\n",
      "  File \"/Users/liangaoming/anaconda3/lib/python3.10/site-packages/stack_data/core.py\", line 649, in included_pieces\n",
      "    pos = scope_pieces.index(self.executing_piece)\n",
      "  File \"/Users/liangaoming/anaconda3/lib/python3.10/site-packages/stack_data/utils.py\", line 145, in cached_property_wrapper\n",
      "    value = obj.__dict__[self.func.__name__] = self.func(obj)\n",
      "  File \"/Users/liangaoming/anaconda3/lib/python3.10/site-packages/stack_data/core.py\", line 628, in executing_piece\n",
      "    return only(\n",
      "  File \"/Users/liangaoming/anaconda3/lib/python3.10/site-packages/executing/executing.py\", line 164, in only\n",
      "    raise NotOneValueFound('Expected one value, found 0')\n",
      "executing.executing.NotOneValueFound: Expected one value, found 0\n"
     ]
    }
   ],
   "source": [
    "# return test' results\n",
    "mse,u,mae,train_model=expr1.do_expr(results_save_path=results_path,\n",
    "                                    folder_num=97,\n",
    "                                    train_config=expr1.config,\n",
    "                                    model_type=\"omega_net\")"
   ],
   "metadata": {
    "collapsed": false,
    "ExecuteTime": {
     "end_time": "2023-10-13T08:32:49.126490Z",
     "start_time": "2023-10-13T08:32:29.814730Z"
    }
   }
  },
  {
   "cell_type": "markdown",
   "source": [
    "\n",
    "## here is a plot function to output a figure\n"
   ],
   "metadata": {
    "collapsed": false
   }
  },
  {
   "cell_type": "code",
   "execution_count": 206,
   "outputs": [],
   "source": [
    "import matplotlib.pyplot as plt\n",
    "import os\n",
    "import numpy as np"
   ],
   "metadata": {
    "collapsed": false,
    "ExecuteTime": {
     "end_time": "2023-10-13T06:18:03.894896Z",
     "start_time": "2023-10-13T06:18:03.831025Z"
    }
   }
  },
  {
   "cell_type": "code",
   "execution_count": 207,
   "outputs": [],
   "source": [
    "def plot_loss(path, loss_train, x_log=False):\n",
    "\n",
    "    \"\"\"\n",
    "    Plot loss.\n",
    "    Args:\n",
    "        path (str): path.\n",
    "        loss_train (list): list of training loss.\n",
    "        x_log (bool): whether to use log scale for x-axis.\n",
    "    Returns:\n",
    "        None.\n",
    "    \"\"\"\n",
    "    plt.figure()\n",
    "    ax = plt.gca()\n",
    "    y2 = np.asarray(loss_train)\n",
    "    plt.plot(y2, 'k-', label='Train')\n",
    "    plt.xlabel('epoch', fontsize=18)\n",
    "    ax.tick_params(labelsize=18)\n",
    "    plt.yscale('log')\n",
    "    if x_log == False:\n",
    "        fntmp = os.path.join(path, 'loss.png')\n",
    "\n",
    "    else:\n",
    "        plt.xscale('log')\n",
    "        fntmp = os.path.join(path, 'loss_log.png')\n",
    "    plt.tight_layout()\n",
    "    plt.savefig(fntmp,dpi=300)\n",
    "\n",
    "    plt.close()\n",
    "def plot_model_output(path, args, output, epoch):\n",
    "\n",
    "    plt.figure()\n",
    "    ax = plt.gca()\n",
    "\n",
    "    plt.plot(args.training_input.detach().cpu().numpy(),\n",
    "             args.training_target.detach().cpu().numpy(), 'b*', label='True')\n",
    "    plt.plot(args.test_input.detach().cpu().numpy(),\n",
    "             output.detach().cpu().numpy(), 'r-', label='Test')\n",
    "\n",
    "    ax.tick_params(labelsize=18)\n",
    "    plt.legend(fontsize=18)\n",
    "    fntmp = os.path.join(path, 'output', str(epoch)+'.png')\n",
    "\n",
    "    plt.savefig(fntmp, dpi=300)\n",
    "\n",
    "\n",
    "    plt.close()\n",
    "def my_fft(data, freq_len=40, isnorm=1):\n",
    "\n",
    "    \"\"\"\n",
    "    This function performs FFT on the given data.\n",
    "\n",
    "    Args:\n",
    "    data (numpy.ndarray): The input data.\n",
    "    freq_len (int): The length of the frequency.\n",
    "    isnorm (int): The normalization factor.\n",
    "\n",
    "    Returns:\n",
    "    return_fft (numpy.ndarray): The FFT output array.\n",
    "    \"\"\"\n",
    "\n",
    "    # second_diff_input = np.mean(np.diff(np.diff(np.squeeze(x_input))))\n",
    "    # if abs(second_diff_input) < 1e-10:\n",
    "    datat = np.squeeze(data)\n",
    "    datat_fft = np.fft.fft(datat)\n",
    "    ind2 = range(freq_len)\n",
    "    fft_coe = datat_fft[ind2]\n",
    "    if isnorm == 1:\n",
    "        return_fft = np.absolute(fft_coe)\n",
    "    else:\n",
    "        return_fft = fft_coe\n",
    "\n",
    "    return return_fft\n",
    "def SelectPeakIndex(FFT_Data, endpoint=True):\n",
    "\n",
    "    \"\"\"\n",
    "    This function selects the peak index from FFT data.\n",
    "\n",
    "    Args:\n",
    "    FFT_Data (numpy.ndarray): The FFT data array.\n",
    "    endpoint (bool): Whether to include endpoints or not. Default is True.\n",
    "\n",
    "    Returns:\n",
    "    sel_ind (numpy.ndarray): Selected index array with peaks.\n",
    "    \"\"\"\n",
    "\n",
    "    D1 = FFT_Data[1:-1]-FFT_Data[0:-2]\n",
    "    D2 = FFT_Data[1:-1]-FFT_Data[2:]\n",
    "    D3 = np.logical_and(D1 > 0, D2 > 0)\n",
    "    tmp = np.where(D3 == True)\n",
    "    sel_ind = tmp[0]+1\n",
    "    if endpoint: #\n",
    "        if FFT_Data[0]-FFT_Data[1] > 0:\n",
    "            sel_ind = np.concatenate([[0], sel_ind])\n",
    "        if FFT_Data[-1]-FFT_Data[-2] > 0:\n",
    "            Last_ind = len(FFT_Data)-1\n",
    "            sel_ind = np.concatenate([sel_ind, [Last_ind]])\n",
    "    return sel_ind\n",
    "def plot_freq_distr(args):\n",
    "    \"\"\"\n",
    "    Plot frequency distribution and the heatmap of the given training target and output.\n",
    "\n",
    "    Args:\n",
    "    args: A dictionary containing training target and output.\n",
    "\n",
    "    Returns:\n",
    "    None\n",
    "    \"\"\"\n",
    "    y_fft = my_fft(args.training_target.detach().cpu().numpy()) / \\\n",
    "        args.training_size\n",
    "    plt.figure()\n",
    "    ax = plt.gca()\n",
    "    plt.semilogy(y_fft+1e-5, label='Target')\n",
    "    idx = SelectPeakIndex(y_fft, endpoint=False)\n",
    "    plt.semilogy(idx, y_fft[idx]+1e-5, 'o')\n",
    "    y_fft_pred = my_fft(args.training_output[-1])/args.training_size\n",
    "    plt.semilogy(y_fft_pred+1e-5, label='Model output')\n",
    "    plt.semilogy(idx, y_fft_pred[idx]+1e-5, 'o')\n",
    "    plt.legend(fontsize=22)\n",
    "    plt.xlabel('freq idx', fontsize=22)\n",
    "    plt.ylabel('freq', fontsize=22)\n",
    "    plt.gca().tick_params(axis='y', labelsize=22)\n",
    "    plt.gca().tick_params(axis='x', labelsize=22)\n",
    "    plt.tight_layout()\n",
    "    plt.savefig(os.path.join(args.path, 'fft.png'), dpi=300)\n",
    "    plt.show()\n",
    "    plt.close()\n",
    "\n",
    "    y_pred_epoch = np.squeeze(args.training_output)\n",
    "    idx1 = idx[:3]\n",
    "    abs_err = np.zeros([len(idx1), len(args.training_output)])\n",
    "    y_fft = my_fft(args.training_target)\n",
    "    tmp1 = y_fft[idx1]\n",
    "    print(abs_err.shape)\n",
    "    for i in range(len(y_pred_epoch)):\n",
    "        tmp2 = my_fft(y_pred_epoch[i])[idx1]\n",
    "        abs_err[:, i] = np.abs(tmp1 - tmp2)/(1e-5 + tmp1)\n",
    "\n",
    "\n",
    "\n",
    "    plt.figure(figsize=(8, 6))\n",
    "    ax = plt.gca()\n",
    "    plt.pcolor(abs_err, cmap='RdBu', vmin=0.1, vmax=1, linewidths=0.4)\n",
    "    plt.colorbar()\n",
    "\n",
    "\n",
    "    plt.xlabel('Epoch', fontsize=22)\n",
    "\n",
    "    # Set the y-axis ticks and labels to 1, 2, 3, and rotate the labels\n",
    "    plt.yticks([0.5, 1.5, 2.5], [1, 2, 3], rotation=0, fontsize=22)\n",
    "\n",
    "    # Set the y-axis tick parameters to hide the tick marks and set the tick label size\n",
    "    plt.gca().yaxis.set_tick_params(size=0)\n",
    "    plt.gca().tick_params(axis='y', labelsize=22)\n",
    "    plt.gca().tick_params(axis='x', labelsize=22)\n",
    "\n",
    "\n",
    "    plt.title('Absolute Error', fontsize=22)\n",
    "\n",
    "    plt.tight_layout()\n",
    "\n",
    "    plt.savefig(os.path.join(args.path, 'hot.png'))\n",
    "    plt.show()\n",
    "    plt.close()\n",
    "def plot_target_pred_result(target,pred):\n",
    "    \"\"\"\n",
    "    Plot the target.\n",
    "\n",
    "    Args:\n",
    "        target_tensor_tensor (torch.Tensor): The target tensor.\n",
    "        pred_tensor (torch.Tensor): The prediction tensor.\n",
    "\n",
    "    \"\"\"\n",
    "    plt.figure()\n",
    "    ax = plt.gca()\n",
    "\n",
    "    plt.plot(target.detach().cpu().numpy(),\n",
    "             target.cpu().numpy(), 'b*', label='True')\n",
    "    plt.plot(target.detach().cpu().numpy(),\n",
    "             pred.cpu().numpy(), 'r-', label='Test')\n",
    "\n",
    "    ax.tick_params(labelsize=18)\n",
    "    plt.legend(fontsize=18)\n",
    "    plt.show()\n",
    "    print(\"The target function:\")"
   ],
   "metadata": {
    "collapsed": false,
    "ExecuteTime": {
     "end_time": "2023-10-13T06:18:03.952964Z",
     "start_time": "2023-10-13T06:18:03.901109Z"
    }
   }
  },
  {
   "cell_type": "markdown",
   "source": [],
   "metadata": {
    "collapsed": false
   }
  },
  {
   "cell_type": "code",
   "execution_count": 219,
   "outputs": [],
   "source": [],
   "metadata": {
    "collapsed": false,
    "ExecuteTime": {
     "end_time": "2023-10-13T07:52:49.938757Z",
     "start_time": "2023-10-13T07:52:49.930851Z"
    }
   }
  },
  {
   "cell_type": "code",
   "execution_count": null,
   "outputs": [],
   "source": [],
   "metadata": {
    "collapsed": false
   }
  }
 ],
 "metadata": {
  "kernelspec": {
   "display_name": "Python 3",
   "language": "python",
   "name": "python3"
  },
  "language_info": {
   "codemirror_mode": {
    "name": "ipython",
    "version": 2
   },
   "file_extension": ".py",
   "mimetype": "text/x-python",
   "name": "python",
   "nbconvert_exporter": "python",
   "pygments_lexer": "ipython2",
   "version": "2.7.6"
  }
 },
 "nbformat": 4,
 "nbformat_minor": 0
}
