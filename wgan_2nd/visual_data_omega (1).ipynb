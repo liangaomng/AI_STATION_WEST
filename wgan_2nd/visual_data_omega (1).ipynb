{
 "cells": [
  {
   "cell_type": "markdown",
   "metadata": {},
   "source": [
    "# 1-this is a visual for train valid and test"
   ]
  },
  {
   "cell_type": "markdown",
   "metadata": {},
   "source": [
    "## 1-1 this is for train analysis\n",
    "the tensor in the real_data\n",
    "info={     \n",
    "                    \"raw_data\":data_tensor,[batch,100,2]\\\n",
    "                    \"P_freqs\":P_freqs,[51]\\\n",
    "                    \"soft_freq_index\":soft_freq_index,[batch,1,2]\\\n",
    "                    \"soft_omega\":soft_omega,[batch,freq_num,2]\\\n",
    "                    \"epoch\":epoch_omega,[epoch]\\\n",
    "                    “label_save”:label\\\n",
    "      }"
   ]
  },
  {
   "cell_type": "code",
   "execution_count": 6,
   "metadata": {
    "ExecuteTime": {
     "end_time": "2023-10-20T02:05:27.224123Z",
     "start_time": "2023-10-20T02:05:27.218727Z"
    }
   },
   "outputs": [],
   "source": [
    "epoch=1"
   ]
  },
  {
   "cell_type": "code",
   "execution_count": 7,
   "metadata": {
    "ExecuteTime": {
     "end_time": "2023-10-20T02:05:27.479126Z",
     "start_time": "2023-10-20T02:05:27.472927Z"
    }
   },
   "outputs": [],
   "source": [
    "epoch=1\n",
    "string=f\"{epoch}.pth\"\n",
    "train_process_path = '/liangaoming/conda_lam/expriments/paper1/expr1/expr1_100_data/train_process/omega_net/analysis_files/real_data_'+string\n",
    "label_data_path=\"/liangaoming/conda_lam/neural_find_sol/ode_dataset/complex_center_dataset/\"\n"
   ]
  },
  {
   "cell_type": "code",
   "execution_count": 8,
   "metadata": {
    "ExecuteTime": {
     "end_time": "2023-10-20T02:05:27.713790Z",
     "start_time": "2023-10-20T02:05:27.707944Z"
    }
   },
   "outputs": [],
   "source": [
    "import torch\n",
    "import matplotlib.pyplot as plt\n",
    "import numpy as np\n",
    "from scipy import stats\n",
    "import pandas as pd\n",
    "import ast\n",
    "\n",
    "plt.rcParams[\"font.family\"] = \"STIXGeneral\""
   ]
  },
  {
   "cell_type": "code",
   "execution_count": 9,
   "metadata": {
    "ExecuteTime": {
     "end_time": "2023-10-20T02:05:28.266010Z",
     "start_time": "2023-10-20T02:05:28.161742Z"
    }
   },
   "outputs": [
    {
     "ename": "FileNotFoundError",
     "evalue": "[Errno 2] No such file or directory: '/liangaoming/conda_lam/expriments/paper1/expr1/expr1_100_data/train_process/omega_net/analysis_files/real_data_1.pth'",
     "output_type": "error",
     "traceback": [
      "\u001B[0;31m---------------------------------------------------------------------------\u001B[0m",
      "\u001B[0;31mFileNotFoundError\u001B[0m                         Traceback (most recent call last)",
      "Cell \u001B[0;32mIn[9], line 1\u001B[0m\n\u001B[0;32m----> 1\u001B[0m Tensors_train_process\u001B[38;5;241m=\u001B[39m\u001B[43mtorch\u001B[49m\u001B[38;5;241;43m.\u001B[39;49m\u001B[43mload\u001B[49m\u001B[43m(\u001B[49m\u001B[43mtrain_process_path\u001B[49m\u001B[43m)\u001B[49m\n\u001B[1;32m      2\u001B[0m Tensors_train_process[\u001B[38;5;124m\"\u001B[39m\u001B[38;5;124mlabel_save\u001B[39m\u001B[38;5;124m\"\u001B[39m]\n",
      "File \u001B[0;32m~/anaconda3/lib/python3.10/site-packages/torch/serialization.py:771\u001B[0m, in \u001B[0;36mload\u001B[0;34m(f, map_location, pickle_module, weights_only, **pickle_load_args)\u001B[0m\n\u001B[1;32m    768\u001B[0m \u001B[38;5;28;01mif\u001B[39;00m \u001B[38;5;124m'\u001B[39m\u001B[38;5;124mencoding\u001B[39m\u001B[38;5;124m'\u001B[39m \u001B[38;5;129;01mnot\u001B[39;00m \u001B[38;5;129;01min\u001B[39;00m pickle_load_args\u001B[38;5;241m.\u001B[39mkeys():\n\u001B[1;32m    769\u001B[0m     pickle_load_args[\u001B[38;5;124m'\u001B[39m\u001B[38;5;124mencoding\u001B[39m\u001B[38;5;124m'\u001B[39m] \u001B[38;5;241m=\u001B[39m \u001B[38;5;124m'\u001B[39m\u001B[38;5;124mutf-8\u001B[39m\u001B[38;5;124m'\u001B[39m\n\u001B[0;32m--> 771\u001B[0m \u001B[38;5;28;01mwith\u001B[39;00m \u001B[43m_open_file_like\u001B[49m\u001B[43m(\u001B[49m\u001B[43mf\u001B[49m\u001B[43m,\u001B[49m\u001B[43m \u001B[49m\u001B[38;5;124;43m'\u001B[39;49m\u001B[38;5;124;43mrb\u001B[39;49m\u001B[38;5;124;43m'\u001B[39;49m\u001B[43m)\u001B[49m \u001B[38;5;28;01mas\u001B[39;00m opened_file:\n\u001B[1;32m    772\u001B[0m     \u001B[38;5;28;01mif\u001B[39;00m _is_zipfile(opened_file):\n\u001B[1;32m    773\u001B[0m         \u001B[38;5;66;03m# The zipfile reader is going to advance the current file position.\u001B[39;00m\n\u001B[1;32m    774\u001B[0m         \u001B[38;5;66;03m# If we want to actually tail call to torch.jit.load, we need to\u001B[39;00m\n\u001B[1;32m    775\u001B[0m         \u001B[38;5;66;03m# reset back to the original position.\u001B[39;00m\n\u001B[1;32m    776\u001B[0m         orig_position \u001B[38;5;241m=\u001B[39m opened_file\u001B[38;5;241m.\u001B[39mtell()\n",
      "File \u001B[0;32m~/anaconda3/lib/python3.10/site-packages/torch/serialization.py:270\u001B[0m, in \u001B[0;36m_open_file_like\u001B[0;34m(name_or_buffer, mode)\u001B[0m\n\u001B[1;32m    268\u001B[0m \u001B[38;5;28;01mdef\u001B[39;00m \u001B[38;5;21m_open_file_like\u001B[39m(name_or_buffer, mode):\n\u001B[1;32m    269\u001B[0m     \u001B[38;5;28;01mif\u001B[39;00m _is_path(name_or_buffer):\n\u001B[0;32m--> 270\u001B[0m         \u001B[38;5;28;01mreturn\u001B[39;00m \u001B[43m_open_file\u001B[49m\u001B[43m(\u001B[49m\u001B[43mname_or_buffer\u001B[49m\u001B[43m,\u001B[49m\u001B[43m \u001B[49m\u001B[43mmode\u001B[49m\u001B[43m)\u001B[49m\n\u001B[1;32m    271\u001B[0m     \u001B[38;5;28;01melse\u001B[39;00m:\n\u001B[1;32m    272\u001B[0m         \u001B[38;5;28;01mif\u001B[39;00m \u001B[38;5;124m'\u001B[39m\u001B[38;5;124mw\u001B[39m\u001B[38;5;124m'\u001B[39m \u001B[38;5;129;01min\u001B[39;00m mode:\n",
      "File \u001B[0;32m~/anaconda3/lib/python3.10/site-packages/torch/serialization.py:251\u001B[0m, in \u001B[0;36m_open_file.__init__\u001B[0;34m(self, name, mode)\u001B[0m\n\u001B[1;32m    250\u001B[0m \u001B[38;5;28;01mdef\u001B[39;00m \u001B[38;5;21m__init__\u001B[39m(\u001B[38;5;28mself\u001B[39m, name, mode):\n\u001B[0;32m--> 251\u001B[0m     \u001B[38;5;28msuper\u001B[39m(_open_file, \u001B[38;5;28mself\u001B[39m)\u001B[38;5;241m.\u001B[39m\u001B[38;5;21m__init__\u001B[39m(\u001B[38;5;28;43mopen\u001B[39;49m\u001B[43m(\u001B[49m\u001B[43mname\u001B[49m\u001B[43m,\u001B[49m\u001B[43m \u001B[49m\u001B[43mmode\u001B[49m\u001B[43m)\u001B[49m)\n",
      "\u001B[0;31mFileNotFoundError\u001B[0m: [Errno 2] No such file or directory: '/liangaoming/conda_lam/expriments/paper1/expr1/expr1_100_data/train_process/omega_net/analysis_files/real_data_1.pth'"
     ]
    }
   ],
   "source": [
    "Tensors_train_process=torch.load(train_process_path)\n",
    "Tensors_train_process[\"label_save\"]"
   ]
  },
  {
   "cell_type": "code",
   "execution_count": 10,
   "metadata": {
    "ExecuteTime": {
     "end_time": "2023-10-20T02:05:28.895687Z",
     "start_time": "2023-10-20T02:05:28.884780Z"
    }
   },
   "outputs": [
    {
     "ename": "NameError",
     "evalue": "name 'Tensors_train_process' is not defined",
     "output_type": "error",
     "traceback": [
      "\u001B[0;31m---------------------------------------------------------------------------\u001B[0m",
      "\u001B[0;31mNameError\u001B[0m                                 Traceback (most recent call last)",
      "Cell \u001B[0;32mIn[10], line 1\u001B[0m\n\u001B[0;32m----> 1\u001B[0m Plot\u001B[38;5;241m=\u001B[39m\u001B[43mTensors_train_process\u001B[49m[\u001B[38;5;124m\"\u001B[39m\u001B[38;5;124mraw_data\u001B[39m\u001B[38;5;124m\"\u001B[39m]\n\u001B[1;32m      2\u001B[0m real_label\u001B[38;5;241m=\u001B[39mTensors_train_process[\u001B[38;5;124m'\u001B[39m\u001B[38;5;124mlabel_save\u001B[39m\u001B[38;5;124m'\u001B[39m]\u001B[38;5;241m.\u001B[39mcpu()\u001B[38;5;241m.\u001B[39mnumpy()\n\u001B[1;32m      3\u001B[0m y1_data\u001B[38;5;241m=\u001B[39mPlot[:,:,\u001B[38;5;241m0\u001B[39m]\n",
      "\u001B[0;31mNameError\u001B[0m: name 'Tensors_train_process' is not defined"
     ]
    }
   ],
   "source": [
    "Plot=Tensors_train_process[\"raw_data\"]\n",
    "real_label=Tensors_train_process['label_save'].cpu().numpy()\n",
    "y1_data=Plot[:,:,0]\n",
    "y2_data=Plot[:,:,1]\n",
    "P_freq_data=Tensors_train_process[\"P_freqs\"].cpu().numpy()\n",
    "P_freq_list=P_freq_data.tolist()\n",
    "data_t=np.linspace(0,2,100)\n",
    "soft_freq_index=Tensors_train_process[\"soft_freq_index\"].cpu().detach().numpy()\n",
    "#freq——num\n",
    "_,freq_num,_=soft_freq_index.shape"
   ]
  },
  {
   "cell_type": "code",
   "execution_count": 5,
   "metadata": {
    "ExecuteTime": {
     "end_time": "2023-10-20T02:05:23.400137Z",
     "start_time": "2023-10-20T02:05:23.397200Z"
    }
   },
   "outputs": [],
   "source": [
    "#read dict_str \n",
    "#\"sol_z1\",\"sol_z2\"\n",
    "# input:label_number\n",
    "# return:dict\n",
    "def handle_str_2dict(label):\n",
    "\n",
    "\n",
    "    csv=pd.read_csv(label_data_path+\"data\"+str(label)+\".csv\")\n",
    "    column_z1=csv[\"sol_z1\"][0]+\"}\"\n",
    "    column_z2=\"{\"+csv[\"sol_z2\"][0]\n",
    "    # ast.literal_eval() \n",
    "    try:\n",
    "        column_z1 = ast.literal_eval(column_z1)\n",
    "        column_z1 = {k: v.replace('z1=', '') for k, v in column_z1.items()}\n",
    "\n",
    "        column_z2= ast.literal_eval(column_z2)\n",
    "        column_z2=  {k: v.replace('z2=', '') for k, v in column_z2.items()}\n",
    "        \n",
    "        dict_sol={**column_z1,**column_z2}\n",
    "        print(dict_sol)\n",
    "    except (ValueError, SyntaxError):\n",
    "        print(\"error\")\n",
    "    return dict_sol"
   ]
  },
  {
   "cell_type": "code",
   "execution_count": 6,
   "metadata": {
    "ExecuteTime": {
     "end_time": "2023-10-16T06:04:02.451672Z",
     "start_time": "2023-10-16T06:04:02.397482Z"
    }
   },
   "outputs": [],
   "source": [
    "import matplotlib as mpl\n",
    "title_size=25\n",
    "label_size=20\n",
    "mpl.rcParams['font.size'] = label_size\n",
    "mpl.rcParams['axes.titlesize'] = title_size"
   ]
  },
  {
   "cell_type": "markdown",
   "metadata": {},
   "source": [
    "# 1.1 real_data omega analysis data"
   ]
  },
  {
   "cell_type": "code",
   "execution_count": 7,
   "metadata": {
    "ExecuteTime": {
     "end_time": "2023-10-16T06:04:03.128366Z",
     "start_time": "2023-10-16T06:04:02.988177Z"
    }
   },
   "outputs": [
    {
     "ename": "NameError",
     "evalue": "name 'real_label' is not defined",
     "output_type": "error",
     "traceback": [
      "\u001B[0;31m---------------------------------------------------------------------------\u001B[0m",
      "\u001B[0;31mNameError\u001B[0m                                 Traceback (most recent call last)",
      "Cell \u001B[0;32mIn[7], line 15\u001B[0m\n\u001B[1;32m     13\u001B[0m plt\u001B[38;5;241m.\u001B[39msubplot(\u001B[38;5;241m1\u001B[39m, \u001B[38;5;241m2\u001B[39m, \u001B[38;5;241m1\u001B[39m)\n\u001B[1;32m     14\u001B[0m plt\u001B[38;5;241m.\u001B[39mgrid(\u001B[38;5;28;01mTrue\u001B[39;00m)\n\u001B[0;32m---> 15\u001B[0m real_label_index\u001B[38;5;241m=\u001B[39m\u001B[43mreal_label\u001B[49m[i]\n\u001B[1;32m     16\u001B[0m dict_str\u001B[38;5;241m=\u001B[39mhandle_str_2dict(real_label_index)\n\u001B[1;32m     17\u001B[0m plt\u001B[38;5;241m.\u001B[39mplot(data_t,y1_data[i]\u001B[38;5;241m.\u001B[39mcpu()\u001B[38;5;241m.\u001B[39mnumpy(),label\u001B[38;5;241m=\u001B[39m\u001B[38;5;124m\"\u001B[39m\u001B[38;5;124m$y_\u001B[39m\u001B[38;5;132;01m{1}\u001B[39;00m\u001B[38;5;124m=$\u001B[39m\u001B[38;5;124m\"\u001B[39m\u001B[38;5;241m+\u001B[39mdict_str[\u001B[38;5;124m\"\u001B[39m\u001B[38;5;124mz1_solu\u001B[39m\u001B[38;5;124m\"\u001B[39m],lw\u001B[38;5;241m=\u001B[39m\u001B[38;5;241m3\u001B[39m,c\u001B[38;5;241m=\u001B[39m\u001B[38;5;124m'\u001B[39m\u001B[38;5;124morange\u001B[39m\u001B[38;5;124m'\u001B[39m)\n",
      "\u001B[0;31mNameError\u001B[0m: name 'real_label' is not defined"
     ]
    },
    {
     "data": {
      "text/plain": "<Figure size 1600x800 with 1 Axes>",
      "image/png": "[encoded data removed]"
     },
     "metadata": {},
     "output_type": "display_data"
    }
   ],
   "source": [
    "\n",
    "# Plotting\n",
    "plt.figure(figsize=(16, 8))\n",
    "\n",
    "import matplotlib as mpl\n",
    "title_size=25\n",
    "label_size=20\n",
    "mpl.rcParams['font.size'] = label_size\n",
    "mpl.rcParams['axes.titlesize'] = title_size\n",
    "\n",
    "\n",
    "#time domain\n",
    "for i in range(1):\n",
    "    plt.subplot(1, 2, 1)\n",
    "    plt.grid(True)\n",
    "    real_label_index=real_label[i]\n",
    "    dict_str=handle_str_2dict(real_label_index)\n",
    "    plt.plot(data_t,y1_data[i].cpu().numpy(),label=\"$y_{1}=$\"+dict_str[\"z1_solu\"],lw=3,c='orange')\n",
    "    plt.plot(data_t,y2_data[i].cpu().numpy(),label=\"$y_{2}=$\"+dict_str[\"z2_solu\"],lw=3,c=\"blue\")\n",
    "    plt.grid(\"True\")\n",
    "    plt.title('Time Domain Signal',fontsize=title_size,weight=\"bold\")\n",
    "    plt.legend(loc='upper left',fontsize=3*label_size/4)\n",
    "    plt.xlabel('Time (s)',fontsize=label_size)\n",
    "    plt.ylabel(\"Value\",fontsize=label_size)\n",
    "    current_axes = plt.gca()\n",
    "    current_axes.patch.set_edgecolor('black')  \n",
    "    current_axes.patch.set_linewidth(2)\n",
    "    \n",
    "\n",
    "    #fft\n",
    "\n",
    "    fft_values1 = torch.fft.rfft(y1_data[i]).abs()\n",
    "    fft_values2 = torch.fft.rfft(y2_data[i]).abs()\n",
    "    plt.subplot(1, 2, 2)\n",
    "    plt.grid(True)\n",
    "    plt.stem(np.arange(int(51)),fft_values1[:int(51)].cpu().numpy(),  markerfmt='orange')\n",
    "    plt.stem(np.arange(int(51)), fft_values2[:int(51)].cpu().numpy(), markerfmt='bo')\n",
    "    \n",
    "    _,freq_indexs,_=soft_freq_index.shape\n",
    "    print(freq_indexs)\n",
    "\n",
    "    for j in range(freq_indexs):\n",
    "        plt.axvline(soft_freq_index[i,j,0], color='orange', linestyle='-.',alpha=0.5,\n",
    "                    label=\"$soft_{argmax}$ \"+\"$ y_{1}$\"+f\"={soft_freq_index[i,j,0]}\"+f\"freq_index={j}\",linewidth=3)\n",
    "        plt.axvline(soft_freq_index[i,j,1], color='blue', linestyle='-.',alpha=0.5,\n",
    "                    label=r\"$soft_{argmax}$ \"+\"$ y_{2}$\"+f\"={soft_freq_index[i,j,0]}\"+f\"freq_index={j}\",linewidth=3)\n",
    "    plt.title('Magnitude of FFT',fontsize=title_size,weight=\"bold\")\n",
    "    plt.xlabel('Frequency (Hz)',fontsize=label_size)\n",
    "    plt.tight_layout()\n",
    "   # plt.legend(loc='upper right',fontsize=label_size)\n",
    "    plt.grid(\"True\")\n",
    "    current_axes = plt.gca()\n",
    "    current_axes.patch.set_edgecolor('black')  \n",
    "    current_axes.patch.set_linewidth(2)\n",
    "    \n",
    "\n",
    "\n",
    "    # 生成一些示例数据\n",
    "    x =y1_data[i].cpu().numpy()\n",
    "    y =y2_data[i].cpu().numpy()\n",
    "\n",
    "    # 计算 KDE\n",
    "    xmin, xmax =np.min(x),np.max(x)\n",
    "    ymin, ymax =  np.min(y),np.max(y)\n",
    "    X, Y = np.mgrid[xmin:xmax:100j, ymin:ymax:100j]\n",
    "    positions = np.vstack([X.ravel(), Y.ravel()])\n",
    "    values = np.vstack([x, y])\n",
    "\n",
    "    kernel = stats.gaussian_kde(values)\n",
    "    Z = np.reshape(kernel(positions).T, X.shape)\n",
    "\n",
    "    # 创建子图\n",
    "    fig = plt.figure(figsize=(8, 8.2))\n",
    "    gs = fig.add_gridspec(4, 4)\n",
    "\n",
    "\n",
    "    ax_joint = fig.add_subplot(gs[1:4, 0:3])\n",
    "            \n",
    "    ax_joint.grid(True)\n",
    "    ax_marg_x = fig.add_subplot(gs[0, 0:4])\n",
    "    ax_marg_x.grid(True)\n",
    "    ax_marg_y = fig.add_subplot(gs[1:4, 3])\n",
    "    ax_marg_y.grid(True)\n",
    "    fig.subplots_adjust(wspace=0.5, hspace=0.5)\n",
    "\n",
    "    # 绘制二维 KDE 图\n",
    "    contourf = ax_joint.contourf(X, Y, Z, levels=5, cmap=\"Blues\")\n",
    "    contour = ax_joint.contour(X, Y, Z, levels=5, colors='black',lw=3)\n",
    "    ax_joint.set_title(\"Kernel density for real\",weight=\"bold\")\n",
    "    plt.tight_layout()\n",
    "    # 设置边框颜色和宽度\n",
    "    plt.clabel(contour, inline=True, fontsize=15, fmt='%.e')\n",
    "    ax_joint.patch.set_edgecolor('black')\n",
    "    ax_joint.patch.set_linewidth(3)\n",
    "\n",
    "    # 绘制 x 和 y 的一维分布\n",
    "    ax_marg_x.hist(x, bins=100, density=True, range=(xmin, xmax),color='orange',\n",
    "                   label=\"y1\",\n",
    "                   alpha=0.5)\n",
    "    ax_marg_x.set_xlabel(\"y1\",fontsize=label_size)\n",
    "    ax_marg_x.set_ylabel(\"Mdf(\"+r\"$y_{1}$)\",fontsize=label_size)\n",
    "    ax_marg_x.set_title(\"Distribution: y1\",verticalalignment='center',fontsize=title_size,weight=\"bold\")\n",
    "    ax_marg_x.legend(fontsize='x-small',loc='upper left')  \n",
    "\n",
    "\n",
    "    ax_marg_x.patch.set_edgecolor('black') \n",
    "    ax_marg_x.patch.set_linewidth(2)\n",
    "    \n",
    "    \n",
    "    #kde\n",
    "    kde_x = stats.gaussian_kde(x)\n",
    "    x_range = np.linspace(xmin,xmax, 100)\n",
    "    ax_marg_x.plot(x_range,kde_x(x_range), color='r',lw=3)\n",
    "\n",
    "\n",
    "\n",
    "    ax_marg_y.hist(y, bins=100, density=True, range=(ymin, ymax),color='blue',\n",
    "                   label=\"y2\",\n",
    "                   alpha=0.5, orientation='horizontal')\n",
    "    ax_marg_y.set_xlabel(\"Mdf(\"+\"$y_{2}$)\",fontsize=label_size,rotation=0)\n",
    "    ax_marg_y.xaxis.set_label_position(\"top\")\n",
    "    ax_marg_y.set_ylabel(\"y2\",fontsize=label_size,rotation=270)\n",
    "    ax_marg_y.legend(fontsize='x-small',loc='upper left')  # \n",
    "    \n",
    "    # 添加 KDE 线\n",
    "\n",
    "    kde_y = stats.gaussian_kde(y)\n",
    "    y_range = np.linspace(ymin, ymax, 100)\n",
    "\n",
    "    ax_marg_y.plot(kde_y(y_range), y_range, color='r',lw=3)\n",
    "\n",
    "    # 手动添加旋转的标题\n",
    "    ax_marg_y.text(1.05, 0.5, 'Distribution: y2',\n",
    "                   transform=ax_marg_y.transAxes, \n",
    "                   rotation=270, verticalalignment='center',weight=\"bold\",fontsize=title_size)\n",
    "\n",
    "\n",
    "    ax_marg_y.patch.set_edgecolor('black') \n",
    "    ax_marg_y.patch.set_linewidth(2)\n",
    "\n",
    "\n",
    "\n",
    "plt.show()\n",
    "\n"
   ]
  },
  {
   "cell_type": "markdown",
   "metadata": {},
   "source": [
    "## 1.2 here we handle the loss visualization\n",
    "loss visualize the train_loss and valid_Loss and test results\n",
    "and we could handle the performace in the training the omega and data\n",
    "#### train_process_directory=\"train_process/omega_net/tb_event/\"\n",
    "#### valid_process_u_directory=\"valid_process/omega_net/tb_event/valid_process_u_stat/\"\n",
    "#### valid_process_mse_directory=\"valid_process/omega_net/tb_event/valid_process_mse_loss/\"\n",
    "#### test_process_mse_directory=\"test_process/omega_net/tb_event/test_process_mse_loss/\"\n",
    "#### test_process_u_directory=\"test_process/omega_net/tb_event/test_process_u_stat/\"\n"
   ]
  },
  {
   "cell_type": "code",
   "execution_count": 33,
   "metadata": {},
   "outputs": [],
   "source": [
    "cimport matplotlib.pyplot as plt\n",
    "import seaborn as sns\n",
    "import pandas as pd\n",
    "import matplotlib as mpl\n",
    "import numpy as np\n",
    "import os\n",
    "import pandas as pd \n",
    "title_size=25\n",
    "label_size=20\n",
    "mpl.rcParams['font.size'] = label_size\n",
    "mpl.rcParams['axes.titlesize'] = title_size\n",
    "\n",
    "# search the files_info abput event \n",
    "train_process_directory=\"train_process/omega_net/tb_event/\"\n",
    "valid_process_u_directory=\"valid_process/omega_net/tb_event/valid_process_u_stat/\"\n",
    "valid_process_mse_directory=\"valid_process/omega_net/tb_event/valid_process_mse_loss/\"\n",
    "test_process_mse_directory=\"test_process/omega_net/tb_event/test_process_mse_loss/\"\n",
    "test_process_u_directory=\"test_process/omega_net/tb_event/test_process_u_stat/\"\n",
    "from tensorboard.backend.event_processing import event_accumulator\n",
    "\n"
   ]
  },
  {
   "cell_type": "markdown",
   "metadata": {},
   "source": [
    "## here we read the config.csv to read the parameters to a dict\n",
    "config_csv=\"csv/config.csv\""
   ]
  },
  {
   "cell_type": "code",
   "execution_count": 11,
   "metadata": {},
   "outputs": [],
   "source": [
    "config_csv=\"csv/config.csv\"\n",
    "config= pd.read_csv(config_csv)\n",
    "config_name=config.loc[:,'Unnamed: 0']\n",
    "config_para=config.loc[:,'0']"
   ]
  },
  {
   "cell_type": "code",
   "execution_count": 12,
   "metadata": {},
   "outputs": [],
   "source": [
    "config_dict={str(key):value for key,value in zip(config_name,config_para)}"
   ]
  },
  {
   "cell_type": "code",
   "execution_count": 13,
   "metadata": {},
   "outputs": [],
   "source": [
    "def search_files_info(directory_path=\"train_process/omega_net/tb_event\"):\n",
    "    '''\n",
    "    params: input:path \n",
    "    return list of name\n",
    "    '''\n",
    "    # List all files in the directory\n",
    "    file_names = [f for f in os.listdir(directory_path) if os.path.isfile(os.path.join(directory_path, f))]\n",
    "    print(file_names)\n",
    "    return file_names"
   ]
  },
  {
   "cell_type": "code",
   "execution_count": 14,
   "metadata": {},
   "outputs": [
    {
     "ename": "SyntaxError",
     "evalue": "invalid syntax (1511997842.py, line 6)",
     "output_type": "error",
     "traceback": [
      "\u001B[0;36m  Cell \u001B[0;32mIn[14], line 6\u001B[0;36m\u001B[0m\n\u001B[0;31m    gradient_loss=tensor_loss_dict[].cpu().detach().numpy()\u001B[0m\n\u001B[0m                                   ^\u001B[0m\n\u001B[0;31mSyntaxError\u001B[0m\u001B[0;31m:\u001B[0m invalid syntax\n"
     ]
    }
   ],
   "source": [
    "def plot_heat_tensor_change( tensor_loss_dict,epochs):\n",
    "\n",
    "    \n",
    "\n",
    "    #get the batch size\n",
    "    gradient_loss=tensor_loss_dict[].cpu().detach().numpy()\n",
    "    ini_loss=ini_loss.cpu().detach().numpy()\n",
    "    score_fake_out=score_fake_out.cpu().detach().numpy()\n",
    "    generator_loss=generator_all_loss.cpu().detach().numpy()\n",
    "\n",
    "    #prepare the plot\n",
    "    #fill\n",
    "    generator_numpy[0,now_epoch]=   gradient_loss #\n",
    "    generator_numpy[1, now_epoch] = ini_loss #\n",
    "    generator_numpy[2,now_epoch] =  score_fake_out#\n",
    "    generator_numpy[3,now_epoch] =  generator_all_loss#\n",
    "    #plot the sub figure\n",
    "    plt.figure(figsize=(8, 6))\n",
    "    #note that the first dimension y axis is z1 and z2\n",
    "    norm = colors.SymLogNorm(linthresh=1e-3, linscale=1, vmin=-1e-2, vmax=1e+2)\n",
    "    plt.pcolor(generator_numpy, cmap='RdBu',norm=norm)\n",
    "    cbar=plt.colorbar()\n",
    "    cbar.set_label('Log Scale')\n",
    "\n",
    "    plt.xlabel('Epoch', fontsize=22)\n",
    "    # Set the y-axis ticks and labels to 1, 2 and rotate the labels\n",
    "    y_positions = [0.5, 1.5, 2.5,3.5]\n",
    "    y_labels = [r'$gradient_{loss}$', r'$ini_{loss}$',r'$score_{fake}$',r'$generator_{loss}$']\n",
    "    plt.axhline(y=1, color='black', linewidth=2)\n",
    "    plt.axhline(y=2, color='black', linewidth=2)\n",
    "    plt.axhline(y=3, color='black', linewidth=2)\n",
    "    plt.yticks(y_positions, y_labels, fontsize=22)\n",
    "    # axis\n",
    "    ax = plt.gca()\n",
    "\n",
    "    # spines\n",
    "    for spine in ax.spines.values():\n",
    "        spine.set_edgecolor('black')\n",
    "        spine.set_linewidth(2)  # 可以调整线的宽度\n",
    "\n",
    "    # Set the y-axis tick parameters to hide the tick marks and set the tick label size\n",
    "    plt.gca().yaxis.set_tick_params(size=0)\n",
    "    plt.gca().tick_params(axis='y', labelsize=22)\n",
    "    plt.gca().tick_params(axis='x', labelsize=22)\n",
    "\n",
    "    plt.title(\"genertor dynamic response\", fontsize=22)\n",
    "\n",
    "    plt.tight_layout()\n",
    "    plt.savefig(plot_path + \"/generator_loss.png\")"
   ]
  },
  {
   "cell_type": "markdown",
   "metadata": {},
   "source": [
    "## here we plot loss and value in the differnt process with the epoch \n",
    "1.train_loss\\\n",
    "2.valid_loss\\\n",
    "3.test_result\\\n",
    "4.some record values\\\n",
    "func:event_list_path=search_files_info(test_process_mse_directory)"
   ]
  },
  {
   "cell_type": "code",
   "execution_count": null,
   "metadata": {},
   "outputs": [],
   "source": [
    "#load your models from tb \n",
    "event_list_path=search_files_info(test_process_mse_directory)\n",
    "epoch_step=5\n",
    "\n",
    "name_4value={\"train_process\":train_process_directory,\n",
    "             \"valid_u\":valid_process_u_directory,\"valid_mse\":valid_process_mse_directory,\n",
    "            \"test_u\":test_process_u_directory,\"test_mse\":test_process_mse_directory}\n",
    "\n",
    "\n",
    "dict_loss={\"train_process\":[],\n",
    "           \"valid_u\":[],\"valid_mse\":[],\n",
    "           \"test_mse\":[],\"test_u\":[]}\n"
   ]
  },
  {
   "cell_type": "code",
   "execution_count": null,
   "metadata": {},
   "outputs": [],
   "source": [
    "name_4value.keys()\n"
   ]
  },
  {
   "cell_type": "code",
   "execution_count": null,
   "metadata": {},
   "outputs": [],
   "source": [
    "\n",
    "for i, key in enumerate(name_4value.keys()):\n",
    "    #load tensorboard\n",
    "    print(key)\n",
    "   \n",
    "    event_list_path=search_files_info(name_4value[key])\n",
    "    ea=event_accumulator.EventAccumulator(name_4value[key]+event_list_path[0]) \n",
    "    ea.Reload()\n",
    "    print(ea.scalars.Keys())\n",
    "    name=ea.scalars.Keys()[0]\n",
    "    steps=len(ea.scalars.Items(name)) \n",
    "    print(steps)\n",
    "\n",
    "    loss_array=[]\n",
    "    for i in range (steps):\n",
    "        dict_loss[key].append(ea.scalars.Items(name)[i].value) \n"
   ]
  },
  {
   "cell_type": "code",
   "execution_count": null,
   "metadata": {},
   "outputs": [],
   "source": [
    "dict_loss['test_mse'] "
   ]
  },
  {
   "cell_type": "code",
   "execution_count": null,
   "metadata": {},
   "outputs": [],
   "source": [
    "dict_loss['test_u'] "
   ]
  },
  {
   "cell_type": "code",
   "execution_count": null,
   "metadata": {},
   "outputs": [],
   "source": [
    "#plot for the loss\n",
    "\n",
    "fig,ax=plt.subplots(figsize=(16,8))\n",
    "for key,value in dict_loss.items():\n",
    "\n",
    "\n",
    "    if  key == \"test_mse\" or key==\"test_u\":\n",
    "        continue\n",
    "        \n",
    "    else:\n",
    "        ax.plot(np.log10(dict_loss[key]),label=\"$log\"+\"_{10}$\"+key)\n",
    "\n",
    "   \n",
    "        \n",
    "\n",
    "for spine in ['top', 'bottom', 'left', 'right']:\n",
    "    ax.spines[spine].set_color('black')\n",
    "    ax.spines[spine].set_linewidth(2)\n",
    "\n",
    "# 显示图形\n",
    "ax.legend(loc=\"upper right\")\n",
    "ax.set_title(\"Loss\")\n",
    "plt.grid(True)\n",
    "plt.show()"
   ]
  },
  {
   "cell_type": "code",
   "execution_count": null,
   "metadata": {},
   "outputs": [],
   "source": []
  },
  {
   "cell_type": "code",
   "execution_count": null,
   "metadata": {},
   "outputs": [],
   "source": []
  }
 ],
 "metadata": {
  "kernelspec": {
   "name": "python3",
   "language": "python",
   "display_name": "Python 3 (ipykernel)"
  },
  "language_info": {
   "codemirror_mode": {
    "name": "ipython",
    "version": 3
   },
   "file_extension": ".py",
   "mimetype": "text/x-python",
   "name": "python",
   "nbconvert_exporter": "python",
   "pygments_lexer": "ipython3",
   "version": "3.9.12"
  }
 },
 "nbformat": 4,
 "nbformat_minor": 4
}
