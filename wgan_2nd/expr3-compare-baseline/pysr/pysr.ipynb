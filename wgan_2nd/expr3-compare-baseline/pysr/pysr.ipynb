{
 "cells": [
  {
   "cell_type": "code",
   "execution_count": 8,
   "metadata": {
    "collapsed": true,
    "ExecuteTime": {
     "end_time": "2023-11-09T05:02:39.044308700Z",
     "start_time": "2023-11-09T05:02:38.943308700Z"
    }
   },
   "outputs": [
    {
     "name": "stdout",
     "output_type": "stream",
     "text": [
      "Compiling Julia backend...\n"
     ]
    },
    {
     "name": "stderr",
     "output_type": "stream",
     "text": [
      "E:\\software\\anaconda\\envs\\neural4sol\\lib\\site-packages\\pysr\\sr.py:1346: UserWarning: Note: it looks like you are running in Jupyter. The progress bar will be turned off.\n",
      "  warnings.warn(\n"
     ]
    },
    {
     "ename": "CalledProcessError",
     "evalue": "Command '['julia', '-e', '...']' returned non-zero exit status 1.",
     "output_type": "error",
     "traceback": [
      "\u001B[1;31m---------------------------------------------------------------------------\u001B[0m",
      "\u001B[1;31mCalledProcessError\u001B[0m                        Traceback (most recent call last)",
      "Cell \u001B[1;32mIn[8], line 18\u001B[0m\n\u001B[0;32m     10\u001B[0m model \u001B[38;5;241m=\u001B[39m PySRRegressor(\n\u001B[0;32m     11\u001B[0m     niterations\u001B[38;5;241m=\u001B[39m\u001B[38;5;241m5\u001B[39m,\n\u001B[0;32m     12\u001B[0m     binary_operators\u001B[38;5;241m=\u001B[39m[\u001B[38;5;124m\"\u001B[39m\u001B[38;5;124m+\u001B[39m\u001B[38;5;124m\"\u001B[39m, \u001B[38;5;124m\"\u001B[39m\u001B[38;5;124m*\u001B[39m\u001B[38;5;124m\"\u001B[39m, \u001B[38;5;124m\"\u001B[39m\u001B[38;5;124m/\u001B[39m\u001B[38;5;124m\"\u001B[39m, \u001B[38;5;124m\"\u001B[39m\u001B[38;5;124m-\u001B[39m\u001B[38;5;124m\"\u001B[39m],\n\u001B[0;32m     13\u001B[0m     unary_operators\u001B[38;5;241m=\u001B[39m[\u001B[38;5;124m\"\u001B[39m\u001B[38;5;124msin\u001B[39m\u001B[38;5;124m\"\u001B[39m, \u001B[38;5;124m\"\u001B[39m\u001B[38;5;124mcos\u001B[39m\u001B[38;5;124m\"\u001B[39m, \u001B[38;5;124m\"\u001B[39m\u001B[38;5;124mexp\u001B[39m\u001B[38;5;124m\"\u001B[39m, \u001B[38;5;124m\"\u001B[39m\u001B[38;5;124mlog\u001B[39m\u001B[38;5;124m\"\u001B[39m, \u001B[38;5;124m\"\u001B[39m\u001B[38;5;124mabs\u001B[39m\u001B[38;5;124m\"\u001B[39m, \u001B[38;5;124m\"\u001B[39m\u001B[38;5;124msqrt\u001B[39m\u001B[38;5;124m\"\u001B[39m],\n\u001B[0;32m     14\u001B[0m     progress\u001B[38;5;241m=\u001B[39m\u001B[38;5;28;01mTrue\u001B[39;00m  \u001B[38;5;66;03m# Set this to True to try and force the progress bar.\u001B[39;00m\n\u001B[0;32m     15\u001B[0m )\n\u001B[0;32m     17\u001B[0m \u001B[38;5;66;03m# Fit the model on the data:\u001B[39;00m\n\u001B[1;32m---> 18\u001B[0m \u001B[43mmodel\u001B[49m\u001B[38;5;241;43m.\u001B[39;49m\u001B[43mfit\u001B[49m\u001B[43m(\u001B[49m\u001B[43mX\u001B[49m\u001B[43m,\u001B[49m\u001B[43m \u001B[49m\u001B[43my\u001B[49m\u001B[43m)\u001B[49m\n\u001B[0;32m     20\u001B[0m \u001B[38;5;66;03m# Print the discovered equations:\u001B[39;00m\n\u001B[0;32m     21\u001B[0m \u001B[38;5;28mprint\u001B[39m(model)\n",
      "File \u001B[1;32mE:\\software\\anaconda\\envs\\neural4sol\\lib\\site-packages\\pysr\\sr.py:1970\u001B[0m, in \u001B[0;36mPySRRegressor.fit\u001B[1;34m(self, X, y, Xresampled, weights, variable_names, X_units, y_units)\u001B[0m\n\u001B[0;32m   1967\u001B[0m     \u001B[38;5;28mself\u001B[39m\u001B[38;5;241m.\u001B[39m_checkpoint()\n\u001B[0;32m   1969\u001B[0m \u001B[38;5;66;03m# Perform the search:\u001B[39;00m\n\u001B[1;32m-> 1970\u001B[0m \u001B[38;5;28;43mself\u001B[39;49m\u001B[38;5;241;43m.\u001B[39;49m\u001B[43m_run\u001B[49m\u001B[43m(\u001B[49m\u001B[43mX\u001B[49m\u001B[43m,\u001B[49m\u001B[43m \u001B[49m\u001B[43my\u001B[49m\u001B[43m,\u001B[49m\u001B[43m \u001B[49m\u001B[43mmutated_params\u001B[49m\u001B[43m,\u001B[49m\u001B[43m \u001B[49m\u001B[43mweights\u001B[49m\u001B[38;5;241;43m=\u001B[39;49m\u001B[43mweights\u001B[49m\u001B[43m,\u001B[49m\u001B[43m \u001B[49m\u001B[43mseed\u001B[49m\u001B[38;5;241;43m=\u001B[39;49m\u001B[43mseed\u001B[49m\u001B[43m)\u001B[49m\n\u001B[0;32m   1972\u001B[0m \u001B[38;5;66;03m# Then, after fit, we save again, so the pickle file contains\u001B[39;00m\n\u001B[0;32m   1973\u001B[0m \u001B[38;5;66;03m# the equations:\u001B[39;00m\n\u001B[0;32m   1974\u001B[0m \u001B[38;5;28;01mif\u001B[39;00m \u001B[38;5;129;01mnot\u001B[39;00m \u001B[38;5;28mself\u001B[39m\u001B[38;5;241m.\u001B[39mtemp_equation_file:\n",
      "File \u001B[1;32mE:\\software\\anaconda\\envs\\neural4sol\\lib\\site-packages\\pysr\\sr.py:1625\u001B[0m, in \u001B[0;36mPySRRegressor._run\u001B[1;34m(self, X, y, mutated_params, weights, seed)\u001B[0m\n\u001B[0;32m   1622\u001B[0m \u001B[38;5;28;01mif\u001B[39;00m \u001B[38;5;129;01mnot\u001B[39;00m already_ran \u001B[38;5;129;01mand\u001B[39;00m update_verbosity \u001B[38;5;241m!=\u001B[39m \u001B[38;5;241m0\u001B[39m:\n\u001B[0;32m   1623\u001B[0m     \u001B[38;5;28mprint\u001B[39m(\u001B[38;5;124m\"\u001B[39m\u001B[38;5;124mCompiling Julia backend...\u001B[39m\u001B[38;5;124m\"\u001B[39m)\n\u001B[1;32m-> 1625\u001B[0m Main \u001B[38;5;241m=\u001B[39m \u001B[43minit_julia\u001B[49m\u001B[43m(\u001B[49m\u001B[38;5;28;43mself\u001B[39;49m\u001B[38;5;241;43m.\u001B[39;49m\u001B[43mjulia_project\u001B[49m\u001B[43m,\u001B[49m\u001B[43m \u001B[49m\u001B[43mjulia_kwargs\u001B[49m\u001B[38;5;241;43m=\u001B[39;49m\u001B[43mjulia_kwargs\u001B[49m\u001B[43m)\u001B[49m\n\u001B[0;32m   1627\u001B[0m \u001B[38;5;28;01mif\u001B[39;00m cluster_manager \u001B[38;5;129;01mis\u001B[39;00m \u001B[38;5;129;01mnot\u001B[39;00m \u001B[38;5;28;01mNone\u001B[39;00m:\n\u001B[0;32m   1628\u001B[0m     cluster_manager \u001B[38;5;241m=\u001B[39m _load_cluster_manager(Main, cluster_manager)\n",
      "File \u001B[1;32mE:\\software\\anaconda\\envs\\neural4sol\\lib\\site-packages\\pysr\\julia_helpers.py:185\u001B[0m, in \u001B[0;36minit_julia\u001B[1;34m(julia_project, quiet, julia_kwargs, return_aux)\u001B[0m\n\u001B[0;32m    181\u001B[0m     julia_kwargs \u001B[38;5;241m=\u001B[39m {\u001B[38;5;124m\"\u001B[39m\u001B[38;5;124moptimize\u001B[39m\u001B[38;5;124m\"\u001B[39m: \u001B[38;5;241m3\u001B[39m}\n\u001B[0;32m    183\u001B[0m \u001B[38;5;28;01mfrom\u001B[39;00m \u001B[38;5;21;01mjulia\u001B[39;00m\u001B[38;5;21;01m.\u001B[39;00m\u001B[38;5;21;01mcore\u001B[39;00m \u001B[38;5;28;01mimport\u001B[39;00m JuliaInfo, UnsupportedPythonError\n\u001B[1;32m--> 185\u001B[0m \u001B[43m_julia_version_assertion\u001B[49m\u001B[43m(\u001B[49m\u001B[43m)\u001B[49m\n\u001B[0;32m    186\u001B[0m processed_julia_project, is_shared \u001B[38;5;241m=\u001B[39m _process_julia_project(julia_project)\n\u001B[0;32m    187\u001B[0m _set_julia_project_env(processed_julia_project, is_shared)\n",
      "File \u001B[1;32mE:\\software\\anaconda\\envs\\neural4sol\\lib\\site-packages\\pysr\\julia_helpers.py:283\u001B[0m, in \u001B[0;36m_julia_version_assertion\u001B[1;34m()\u001B[0m\n\u001B[0;32m    282\u001B[0m \u001B[38;5;28;01mdef\u001B[39;00m \u001B[38;5;21m_julia_version_assertion\u001B[39m():\n\u001B[1;32m--> 283\u001B[0m     \u001B[38;5;28;01mif\u001B[39;00m \u001B[38;5;129;01mnot\u001B[39;00m \u001B[43mis_julia_version_greater_eq\u001B[49m\u001B[43m(\u001B[49m\u001B[43mversion\u001B[49m\u001B[38;5;241;43m=\u001B[39;49m\u001B[43m(\u001B[49m\u001B[38;5;241;43m1\u001B[39;49m\u001B[43m,\u001B[49m\u001B[43m \u001B[49m\u001B[38;5;241;43m6\u001B[39;49m\u001B[43m,\u001B[49m\u001B[43m \u001B[49m\u001B[38;5;241;43m0\u001B[39;49m\u001B[43m)\u001B[49m\u001B[43m)\u001B[49m:\n\u001B[0;32m    284\u001B[0m         \u001B[38;5;28;01mraise\u001B[39;00m \u001B[38;5;167;01mNotImplementedError\u001B[39;00m(\n\u001B[0;32m    285\u001B[0m             \u001B[38;5;124m\"\u001B[39m\u001B[38;5;124mPySR requires Julia 1.6.0 or greater. \u001B[39m\u001B[38;5;124m\"\u001B[39m\n\u001B[0;32m    286\u001B[0m             \u001B[38;5;124m\"\u001B[39m\u001B[38;5;124mPlease update your Julia installation.\u001B[39m\u001B[38;5;124m\"\u001B[39m\n\u001B[0;32m    287\u001B[0m         )\n",
      "File \u001B[1;32mE:\\software\\anaconda\\envs\\neural4sol\\lib\\site-packages\\pysr\\julia_helpers.py:147\u001B[0m, in \u001B[0;36mis_julia_version_greater_eq\u001B[1;34m(juliainfo, version)\u001B[0m\n\u001B[0;32m    145\u001B[0m \u001B[38;5;250m\u001B[39m\u001B[38;5;124;03m\"\"\"Check if Julia version is greater than specified version.\"\"\"\u001B[39;00m\n\u001B[0;32m    146\u001B[0m \u001B[38;5;28;01mif\u001B[39;00m juliainfo \u001B[38;5;129;01mis\u001B[39;00m \u001B[38;5;28;01mNone\u001B[39;00m:\n\u001B[1;32m--> 147\u001B[0m     juliainfo \u001B[38;5;241m=\u001B[39m \u001B[43m_load_juliainfo\u001B[49m\u001B[43m(\u001B[49m\u001B[43m)\u001B[49m\n\u001B[0;32m    148\u001B[0m current_version \u001B[38;5;241m=\u001B[39m (\n\u001B[0;32m    149\u001B[0m     juliainfo\u001B[38;5;241m.\u001B[39mversion_major,\n\u001B[0;32m    150\u001B[0m     juliainfo\u001B[38;5;241m.\u001B[39mversion_minor,\n\u001B[0;32m    151\u001B[0m     juliainfo\u001B[38;5;241m.\u001B[39mversion_patch,\n\u001B[0;32m    152\u001B[0m )\n\u001B[0;32m    153\u001B[0m \u001B[38;5;28;01mreturn\u001B[39;00m current_version \u001B[38;5;241m>\u001B[39m\u001B[38;5;241m=\u001B[39m version\n",
      "File \u001B[1;32mE:\\software\\anaconda\\envs\\neural4sol\\lib\\site-packages\\pysr\\julia_helpers.py:25\u001B[0m, in \u001B[0;36m_load_juliainfo\u001B[1;34m()\u001B[0m\n\u001B[0;32m     22\u001B[0m \u001B[38;5;28;01mfrom\u001B[39;00m \u001B[38;5;21;01mjulia\u001B[39;00m\u001B[38;5;21;01m.\u001B[39;00m\u001B[38;5;21;01mcore\u001B[39;00m \u001B[38;5;28;01mimport\u001B[39;00m JuliaInfo\n\u001B[0;32m     24\u001B[0m \u001B[38;5;28;01mtry\u001B[39;00m:\n\u001B[1;32m---> 25\u001B[0m     juliainfo \u001B[38;5;241m=\u001B[39m \u001B[43mJuliaInfo\u001B[49m\u001B[38;5;241;43m.\u001B[39;49m\u001B[43mload\u001B[49m\u001B[43m(\u001B[49m\u001B[43mjulia\u001B[49m\u001B[38;5;241;43m=\u001B[39;49m\u001B[38;5;124;43m\"\u001B[39;49m\u001B[38;5;124;43mjulia\u001B[39;49m\u001B[38;5;124;43m\"\u001B[39;49m\u001B[43m)\u001B[49m\n\u001B[0;32m     26\u001B[0m \u001B[38;5;28;01mexcept\u001B[39;00m \u001B[38;5;167;01mFileNotFoundError\u001B[39;00m:\n\u001B[0;32m     27\u001B[0m     env_path \u001B[38;5;241m=\u001B[39m os\u001B[38;5;241m.\u001B[39menviron[\u001B[38;5;124m\"\u001B[39m\u001B[38;5;124mPATH\u001B[39m\u001B[38;5;124m\"\u001B[39m]\n",
      "File \u001B[1;32mE:\\software\\anaconda\\envs\\neural4sol\\lib\\site-packages\\julia\\juliainfo.py:87\u001B[0m, in \u001B[0;36mJuliaInfo.load\u001B[1;34m(cls, julia, **popen_kwargs)\u001B[0m\n\u001B[0;32m     83\u001B[0m         \u001B[38;5;28;01mraise\u001B[39;00m subprocess\u001B[38;5;241m.\u001B[39mCalledProcessError(\n\u001B[0;32m     84\u001B[0m             retcode, [julia, \u001B[38;5;124m\"\u001B[39m\u001B[38;5;124m-e\u001B[39m\u001B[38;5;124m\"\u001B[39m, \u001B[38;5;124m\"\u001B[39m\u001B[38;5;124m...\u001B[39m\u001B[38;5;124m\"\u001B[39m], output\n\u001B[0;32m     85\u001B[0m         )\n\u001B[0;32m     86\u001B[0m     \u001B[38;5;28;01melse\u001B[39;00m:\n\u001B[1;32m---> 87\u001B[0m         \u001B[38;5;28;01mraise\u001B[39;00m subprocess\u001B[38;5;241m.\u001B[39mCalledProcessError(\n\u001B[0;32m     88\u001B[0m             retcode, [julia, \u001B[38;5;124m\"\u001B[39m\u001B[38;5;124m-e\u001B[39m\u001B[38;5;124m\"\u001B[39m, \u001B[38;5;124m\"\u001B[39m\u001B[38;5;124m...\u001B[39m\u001B[38;5;124m\"\u001B[39m], stdout, stderr\n\u001B[0;32m     89\u001B[0m         )\n\u001B[0;32m     91\u001B[0m stderr \u001B[38;5;241m=\u001B[39m stderr\u001B[38;5;241m.\u001B[39mstrip()\n\u001B[0;32m     92\u001B[0m \u001B[38;5;28;01mif\u001B[39;00m stderr:\n",
      "\u001B[1;31mCalledProcessError\u001B[0m: Command '['julia', '-e', '...']' returned non-zero exit status 1."
     ]
    }
   ],
   "source": [
    "import numpy as np\n",
    "from pysr import PySRRegressor\n",
    "\n",
    "# Generate some synthetic data to test:\n",
    "X = np.random.randn(100, 5)  # 100 samples, 5 features\n",
    "y = 2.0 * np.sin(X[:, 0]) + X[:, 1] ** 2 - 0.5  # A simple target function\n",
    "\n",
    "# Initialize the PySRRegressor:\n",
    "\n",
    "model = PySRRegressor(\n",
    "    niterations=5,\n",
    "    binary_operators=[\"+\", \"*\", \"/\", \"-\"],\n",
    "    unary_operators=[\"sin\", \"cos\", \"exp\", \"log\", \"abs\", \"sqrt\"],\n",
    "    progress=True  # Set this to True to try and force the progress bar.\n",
    ")\n",
    "\n",
    "# Fit the model on the data:\n",
    "model.fit(X, y)\n",
    "\n",
    "# Print the discovered equations:\n",
    "print(model)\n"
   ]
  },
  {
   "cell_type": "code",
   "execution_count": 5,
   "outputs": [
    {
     "ename": "CalledProcessError",
     "evalue": "Command '['julia', '-e', '...']' returned non-zero exit status 1.",
     "output_type": "error",
     "traceback": [
      "\u001B[1;31m---------------------------------------------------------------------------\u001B[0m",
      "\u001B[1;31mCalledProcessError\u001B[0m                        Traceback (most recent call last)",
      "Cell \u001B[1;32mIn[5], line 2\u001B[0m\n\u001B[0;32m      1\u001B[0m \u001B[38;5;28;01mimport\u001B[39;00m \u001B[38;5;21;01mpysr\u001B[39;00m\n\u001B[1;32m----> 2\u001B[0m \u001B[43mpysr\u001B[49m\u001B[38;5;241;43m.\u001B[39;49m\u001B[43minstall\u001B[49m\u001B[43m(\u001B[49m\u001B[43m)\u001B[49m\n",
      "File \u001B[1;32mE:\\software\\anaconda\\envs\\neural4sol\\lib\\site-packages\\pysr\\julia_helpers.py:76\u001B[0m, in \u001B[0;36minstall\u001B[1;34m(julia_project, quiet, precompile)\u001B[0m\n\u001B[0;32m     69\u001B[0m \u001B[38;5;250m\u001B[39m\u001B[38;5;124;03m\"\"\"\u001B[39;00m\n\u001B[0;32m     70\u001B[0m \u001B[38;5;124;03mInstall PyCall.jl and all required dependencies for SymbolicRegression.jl.\u001B[39;00m\n\u001B[0;32m     71\u001B[0m \n\u001B[0;32m     72\u001B[0m \u001B[38;5;124;03mAlso updates the local Julia registry.\u001B[39;00m\n\u001B[0;32m     73\u001B[0m \u001B[38;5;124;03m\"\"\"\u001B[39;00m\n\u001B[0;32m     74\u001B[0m \u001B[38;5;28;01mimport\u001B[39;00m \u001B[38;5;21;01mjulia\u001B[39;00m\n\u001B[1;32m---> 76\u001B[0m \u001B[43m_julia_version_assertion\u001B[49m\u001B[43m(\u001B[49m\u001B[43m)\u001B[49m\n\u001B[0;32m     77\u001B[0m \u001B[38;5;66;03m# Set JULIA_PROJECT so that we install in the pysr environment\u001B[39;00m\n\u001B[0;32m     78\u001B[0m processed_julia_project, is_shared \u001B[38;5;241m=\u001B[39m _process_julia_project(julia_project)\n",
      "File \u001B[1;32mE:\\software\\anaconda\\envs\\neural4sol\\lib\\site-packages\\pysr\\julia_helpers.py:283\u001B[0m, in \u001B[0;36m_julia_version_assertion\u001B[1;34m()\u001B[0m\n\u001B[0;32m    282\u001B[0m \u001B[38;5;28;01mdef\u001B[39;00m \u001B[38;5;21m_julia_version_assertion\u001B[39m():\n\u001B[1;32m--> 283\u001B[0m     \u001B[38;5;28;01mif\u001B[39;00m \u001B[38;5;129;01mnot\u001B[39;00m \u001B[43mis_julia_version_greater_eq\u001B[49m\u001B[43m(\u001B[49m\u001B[43mversion\u001B[49m\u001B[38;5;241;43m=\u001B[39;49m\u001B[43m(\u001B[49m\u001B[38;5;241;43m1\u001B[39;49m\u001B[43m,\u001B[49m\u001B[43m \u001B[49m\u001B[38;5;241;43m6\u001B[39;49m\u001B[43m,\u001B[49m\u001B[43m \u001B[49m\u001B[38;5;241;43m0\u001B[39;49m\u001B[43m)\u001B[49m\u001B[43m)\u001B[49m:\n\u001B[0;32m    284\u001B[0m         \u001B[38;5;28;01mraise\u001B[39;00m \u001B[38;5;167;01mNotImplementedError\u001B[39;00m(\n\u001B[0;32m    285\u001B[0m             \u001B[38;5;124m\"\u001B[39m\u001B[38;5;124mPySR requires Julia 1.6.0 or greater. \u001B[39m\u001B[38;5;124m\"\u001B[39m\n\u001B[0;32m    286\u001B[0m             \u001B[38;5;124m\"\u001B[39m\u001B[38;5;124mPlease update your Julia installation.\u001B[39m\u001B[38;5;124m\"\u001B[39m\n\u001B[0;32m    287\u001B[0m         )\n",
      "File \u001B[1;32mE:\\software\\anaconda\\envs\\neural4sol\\lib\\site-packages\\pysr\\julia_helpers.py:147\u001B[0m, in \u001B[0;36mis_julia_version_greater_eq\u001B[1;34m(juliainfo, version)\u001B[0m\n\u001B[0;32m    145\u001B[0m \u001B[38;5;250m\u001B[39m\u001B[38;5;124;03m\"\"\"Check if Julia version is greater than specified version.\"\"\"\u001B[39;00m\n\u001B[0;32m    146\u001B[0m \u001B[38;5;28;01mif\u001B[39;00m juliainfo \u001B[38;5;129;01mis\u001B[39;00m \u001B[38;5;28;01mNone\u001B[39;00m:\n\u001B[1;32m--> 147\u001B[0m     juliainfo \u001B[38;5;241m=\u001B[39m \u001B[43m_load_juliainfo\u001B[49m\u001B[43m(\u001B[49m\u001B[43m)\u001B[49m\n\u001B[0;32m    148\u001B[0m current_version \u001B[38;5;241m=\u001B[39m (\n\u001B[0;32m    149\u001B[0m     juliainfo\u001B[38;5;241m.\u001B[39mversion_major,\n\u001B[0;32m    150\u001B[0m     juliainfo\u001B[38;5;241m.\u001B[39mversion_minor,\n\u001B[0;32m    151\u001B[0m     juliainfo\u001B[38;5;241m.\u001B[39mversion_patch,\n\u001B[0;32m    152\u001B[0m )\n\u001B[0;32m    153\u001B[0m \u001B[38;5;28;01mreturn\u001B[39;00m current_version \u001B[38;5;241m>\u001B[39m\u001B[38;5;241m=\u001B[39m version\n",
      "File \u001B[1;32mE:\\software\\anaconda\\envs\\neural4sol\\lib\\site-packages\\pysr\\julia_helpers.py:25\u001B[0m, in \u001B[0;36m_load_juliainfo\u001B[1;34m()\u001B[0m\n\u001B[0;32m     22\u001B[0m \u001B[38;5;28;01mfrom\u001B[39;00m \u001B[38;5;21;01mjulia\u001B[39;00m\u001B[38;5;21;01m.\u001B[39;00m\u001B[38;5;21;01mcore\u001B[39;00m \u001B[38;5;28;01mimport\u001B[39;00m JuliaInfo\n\u001B[0;32m     24\u001B[0m \u001B[38;5;28;01mtry\u001B[39;00m:\n\u001B[1;32m---> 25\u001B[0m     juliainfo \u001B[38;5;241m=\u001B[39m \u001B[43mJuliaInfo\u001B[49m\u001B[38;5;241;43m.\u001B[39;49m\u001B[43mload\u001B[49m\u001B[43m(\u001B[49m\u001B[43mjulia\u001B[49m\u001B[38;5;241;43m=\u001B[39;49m\u001B[38;5;124;43m\"\u001B[39;49m\u001B[38;5;124;43mjulia\u001B[39;49m\u001B[38;5;124;43m\"\u001B[39;49m\u001B[43m)\u001B[49m\n\u001B[0;32m     26\u001B[0m \u001B[38;5;28;01mexcept\u001B[39;00m \u001B[38;5;167;01mFileNotFoundError\u001B[39;00m:\n\u001B[0;32m     27\u001B[0m     env_path \u001B[38;5;241m=\u001B[39m os\u001B[38;5;241m.\u001B[39menviron[\u001B[38;5;124m\"\u001B[39m\u001B[38;5;124mPATH\u001B[39m\u001B[38;5;124m\"\u001B[39m]\n",
      "File \u001B[1;32mE:\\software\\anaconda\\envs\\neural4sol\\lib\\site-packages\\julia\\juliainfo.py:87\u001B[0m, in \u001B[0;36mJuliaInfo.load\u001B[1;34m(cls, julia, **popen_kwargs)\u001B[0m\n\u001B[0;32m     83\u001B[0m         \u001B[38;5;28;01mraise\u001B[39;00m subprocess\u001B[38;5;241m.\u001B[39mCalledProcessError(\n\u001B[0;32m     84\u001B[0m             retcode, [julia, \u001B[38;5;124m\"\u001B[39m\u001B[38;5;124m-e\u001B[39m\u001B[38;5;124m\"\u001B[39m, \u001B[38;5;124m\"\u001B[39m\u001B[38;5;124m...\u001B[39m\u001B[38;5;124m\"\u001B[39m], output\n\u001B[0;32m     85\u001B[0m         )\n\u001B[0;32m     86\u001B[0m     \u001B[38;5;28;01melse\u001B[39;00m:\n\u001B[1;32m---> 87\u001B[0m         \u001B[38;5;28;01mraise\u001B[39;00m subprocess\u001B[38;5;241m.\u001B[39mCalledProcessError(\n\u001B[0;32m     88\u001B[0m             retcode, [julia, \u001B[38;5;124m\"\u001B[39m\u001B[38;5;124m-e\u001B[39m\u001B[38;5;124m\"\u001B[39m, \u001B[38;5;124m\"\u001B[39m\u001B[38;5;124m...\u001B[39m\u001B[38;5;124m\"\u001B[39m], stdout, stderr\n\u001B[0;32m     89\u001B[0m         )\n\u001B[0;32m     91\u001B[0m stderr \u001B[38;5;241m=\u001B[39m stderr\u001B[38;5;241m.\u001B[39mstrip()\n\u001B[0;32m     92\u001B[0m \u001B[38;5;28;01mif\u001B[39;00m stderr:\n",
      "\u001B[1;31mCalledProcessError\u001B[0m: Command '['julia', '-e', '...']' returned non-zero exit status 1."
     ]
    }
   ],
   "source": [
    "import pysr\n",
    "pysr.install()"
   ],
   "metadata": {
    "collapsed": false,
    "ExecuteTime": {
     "end_time": "2023-11-09T04:57:07.480983300Z",
     "start_time": "2023-11-09T04:57:07.397983200Z"
    }
   }
  },
  {
   "cell_type": "code",
   "execution_count": null,
   "outputs": [],
   "source": [],
   "metadata": {
    "collapsed": false
   }
  }
 ],
 "metadata": {
  "kernelspec": {
   "display_name": "Python 3",
   "language": "python",
   "name": "python3"
  },
  "language_info": {
   "codemirror_mode": {
    "name": "ipython",
    "version": 2
   },
   "file_extension": ".py",
   "mimetype": "text/x-python",
   "name": "python",
   "nbconvert_exporter": "python",
   "pygments_lexer": "ipython2",
   "version": "2.7.6"
  }
 },
 "nbformat": 4,
 "nbformat_minor": 0
}
