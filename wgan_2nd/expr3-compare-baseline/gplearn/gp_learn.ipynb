{
 "cells": [
  {
   "cell_type": "markdown",
   "source": [
    "## here we pick the data from our .pth"
   ],
   "metadata": {
    "collapsed": false
   }
  },
  {
   "cell_type": "code",
   "execution_count": 31,
   "outputs": [
    {
     "name": "stdout",
     "output_type": "stream",
     "text": [
      "The autoreload extension is already loaded. To reload it, use:\n",
      "  %reload_ext autoreload\n"
     ]
    }
   ],
   "source": [
    "%load_ext autoreload\n",
    "%autoreload 2\n",
    "import sys\n",
    "sys.path.append('..')\n",
    "import warnings\n",
    "warnings.filterwarnings(\"ignore\")"
   ],
   "metadata": {
    "collapsed": false,
    "ExecuteTime": {
     "end_time": "2023-10-26T07:19:35.216456Z",
     "start_time": "2023-10-26T07:19:35.181185Z"
    }
   }
  },
  {
   "cell_type": "code",
   "execution_count": 32,
   "outputs": [],
   "source": [
    "import utlis_2nd.cusdom as custom\n",
    "read_abso_path=\"/Users/liangaoming/Documents/Ai_station/neural_find_sol/wgan_2nd/complex_center_dataset/combined_data.pt\""
   ],
   "metadata": {
    "collapsed": false,
    "ExecuteTime": {
     "end_time": "2023-10-26T07:19:35.912687Z",
     "start_time": "2023-10-26T07:19:35.883411Z"
    }
   }
  },
  {
   "cell_type": "code",
   "execution_count": 33,
   "outputs": [
    {
     "name": "stdout",
     "output_type": "stream",
     "text": [
      "load data & read yaml\n"
     ]
    },
    {
     "ename": "FileNotFoundError",
     "evalue": "[Errno 2] No such file or directory: 'expr.yaml'",
     "output_type": "error",
     "traceback": [
      "\u001B[0;31m---------------------------------------------------------------------------\u001B[0m",
      "\u001B[0;31mFileNotFoundError\u001B[0m                         Traceback (most recent call last)",
      "Cell \u001B[0;32mIn[33], line 3\u001B[0m\n\u001B[1;32m      1\u001B[0m \u001B[38;5;66;03m# split data & get the t_steps\u001B[39;00m\n\u001B[1;32m      2\u001B[0m train_loader,valid_loader,test_loader,yaml_config \u001B[38;5;241m=\u001B[39m\\\n\u001B[0;32m----> 3\u001B[0m     \u001B[43mcustom\u001B[49m\u001B[38;5;241;43m.\u001B[39;49m\u001B[43mreturn_train_valid_test4loader\u001B[49m\u001B[43m(\u001B[49m\u001B[43mabso_path\u001B[49m\u001B[38;5;241;43m=\u001B[39;49m\u001B[43mread_abso_path\u001B[49m\u001B[43m)\u001B[49m\n",
      "File \u001B[0;32m~/Documents/Ai_station/neural_find_sol/utlis_2nd/cusdom.py:46\u001B[0m, in \u001B[0;36mreturn_train_valid_test4loader\u001B[0;34m(abso_path, yaml_path)\u001B[0m\n\u001B[1;32m     38\u001B[0m \u001B[38;5;250m\u001B[39m\u001B[38;5;124;03m'''\u001B[39;00m\n\u001B[1;32m     39\u001B[0m \u001B[38;5;124;03minput params: 1.dataset_path\u001B[39;00m\n\u001B[1;32m     40\u001B[0m \u001B[38;5;124;03m              2.batch_size\u001B[39;00m\n\u001B[0;32m   (...)\u001B[0m\n\u001B[1;32m     43\u001B[0m \u001B[38;5;124;03m:return: loader of train,valid,test,and t_steps\u001B[39;00m\n\u001B[1;32m     44\u001B[0m \u001B[38;5;124;03m'''\u001B[39;00m\n\u001B[1;32m     45\u001B[0m \u001B[38;5;28mprint\u001B[39m(\u001B[38;5;124m\"\u001B[39m\u001B[38;5;124mload data & read yaml\u001B[39m\u001B[38;5;124m\"\u001B[39m)\n\u001B[0;32m---> 46\u001B[0m yaml_config \u001B[38;5;241m=\u001B[39m \u001B[43mread_yaml_file\u001B[49m\u001B[43m(\u001B[49m\u001B[43myaml_path\u001B[49m\u001B[43m)\u001B[49m\n\u001B[1;32m     47\u001B[0m torch\u001B[38;5;241m.\u001B[39mmanual_seed(yaml_config[\u001B[38;5;124m\"\u001B[39m\u001B[38;5;124mseed\u001B[39m\u001B[38;5;124m\"\u001B[39m])\n\u001B[1;32m     48\u001B[0m custom_data\u001B[38;5;241m=\u001B[39mCustomDataset(abso_path)\n",
      "File \u001B[0;32m~/Documents/Ai_station/neural_find_sol/utlis_2nd/cusdom.py:30\u001B[0m, in \u001B[0;36mread_yaml_file\u001B[0;34m(file_path)\u001B[0m\n\u001B[1;32m     25\u001B[0m \u001B[38;5;28;01mdef\u001B[39;00m \u001B[38;5;21mread_yaml_file\u001B[39m(file_path):\n\u001B[1;32m     26\u001B[0m \u001B[38;5;250m    \u001B[39m\u001B[38;5;124;03m'''\u001B[39;00m\n\u001B[1;32m     27\u001B[0m \u001B[38;5;124;03m    :param file_path:  'expr.yaml'\u001B[39;00m\n\u001B[1;32m     28\u001B[0m \u001B[38;5;124;03m    :return: data in the yaml like a dcit\u001B[39;00m\n\u001B[1;32m     29\u001B[0m \u001B[38;5;124;03m    '''\u001B[39;00m\n\u001B[0;32m---> 30\u001B[0m     \u001B[38;5;28;01mwith\u001B[39;00m \u001B[38;5;28;43mopen\u001B[39;49m\u001B[43m(\u001B[49m\u001B[43mfile_path\u001B[49m\u001B[43m,\u001B[49m\u001B[43m \u001B[49m\u001B[38;5;124;43m'\u001B[39;49m\u001B[38;5;124;43mr\u001B[39;49m\u001B[38;5;124;43m'\u001B[39;49m\u001B[43m)\u001B[49m \u001B[38;5;28;01mas\u001B[39;00m file:\n\u001B[1;32m     31\u001B[0m         data \u001B[38;5;241m=\u001B[39m yaml\u001B[38;5;241m.\u001B[39msafe_load(file)\n\u001B[1;32m     32\u001B[0m     \u001B[38;5;28;01mreturn\u001B[39;00m data\n",
      "\u001B[0;31mFileNotFoundError\u001B[0m: [Errno 2] No such file or directory: 'expr.yaml'"
     ]
    }
   ],
   "source": [
    "# split data & get the t_steps\n",
    "train_loader,valid_loader,test_loader,yaml_config =\\\n",
    "    custom.return_train_valid_test4loader(abso_path=read_abso_path)"
   ],
   "metadata": {
    "collapsed": false,
    "ExecuteTime": {
     "end_time": "2023-10-26T07:19:51.939524Z",
     "start_time": "2023-10-26T07:19:51.880500Z"
    }
   }
  },
  {
   "cell_type": "code",
   "execution_count": null,
   "outputs": [],
   "source": [],
   "metadata": {
    "collapsed": false
   }
  }
 ],
 "metadata": {
  "kernelspec": {
   "display_name": "Python 3",
   "language": "python",
   "name": "python3"
  },
  "language_info": {
   "codemirror_mode": {
    "name": "ipython",
    "version": 2
   },
   "file_extension": ".py",
   "mimetype": "text/x-python",
   "name": "python",
   "nbconvert_exporter": "python",
   "pygments_lexer": "ipython2",
   "version": "2.7.6"
  }
 },
 "nbformat": 4,
 "nbformat_minor": 0
}
